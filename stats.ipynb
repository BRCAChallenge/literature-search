{
 "cells": [
  {
   "cell_type": "markdown",
   "metadata": {},
   "source": [
    "# Literature Search Crawl Report\n",
    "\n",
    "Generate various stats validations from the artifacts of the literature search"
   ]
  },
  {
   "cell_type": "code",
   "execution_count": 11,
   "metadata": {},
   "outputs": [],
   "source": [
    "import os\n",
    "import re\n",
    "import requests\n",
    "import json\n",
    "import sqlite3\n",
    "import pandas as pd\n",
    "import pprint\n",
    "import matplotlib.pyplot as plt\n",
    "    \n",
    "os.chdir(os.path.expanduser(\"/home/jovyan/data/pubmunch/crawl/\"))"
   ]
  },
  {
   "cell_type": "code",
   "execution_count": 12,
   "metadata": {},
   "outputs": [
    {
     "name": "stdout",
     "output_type": "stream",
     "text": [
      "2018-11-14T12:00:00-0800\r\n"
     ]
    }
   ],
   "source": [
    "!cat pubs-date.txt"
   ]
  },
  {
   "cell_type": "markdown",
   "metadata": {},
   "source": [
    "## Download"
   ]
  },
  {
   "cell_type": "code",
   "execution_count": 13,
   "metadata": {},
   "outputs": [
    {
     "name": "stdout",
     "output_type": "stream",
     "text": [
      "189 PMIDs attempted\n"
     ]
    }
   ],
   "source": [
    "with open(\"download/pmids.txt\") as f:\n",
    "    pmids = set(f.read().splitlines())\n",
    "print(\"{} PMIDs attempted\".format(len(pmids)))"
   ]
  },
  {
   "cell_type": "code",
   "execution_count": 14,
   "metadata": {},
   "outputs": [
    {
     "name": "stdout",
     "output_type": "stream",
     "text": [
      "160 (85%) succeeded\n",
      " 29 (15%) failed\n",
      "\n",
      "OK                     160\n",
      "invalidPdf              17\n",
      "HighwirePdfNotValid      4\n",
      "noSpringerLicense        3\n",
      "noCrawlerSuccess         3\n",
      "noLicense                1\n",
      "httpError                1\n",
      "Name: status, dtype: int64\n"
     ]
    }
   ],
   "source": [
    "download = pd.read_csv(\"download/docStatus.tab\",\n",
    "                       sep=\"\\t\", header=None, index_col=False, dtype=str,\n",
    "                       names=[\"pmid\", \"status\", \"msg\", \"crawler\", \"journal\", \"year\", \"numFiles\", \"detail\"])\n",
    "\n",
    "print(\"{} ({}%) succeeded\\n {} ({}%) failed\\n\".format(\n",
    "    download[download.status == \"OK\"].shape[0], \n",
    "    round(100 * download[download.status == \"OK\"].shape[0] / len(pmids)),\n",
    "    download[download.status != \"OK\"].shape[0], \n",
    "    round(100 * download[download.status != \"OK\"].shape[0] / len(pmids))))\n",
    "print(download.status.value_counts())"
   ]
  },
  {
   "cell_type": "markdown",
   "metadata": {},
   "source": [
    "## Find"
   ]
  },
  {
   "cell_type": "code",
   "execution_count": 15,
   "metadata": {},
   "outputs": [
    {
     "name": "stdout",
     "output_type": "stream",
     "text": [
      "24578 variants in BRCA Exchange\n",
      "6460 mentions found\n",
      "10426 matches found\n"
     ]
    }
   ],
   "source": [
    "variants = pd.read_csv(\"output/release/built_with_change_types.tsv\",\n",
    "                       sep=\"\\t\", header=0, encoding=\"utf-8\",\n",
    "                       usecols=[\"pyhgvs_Genomic_Coordinate_38\", \"pyhgvs_cDNA\", \"Synonyms\"])\n",
    "    \n",
    "print(\"{} variants in BRCA Exchange\".format(variants.shape[0]))\n",
    "\n",
    "mentions = pd.read_csv(\"mutations-trimmed.tsv\",\n",
    "                       sep=\"\\t\", header=0, encoding=\"utf-8\", dtype=\"str\")\n",
    "print(\"{} mentions found\".format(mentions.shape[0]))\n",
    "\n",
    "matches = pd.read_csv(\"mentions-matched.tsv\", sep=\"\\t\", header=0, encoding=\"utf-8\")\n",
    "print(\"{} matches found\".format(matches.shape[0]))"
   ]
  },
  {
   "cell_type": "code",
   "execution_count": 16,
   "metadata": {},
   "outputs": [
    {
     "data": {
      "text/plain": [
       "count    10426.000000\n",
       "mean         6.968061\n",
       "std          3.124566\n",
       "min          1.000000\n",
       "25%          7.000000\n",
       "50%          7.000000\n",
       "75%         10.000000\n",
       "max         14.000000\n",
       "Name: points, dtype: float64"
      ]
     },
     "execution_count": 16,
     "metadata": {},
     "output_type": "execute_result"
    }
   ],
   "source": [
    "matches.points.describe()"
   ]
  },
  {
   "cell_type": "code",
   "execution_count": 17,
   "metadata": {},
   "outputs": [
    {
     "name": "stdout",
     "output_type": "stream",
     "text": [
      "150 Papers and 1966 Variants exported\n"
     ]
    }
   ],
   "source": [
    "with open(\"literature.json\") as f:\n",
    "    lit = json.loads(f.read())\n",
    "print(\"{} Papers and {} Variants exported\".format(len(lit[\"papers\"]), len(lit[\"variants\"])))"
   ]
  },
  {
   "cell_type": "code",
   "execution_count": 18,
   "metadata": {},
   "outputs": [
    {
     "name": "stdout",
     "output_type": "stream",
     "text": [
      "Papers that didn't yield any variants:\n",
      "{'18375895', '19070627', '11877378', '16786532', '10406662', '7545954', '10506595', '15533909', '15300854', '19287957', '12601471', '17279547', '12955719', '19393826', '12955716', '12552570', '12606139', '20054658', '20875879', '28122244', '9333265', '15829246', '10667592', '16211554', '16528612', '18493658', '16969499', '9805131', '18693280', '19150617', '17657584', '9523200', '16619214', '12815598', '18680205', '7939630', '20513136', '20020529', '11385711'}\n"
     ]
    }
   ],
   "source": [
    "print(\"Papers that didn't yield any variants:\")\n",
    "print(set(pmids) - set(lit[\"papers\"].keys()))"
   ]
  },
  {
   "cell_type": "code",
   "execution_count": 19,
   "metadata": {},
   "outputs": [],
   "source": [
    "# print(\"Max mentions for a single variant: {} {}\".format(\n",
    "#     exploded.groupby([\"pyhgvs_Genomic_Coordinate_38\"]).size().idxmax(),\n",
    "#     exploded.groupby([\"pyhgvs_Genomic_Coordinate_38\"]).size().max()))\n",
    "\n",
    "# print(\"Max mentions for a single paper from one variant: {} {}\".format(\n",
    "#     exploded.groupby([\"pyhgvs_Genomic_Coordinate_38\", \"pmid\"]).size().idxmax(),\n",
    "#     exploded.groupby([\"pyhgvs_Genomic_Coordinate_38\", \"pmid\"]).size().max()))\n",
    "\n",
    "# print(\"Paper referenced from the most variants: {} {}\".format(\n",
    "#     exploded.groupby([\"pmid\"]).size().idxmax(),\n",
    "#     exploded.groupby([\"pmid\"]).size().max()))"
   ]
  },
  {
   "cell_type": "markdown",
   "metadata": {},
   "source": [
    "## Founder Mutations\n",
    "\n",
    "Make sure the variant matches to several founder mutation articles as reported [here](https://github.com/BRCAChallenge/pubMunch-BRCA/issues/10) are present."
   ]
  },
  {
   "cell_type": "code",
   "execution_count": 20,
   "metadata": {},
   "outputs": [],
   "source": [
    "# Make sure all the articles were in the crawl\n",
    "assert set(['12473589', '15994883', '9042909', '21987798', '16397213', '20608970', '11352856', \n",
    " '9145676', '25192939', '21598239', '28122244', '14576434', '20215531', '18158280', '22430266']).issubset(pmids)"
   ]
  },
  {
   "cell_type": "code",
   "execution_count": 21,
   "metadata": {},
   "outputs": [
    {
     "name": "stdout",
     "output_type": "stream",
     "text": [
      "{'111111'}\n",
      "Not Crawled: {'111111'}\n"
     ]
    }
   ],
   "source": [
    "# BRCA1 185delAG: https://brcaexchange.org/variant/183889\n",
    "# chr17:g.43124027:ACT>A\n",
    "text = \"\"\"\n",
    "Abeliovich et al. 1997 à https://www.ncbi.nlm.nih.gov/pubmed/9042909 (in article title)\n",
    "Antoniou et al. 2005 à https://www.ncbi.nlm.nih.gov/pubmed/15994883 (in article title)\n",
    "Chodick et al. 2008 à https://www.ncbi.nlm.nih.gov/pubmed/18158280 (in article abstract)\n",
    "Elstrodt et al. 2006 à https://www.ncbi.nlm.nih.gov/pubmed/16397213 (in article abstract)\n",
    "Finkelman et al. 2012 à https://www.ncbi.nlm.nih.gov/pubmed/22430266 (in article abstract)\n",
    "Gabai-Kapara et al. 2014 à https://www.ncbi.nlm.nih.gov/pubmed/25192939 (in article introduction and methods)\n",
    "King et al. 2003 à https://www.ncbi.nlm.nih.gov/pubmed/14576434 (in article)\n",
    "Konishi et al. 2011 à https://www.ncbi.nlm.nih.gov/pubmed/21987798 (in abstract)\n",
    "Linger and Kruk 2010 à https://www.ncbi.nlm.nih.gov/pubmed/20608970 (in article)\n",
    "Satagopan et al. 2001 à https://www.ncbi.nlm.nih.gov/pubmed/11352856 (in abstract)\n",
    "Satagopan et al. 2002 à https://www.ncbi.nlm.nih.gov/pubmed/12473589 (in abstract)\n",
    "Stadler et al. 2012 à https://www.ncbi.nlm.nih.gov/pubmed/21598239 (in abstract)\n",
    "Struewing et al. 1997 à https://www.ncbi.nlm.nih.gov/pubmed/9145676 (in abstract)\n",
    "\n",
    "Struewing et al. 1997 à https://www.ncbi.nlm.nih.gov/pubmed/111111 Spikein :-)\n",
    "\"\"\"\n",
    "print(set(re.findall(r\"\\/(\\d+)\", text)).difference(\n",
    "    set([v[\"pmid\"] for v in lit[\"variants\"][\"chr17:g.43124027:ACT>A\"]])))\n",
    "print(\"Not Crawled:\", set(re.findall(r\"\\/(\\d+)\", text)) - set(pmids))"
   ]
  },
  {
   "cell_type": "code",
   "execution_count": 22,
   "metadata": {},
   "outputs": [
    {
     "name": "stdout",
     "output_type": "stream",
     "text": [
      "{'111111', '28122244'}\n",
      "Not Crawled: {'111111'}\n"
     ]
    }
   ],
   "source": [
    "# **BRCA1 5382insC: https://brcaexchange.org/variant/180141**\n",
    "# chr17:g.43057062:T>TG\n",
    "text = \"\"\"\n",
    "Abeliovich et al. 1997 à https://www.ncbi.nlm.nih.gov/pubmed/9042909 (in article title)\n",
    "Antoniou et al. 2005 à https://www.ncbi.nlm.nih.gov/pubmed/15994883 (in article title)\n",
    "Finkelman et al. 2012 à https://www.ncbi.nlm.nih.gov/pubmed/22430266 (in article)\n",
    "Gabai-Kapara et al. 2014 à https://www.ncbi.nlm.nih.gov/pubmed/25192939 (in article introduction and methods)\n",
    "King et al. 2003 à https://www.ncbi.nlm.nih.gov/pubmed/14576434 (in article)\n",
    "Mgbemena et al. 2017 à https://www.ncbi.nlm.nih.gov/pubmed/28122244 (in abstract)\n",
    "Satagopan et al. 2002 à https://www.ncbi.nlm.nih.gov/pubmed/12473589 (in abstract)\n",
    "Struewing et al. 1997 à https://www.ncbi.nlm.nih.gov/pubmed/9145676 (in abstract)\n",
    "\n",
    "Struewing et al. 1997 à https://www.ncbi.nlm.nih.gov/pubmed/111111 Spikein :-)\n",
    "\"\"\"\n",
    "print(set(re.findall(r\"\\/(\\d+)\", text)).difference(\n",
    "    set([v[\"pmid\"] for v in lit[\"variants\"][\"chr17:g.43057062:T>TG\"]])))\n",
    "print(\"Not Crawled:\", set(re.findall(r\"\\/(\\d+)\", text)) - set(pmids))"
   ]
  },
  {
   "cell_type": "code",
   "execution_count": 23,
   "metadata": {},
   "outputs": [
    {
     "name": "stdout",
     "output_type": "stream",
     "text": [
      "{'111111'}\n",
      "Not Crawled: {'111111'}\n"
     ]
    }
   ],
   "source": [
    "# **BRCA2 6174delT: https://brcaexchange.org/variant/177049**\n",
    "# chr13:g.32340526:AT>A\n",
    "text = \"\"\"\n",
    "Abeliovich et al. 1997 à https://www.ncbi.nlm.nih.gov/pubmed/9042909 (in article title)\n",
    "Antoniou et al. 2005 à https://www.ncbi.nlm.nih.gov/pubmed/15994883 (in article title)\n",
    "Chodick et al. 2008 à https://www.ncbi.nlm.nih.gov/pubmed/18158280 (in article abstract)\n",
    "Finkelman et al. 2012 à https://www.ncbi.nlm.nih.gov/pubmed/22430266 (in article abstract)\n",
    "Gabai-Kapara et al. 2014 à https://www.ncbi.nlm.nih.gov/pubmed/25192939 (in article introduction and methods)\n",
    "Gallagher et al. 2010 à https://www.ncbi.nlm.nih.gov/pubmed/20215531 (in methods)\n",
    "King et al. 2003 à https://www.ncbi.nlm.nih.gov/pubmed/14576434 (in article)\n",
    "Satagopan et al. 2001 à https://www.ncbi.nlm.nih.gov/pubmed/11352856 (in abstract)\n",
    "Satagopan et al. 2002 à https://www.ncbi.nlm.nih.gov/pubmed/12473589 (in abstract)\n",
    "Struewing et al. 1997 à https://www.ncbi.nlm.nih.gov/pubmed/9145676 (in abstract)\n",
    "\n",
    "Struewing et al. 1997 à https://www.ncbi.nlm.nih.gov/pubmed/111111 Spikein :-)\n",
    "\"\"\"\n",
    "print(set(re.findall(r\"\\/(\\d+)\", text)).difference(\n",
    "    set([v[\"pmid\"] for v in lit[\"variants\"][\"chr13:g.32340526:AT>A\"]])))\n",
    "print(\"Not Crawled:\", set(re.findall(r\"\\/(\\d+)\", text)) - set(pmids))"
   ]
  },
  {
   "cell_type": "markdown",
   "metadata": {},
   "source": [
    "## HGMD for chr13:g.32363367:C>G"
   ]
  },
  {
   "cell_type": "code",
   "execution_count": 24,
   "metadata": {},
   "outputs": [
    {
     "name": "stdout",
     "output_type": "stream",
     "text": [
      "Missing from HGMD {'28324225', '29394989', '19043619', '24323938', '25146914', '28339459', '29446198', '21990134', '23108138'}\n",
      "Not Crawled: set()\n",
      "pmid\t\tpoints\t#snips\tHGMD\n",
      "22962691\t40\t3\t-\n",
      "18424508\t30\t3\t-\n",
      "20215541\t30\t3\t-\n",
      "18451181\t20\t3\t-\n",
      "18607349\t20\t3\t3\n",
      "20507642\t20\t2\t-\n",
      "20522429\t20\t3\t-\n",
      "12145750\t10\t3\t1\n",
      "16792514\t10\t1\t-\n",
      "17899372\t10\t1\t-\n",
      "17924331\t10\t1\t-\n",
      "12915465\t2\t2\t-\n"
     ]
    }
   ],
   "source": [
    "text = \"\"\"\n",
    "1. Fackenthal (2002) Am J Hum Genet 71: 625 PubMed: 12145750 \n",
    "BRCA2 T2722R is a deleterious allele that causes exon skipping.\n",
    "2. Karchin (2008) Cancer Inform 6: 203 PubMed: 19043619\n",
    "Classifying Variants of Undetermined Significance in BRCA2 with protein likelihood ratios.\n",
    "3. Kuznetsov (2008) Nat Med 14: 875 PubMed: 18607349\n",
    "Mouse embryonic stem cell-based functional assay to evaluate mutations in BRCA2.\n",
    "4. Lindor (2012) Hum Mutat 33: 8 PubMed: 21990134\n",
    "A review of a multifactorial probability-based model for classification of BRCA1 and BRCA2 variants of uncertain significance (VUS).\n",
    "5. Guidugli (2013) Cancer Res 73: 265 PubMed: 23108138\n",
    "A classification model for BRCA2 DNA binding domain missense variants based on homology-directed repair activity.\n",
    "6. Guidugli (2014) Hum Mutat 35: 151 PubMed: 24323938\n",
    "Functional assays for analysis of variants of uncertain significance in BRCA2.\n",
    "7. Hendriks (2014) Hum Mutat 35: 1382 PubMed: 25146914\n",
    "An Efficient Pipeline for the Generation and Functional Analysis of Human BRCA2 Variants of Uncertain Significance.\n",
    "8. Fraile-Bethencourt (2017) PLoS Genet 13: 1006691 PubMed: 28339459\n",
    "Functional classification of DNA variants by hybrid minigenes: Identification of 30 spliceogenic variants of BRCA2 exons 17 and 18.\n",
    "9. Meisel (2017) Arch Gynecol Obstet 295: 1227 PubMed: 28324225\n",
    "Spectrum of genetic variants of BRCA1 and BRCA2 in a German single center study.\n",
    "10. Guidugli (2018) Am J Hum Genet : PubMed: 29394989\n",
    "Assessment of the Clinical Relevance of BRCA2 Missense Variants by Functional and Computational Approaches.\n",
    "11. Rebbeck (2018) Hum Mutat 39: 593 PubMed: 29446198\n",
    "\"\"\"\n",
    "print(\"Missing from HGMD\", set(re.findall(r\"PubMed: (\\d+)\", text)).difference(\n",
    "    set([v[\"pmid\"] for v in lit[\"variants\"][\"chr13:g.32363367:C>G\"]])))\n",
    "print(\"Not Crawled:\", set(re.findall(r\"\\/(\\d+)\", text)) - set(pmids))\n",
    "\n",
    "hgmd = {hgmd[1]: int(hgmd[0]) for hgmd in re.findall(r\"(\\d+)\\..*?PubMed: (\\d+)\", text)}\n",
    "\n",
    "print(\"pmid\\t\\tpoints\\t#snips\\tHGMD\")\n",
    "for hit in lit[\"variants\"][\"chr13:g.32363367:C>G\"]:\n",
    "    print(\"{}\\t{}\\t{}\\t{}\".format(\n",
    "        hit[\"pmid\"], hit[\"points\"], len(hit[\"mentions\"]),\n",
    "        hgmd[hit[\"pmid\"]] if hit[\"pmid\"] in hgmd else \"-\"))\n"
   ]
  },
  {
   "cell_type": "code",
   "execution_count": 25,
   "metadata": {},
   "outputs": [
    {
     "data": {
      "text/plain": [
       "array(['NM_000059.3:c.8393C>G',\n",
       "       'NM_004011.3:c.8393C>G|NM_004009.3:c.8393C>G|NM_004006.2:c.8393C>G',\n",
       "       'NM_007294.3:c.5080G>T', 'NM_007294.3:c.5080G>T',\n",
       "       'NM_000059.3:c.8165C>G'], dtype=object)"
      ]
     },
     "execution_count": 25,
     "metadata": {},
     "output_type": "execute_result"
    }
   ],
   "source": [
    "mentions[mentions.docId == \"12145750\"][\"hgvsCoding\"].values"
   ]
  },
  {
   "cell_type": "code",
   "execution_count": 26,
   "metadata": {},
   "outputs": [
    {
     "data": {
      "text/plain": [
       "array(['8393CrG| 8393CrG', '8393CrG| 8393CrG', 'Glu1694Ter', 'E1694X',\n",
       "       'T2722R| T2722R'], dtype=object)"
      ]
     },
     "execution_count": 26,
     "metadata": {},
     "output_type": "execute_result"
    }
   ],
   "source": [
    "mentions[mentions.docId == \"12145750\"][\"texts\"].values"
   ]
  },
  {
   "cell_type": "code",
   "execution_count": 27,
   "metadata": {},
   "outputs": [],
   "source": [
    "# !pip install --quiet hgvs\n",
    "# import hgvs.parser\n",
    "# parser = hgvs.parser.Parser()\n",
    "# parser.parse_hgvs_variant(\"NM_000059.3:c.8393C>G\")"
   ]
  },
  {
   "cell_type": "markdown",
   "metadata": {},
   "source": [
    "## LOVD"
   ]
  },
  {
   "cell_type": "code",
   "execution_count": 28,
   "metadata": {},
   "outputs": [
    {
     "name": "stdout",
     "output_type": "stream",
     "text": [
      "175 pmids and 1044 variants in normalized LOVD truth set\n"
     ]
    },
    {
     "data": {
      "text/html": [
       "<div>\n",
       "<style scoped>\n",
       "    .dataframe tbody tr th:only-of-type {\n",
       "        vertical-align: middle;\n",
       "    }\n",
       "\n",
       "    .dataframe tbody tr th {\n",
       "        vertical-align: top;\n",
       "    }\n",
       "\n",
       "    .dataframe thead th {\n",
       "        text-align: right;\n",
       "    }\n",
       "</style>\n",
       "<table border=\"1\" class=\"dataframe\">\n",
       "  <thead>\n",
       "    <tr style=\"text-align: right;\">\n",
       "      <th></th>\n",
       "      <th>pmid</th>\n",
       "      <th>norm_c_hgvs</th>\n",
       "      <th>norm_g_hgvs</th>\n",
       "      <th>pyhgvs_Genomic_Coordinate_38</th>\n",
       "    </tr>\n",
       "  </thead>\n",
       "  <tbody>\n",
       "    <tr>\n",
       "      <th>0</th>\n",
       "      <td>24667779</td>\n",
       "      <td>NM_007294.3:c.-19-22_-19-21dup</td>\n",
       "      <td>NC_000017.11:g.43124146_43124147dup</td>\n",
       "      <td>chr17:g.43124146_43124147:dup</td>\n",
       "    </tr>\n",
       "    <tr>\n",
       "      <th>1</th>\n",
       "      <td>10459348</td>\n",
       "      <td>NM_007294.3:c.-19-10T&gt;C</td>\n",
       "      <td>NC_000017.11:g.43124125A&gt;G</td>\n",
       "      <td>chr17:g.43124125:A&gt;G</td>\n",
       "    </tr>\n",
       "    <tr>\n",
       "      <th>2</th>\n",
       "      <td>24667779</td>\n",
       "      <td>NM_007294.3:c.-19-10T&gt;C</td>\n",
       "      <td>NC_000017.11:g.43124125A&gt;G</td>\n",
       "      <td>chr17:g.43124125:A&gt;G</td>\n",
       "    </tr>\n",
       "    <tr>\n",
       "      <th>3</th>\n",
       "      <td>16403807</td>\n",
       "      <td>NM_007294.3:c.-3G&gt;C</td>\n",
       "      <td>NC_000017.11:g.43124099C&gt;G</td>\n",
       "      <td>chr17:g.43124099:C&gt;G</td>\n",
       "    </tr>\n",
       "    <tr>\n",
       "      <th>4</th>\n",
       "      <td>19393826</td>\n",
       "      <td>NM_007294.3:c.1_134del</td>\n",
       "      <td>NC_000017.11:g.43115728_43124098del</td>\n",
       "      <td>chr17:g.43115728_43124098:del</td>\n",
       "    </tr>\n",
       "  </tbody>\n",
       "</table>\n",
       "</div>"
      ],
      "text/plain": [
       "       pmid                     norm_c_hgvs  \\\n",
       "0  24667779  NM_007294.3:c.-19-22_-19-21dup   \n",
       "1  10459348         NM_007294.3:c.-19-10T>C   \n",
       "2  24667779         NM_007294.3:c.-19-10T>C   \n",
       "3  16403807             NM_007294.3:c.-3G>C   \n",
       "4  19393826          NM_007294.3:c.1_134del   \n",
       "\n",
       "                           norm_g_hgvs   pyhgvs_Genomic_Coordinate_38  \n",
       "0  NC_000017.11:g.43124146_43124147dup  chr17:g.43124146_43124147:dup  \n",
       "1           NC_000017.11:g.43124125A>G           chr17:g.43124125:A>G  \n",
       "2           NC_000017.11:g.43124125A>G           chr17:g.43124125:A>G  \n",
       "3           NC_000017.11:g.43124099C>G           chr17:g.43124099:C>G  \n",
       "4  NC_000017.11:g.43115728_43124098del  chr17:g.43115728_43124098:del  "
      ]
     },
     "execution_count": 28,
     "metadata": {},
     "output_type": "execute_result"
    }
   ],
   "source": [
    "lovd = pd.read_table(\n",
    "    \"https://raw.githubusercontent.com/BRCAChallenge/pubMunch-BRCA/master/tests/lovd-normalized.tsv\", dtype=str)\n",
    "print(\"{} pmids and {} variants in normalized LOVD truth set\".format(\n",
    "    len(set(lovd.pmid.values)),\n",
    "    len(set(lovd.pyhgvs_Genomic_Coordinate_38.values))))\n",
    "lovd.head()"
   ]
  },
  {
   "cell_type": "code",
   "execution_count": 29,
   "metadata": {},
   "outputs": [
    {
     "name": "stdout",
     "output_type": "stream",
     "text": [
      "Missing from list of PMIDs to download:\n",
      "09333265, 08751436, 2010, 09971877, 07545954, 08896551, 09805131, 08531967, 09497265, 09585599, 07939630, 08942979, 09523200, 09126734\n",
      "\n",
      "Failed to download:\n",
      "19287957 (noCrawlerSuccess), 12955719 (invalidPdf), 12552570 (invalidPdf), 20054658 (noSpringerLicense), 16528612 (noSpringerLicense), 12815598 (invalidPdf), 18680205 (invalidPdf), 16786532 (invalidPdf), 10406662 (invalidPdf), 15533909 (HighwirePdfNotValid), 16211554 (invalidPdf), 18693280 (invalidPdf), 20513136 (invalidPdf), 12601471 (httpError), 16969499 (noCrawlerSuccess), 17657584 (noSpringerLicense), 20020529 (invalidPdf), 18375895 (HighwirePdfNotValid), 10506595 (HighwirePdfNotValid), 15300854 (invalidPdf), 17279547 (invalidPdf), 12955716 (invalidPdf), 18493658 (noCrawlerSuccess), 16619214 (invalidPdf), 11385711 (invalidPdf)\n"
     ]
    }
   ],
   "source": [
    "print(\"Missing from list of PMIDs to download:\")\n",
    "print(\", \".join([p for p in set(lovd.pmid.values) if p not in pmids]))\n",
    "\n",
    "print(\"\\nFailed to download:\")\n",
    "print(\", \".join([\"{} ({})\".format(p, download[download.pmid == p].status.values[0]) \n",
    "                   for p in set(lovd.pmid.values) if \n",
    "                   download[(download.pmid == p) & (download.status != \"OK\")].shape[0]]))"
   ]
  },
  {
   "cell_type": "code",
   "execution_count": 30,
   "metadata": {},
   "outputs": [
    {
     "name": "stdout",
     "output_type": "stream",
     "text": [
      "128 common pmids between LOVD and this crawl\n"
     ]
    }
   ],
   "source": [
    "common_pmids = list(set(lit[\"papers\"].keys()).intersection(set(lovd.pmid.values)))\n",
    "print(\"{} common pmids between LOVD and this crawl\".format(len(common_pmids)))"
   ]
  },
  {
   "cell_type": "code",
   "execution_count": 31,
   "metadata": {},
   "outputs": [],
   "source": [
    "# Invert the literature.json exported to BRCA Exchange to create a variants by pmid from literature\n",
    "import itertools\n",
    "\n",
    "lit_pmid_variant_tuple = [(hit[\"pmid\"], variant)\n",
    "                          for variant, hits in lit[\"variants\"].items()\n",
    "                          for hit in hits]\n",
    "\n",
    "lit_variants_by_pmid = {pmid: [v[1] \n",
    "                        for v in variants]\n",
    "                        for pmid, variants in itertools.groupby(sorted(lit_pmid_variant_tuple), lambda x: x[0])}"
   ]
  },
  {
   "cell_type": "code",
   "execution_count": 32,
   "metadata": {},
   "outputs": [
    {
     "data": {
      "image/png": "[encoded data removed]",
      "text/plain": [
       "<Figure size 432x288 with 1 Axes>"
      ]
     },
     "metadata": {
      "needs_background": "light"
     },
     "output_type": "display_data"
    }
   ],
   "source": [
    "# Compute per paper the % of LOVD variants we found and exported in literature.json\n",
    "pcts = {\n",
    "    p: len(set(lit_variants_by_pmid[p]).intersection(\n",
    "        set(lovd[lovd.pmid == p].pyhgvs_Genomic_Coordinate_38.values))) / len(\n",
    "        set(lovd[lovd.pmid == p].pyhgvs_Genomic_Coordinate_38.values)) \n",
    "    for p in common_pmids}\n",
    "\n",
    "lovd_stats = pd.DataFrame.from_dict(pcts, orient=\"index\", columns=[\"pct\"]).rename_axis(\"pmid\")\n",
    "\n",
    "plt.hist(lovd_stats.pct)\n",
    "plt.title(\"Histogram of % variants found\")\n",
    "plt.xlabel(\"% variants found\")\n",
    "plt.ylabel(\"# papers\")\n",
    "plt.show()"
   ]
  },
  {
   "cell_type": "markdown",
   "metadata": {},
   "source": [
    "## Compare Current LOVD"
   ]
  },
  {
   "cell_type": "code",
   "execution_count": 39,
   "metadata": {},
   "outputs": [
    {
     "name": "stdout",
     "output_type": "stream",
     "text": [
      "Current 3701 Papers and 9886 Variants exported\n"
     ]
    }
   ],
   "source": [
    "# with open(\"/home/jovyan/public_html/literature-2018-11-14.json\") as f:\n",
    "with open(\"/home/jovyan/public_html/literature-2019-02-28-v2.json\") as f:\n",
    "    cur_lit = json.loads(f.read())\n",
    "print(\"Current {} Papers and {} Variants exported\".format(len(cur_lit[\"papers\"]), len(cur_lit[\"variants\"])))\n",
    "\n",
    "\n",
    "# Invert the literature.json exported to BRCA Exchange to create a variants by pmid from literature\n",
    "# NOTE Old format\n",
    "import itertools\n",
    "\n",
    "cur_lit_pmid_variant_tuple = [(hit[\"pmid\"], variant)\n",
    "                          for variant, hits in lit[\"variants\"].items()\n",
    "                          for hit in hits]\n",
    "\n",
    "cur_lit_variants_by_pmid = {pmid: [v[1] \n",
    "                        for v in variants]\n",
    "                        for pmid, variants in itertools.groupby(sorted(cur_lit_pmid_variant_tuple), lambda x: x[0])}\n",
    "\n",
    "\n",
    "\n",
    "# cur_lit_pmid_variant_tuple = [(pmid, variant) \n",
    "#                           for variant, mention in cur_lit[\"variants\"].items() \n",
    "#                           for pmid in list(mention.keys())]\n",
    "\n",
    "# cur_lit_variants_by_pmid = {pmid: [v[1] \n",
    "#                         for v in variants]\n",
    "#                         for pmid, variants in itertools.groupby(sorted(cur_lit_pmid_variant_tuple), lambda x: x[0])}"
   ]
  },
  {
   "cell_type": "code",
   "execution_count": 40,
   "metadata": {},
   "outputs": [
    {
     "name": "stdout",
     "output_type": "stream",
     "text": [
      "Current Production Confusion Matrix:\n",
      "1165\t2485\n",
      "698\t-1\n",
      "Precision: 31.9% Recall: 62.5%\n",
      "New Confusion Matrix w/o Points Ranking:\n",
      "1165\t2485\n",
      "698\t-1\n",
      "Precision: 31.9% Recall: 62.5%\n"
     ]
    }
   ],
   "source": [
    "def confusion_matrix(lit_variants_by_pmid):\n",
    "    TP, FP, FN, TN = 0, 0, 0, -1\n",
    "\n",
    "    # Only evaluate papers in lovd and crawled\n",
    "    for pmid in set([p for p in lovd.pmid.values if p in lit_variants_by_pmid.keys()]):\n",
    "        actual = set(lovd[lovd[\"pmid\"] == pmid].pyhgvs_Genomic_Coordinate_38.values)\n",
    "        predicted = set(lit_variants_by_pmid[pmid])\n",
    "\n",
    "        TP += len(predicted.intersection(actual))\n",
    "        FP += len(predicted - actual)\n",
    "        FN += len(actual - predicted)\n",
    "#         TN += len(set(predicted.union(actual))) - (TP + FP + FN)\n",
    "        \n",
    "    precision = TP/(TP + FP)\n",
    "    recall = TP/(TP + FN)\n",
    "\n",
    "    return TP, FP, FN, TN, precision, recall \n",
    "\n",
    "TP, FP, FN, TN, precision, recall = confusion_matrix(cur_lit_variants_by_pmid)\n",
    "\n",
    "print(\"Current Production Confusion Matrix:\")\n",
    "print(\"{}\\t{}\".format(TP, FP))\n",
    "print(\"{}\\t{}\".format(FN, TN))\n",
    "print(\"Precision: {:.1%} Recall: {:.1%}\".format(precision, recall))\n",
    "\n",
    "TP, FP, FN, TN, precision, recall = confusion_matrix(lit_variants_by_pmid)\n",
    "\n",
    "print(\"New Confusion Matrix w/o Points Ranking:\")\n",
    "print(\"{}\\t{}\".format(TP, FP))\n",
    "print(\"{}\\t{}\".format(FN, TN))\n",
    "print(\"Precision: {:.1%} Recall: {:.1%}\".format(precision, recall))"
   ]
  },
  {
   "cell_type": "markdown",
   "metadata": {},
   "source": [
    "## Debug"
   ]
  },
  {
   "cell_type": "code",
   "execution_count": 35,
   "metadata": {},
   "outputs": [
    {
     "data": {
      "text/plain": [
       "[{'mentions': [' The following three common mutations have been identified in Ashkenazi Jewish (AJ) BRCA1/2 mutation carriers: c.68_69delAG (185delAG or 187delAG) and<<< c.5266dupC>>> (5382insC or 5385insC) in BRCA1 and c.5946delT (6174delT) in BRCA2.23–25 The prevalence of these mutations is approximately 2.5% in AJs.2,26,27 5382i',\n",
       "   'On the origin and diffusion of BRCA1<<< c.5266dupC>>> (5382insC) in European populations.',\n",
       "   ' The following three common mutations have been identified in Ashkenazi Jewish (AJ) BRCA1/2 mutation carriers: c.68_69delAG (185delAG or 187delAG) and<<< c.5266dupC>>> (5382insC or 5385insC) in BRCA1 and c.5946delT (6174delT) in BRCA2.23-25 The prevalence of these mutations is approximately 2.5% in AJs.2,26,27 5382i'],\n",
       "  'pmid': '22430266',\n",
       "  'points': 22},\n",
       " {'mentions': ['(Under this convention, the two mutations commonly referred to as “185delAG” and “5382insC” are named 187delAG and<<< 5385insC>>>, respectively.',\n",
       "   'ants.  In fact, one variant that falls into the new group of suspected deleterious mutations, P1238L, has been seen with a known deleterious mutation <<<(5385insC>>>) in a BRCA1 sequence analysis not included in this study.',\n",
       "   'e expected number of Ashkenazi homozygotes and compound heterozygotes  There are two BRCA1 founder mutations in the Ashkenazi population, 185delAG and<<< 5382insC>>>.'],\n",
       "  'pmid': '15235020',\n",
       "  'points': 12},\n",
       " {'mentions': ['Population‐specific founder mutations are beginning to emerge for BRCA1 and BRCA2 (Szabo and King, 1997). For example, the<<< 5382insC>>> mutation in BRCA1 exhibits a high frequency in eastern European populations, whereas the 2804delAA mutation in BRCA1 is most common in the Netherlands.',\n",
       "   'Number ofmutation   Mutation   Exon   Method   Frequency1:Total    %   --- --- --- --- --- ---   BRCA 1   1   185delAG   2   TaqMan   273   15.7   2  <<< 5382insC>>>   20   TaqMan   136   9.1   3   2804delAA   11   TaqMan   42   2.8   4   300T\\xa0→\\xa0G   5   TaqMan   35   2.3   5   4446C\\xa0→\\xa0T   13   TaqMan   32   2.1   ',\n",
       "   'detection of 6 disease‐associated sequence variants: the BRCA1 sequence variants 300T→G (found in patients 2691 and 3132), 4184delTCAA (patient 3055),<<< 5382insC>>> (patient 3198) and the variant 5622C→T (patient 2474) are mutations with frequencies ranging between 9.1% (5382insC) and 1.3% (5622C→T).  Table III.'],\n",
       "  'pmid': '10699917',\n",
       "  'points': 6},\n",
       " {'mentions': ['Single base putative pathogenic mutations were identified by dHPLC and confirmed by sequence analysis in 4 families:<<< 5382insC>>> (in two families), G1738R, and 5586G > A (in one family each).',\n",
       "   \"The proband was diagnosed with breast cancer at the age of 45. The most frequently occurring mutation,<<< 5382insC>>> in exon 20, was identified. Analysis of the proband's daughter in whom cancer developed at the age of 38 revealed that she also carried the mutation.\",\n",
       "   'Germ line BRCA1 and BRCA2 mutations in Greek breast/ovarian cancer families:<<< 5382insC>>> is the most frequent mutation observed.'],\n",
       "  'pmid': '15353005',\n",
       "  'points': 6},\n",
       " {'mentions': ['Carriers of the 185delAG and<<< 5382insC>>> mutations in BRCA1 and the 6174delT mutation in BRCA2 were identified with assays based on the polymerase chain reaction.',\n",
       "   'ope.8-12 The combined frequency of the mutations in BRCA1 involving the deletion of an adenine and guanine (185delAG) and the insertion of a cytosine <<<(5382insC>>>) and the mutation in BRCA2 involving the deletion of a thymine (6174delT) exceeds 2 percent.13-15 Thus, within this group, relatively simple assays c',\n",
       "   'Allele-specific polymerase-chain-reaction (PCR) assays were used to identify the<<< 5382insC>>> mutation in BRCA1 and the 6174delT mutation in BRCA2. 16 For each mutation, genomic DNA from a person known to be heterozygous for that mutation was '],\n",
       "  'pmid': '9145676',\n",
       "  'points': 6},\n",
       " {'mentions': ['man as a BRCA1 or BRCA2 mutation carrier only after she develops cancer.  Among Ashkenazi (European) Jews (AJ), three mutations, BRCA1 185delAG, BRCA1<<< 5382insC>>>, and BRCA2 6174delT, account for the great majority of inherited cancer risk due to BRCA1 and BRCA2 (7).',\n",
       "   'Males who chose to participate provided a blood or buccal sample from which DNA was extracted and genotyped for BRCA1 185delAG, BRCA1<<< 5382insC>>> and BRCA2 6174delT (SI Appendix, Table S2).',\n",
       "   'et al. (2005) Breast and ovarian cancer risks to carriers of the BRCA1<<< 5382insC>>> and 185delAG and BRCA2 6174delT mutations: A combined analysis of 22 population based studies.'],\n",
       "  'pmid': '25192939',\n",
       "  'points': 6},\n",
       " {'mentions': ['ench population were: the French founder frameshift c.3481_3491del (3600del11, exon 11) from North-Eastern France (137 records) (38,39) and c.5266dup <<<(5382insC>>>, exon 20), a founder Ashkenazi Jewish mutation (138 records).',\n",
       "   '_5033delCTAA exon 17  c.5128G>T exon 18  c.5266dup exon 20   (185delAG)  (3958del5ins4)  (3600del11)  (3960C>T)  (4446C>T)  (5149delCTAA)  (5247G>T)  <<<(5382insC>>>)   Ashkenazi Jews  French  North-Eastern France  France/Belgium/Holland  French Canadian  French  North-Eastern France  Ashkenazi Jews   IDF  28  12 ',\n",
       "   'rench population were: the French founder frameshift c.3481_3491del (3600del11, exon 11) from NorthEastern France (137 records) (38,39) and c.5266dup <<<(5382insC>>>, exon 20), a founder Ashkenazi Jewish mutation (138 records).'],\n",
       "  'pmid': '22144684',\n",
       "  'points': 6},\n",
       " {'mentions': ['C probands who 1) underwent BRCA1/2 mutation analysis by full gene sequencing or directed testing for Ashkenazi founder mutations (BRCA1: 185delAG and<<< 5382insC>>>; BRCA2: 6174delT) and 2) had a FH of PC in a first‐, second‐, or third‐degree relative.',\n",
       "   ', such as Ashkenazi Jews, mutations in the BRCA1/2 cancer susceptibility genes are more prevalent.19-21 The 3 founder mutations in BRCA1 (185delAG and<<< 5382insC>>>) and BRCA2 (6174delT) are thought to account for the vast majority (approximately 96%) of BRCA1/2 mutations in the Ashkenazim.22 In a small analysis ',\n",
       "   'er probands underwent BRCA mutation analysis either by full gene sequencing or by directed testing for the 3 AJ founder mutations (BRCA1: 185delAG and<<< 5382insC>>>; BRCA2: 6174delT).'],\n",
       "  'pmid': '21598239',\n",
       "  'points': 6},\n",
       " {'mentions': ['in BRCA1 and BRCA2 are rarely observed, and most reports involve the three Ashkenazi Jewish founder mutations BRCA1 nucleotide 185delAG and nucleotide<<< 5382insC>>> and BRCA2 nucleotide 6174delT (reviewed in [17]) [18, 19, 20].',\n",
       "   'in BRCA1 and BRCA2 are rarely observed, and most reports involve the three Ashkenazi Jewish founder mutations BRCA1 nucleotide 185delAG and nucleotide<<< 5382insC>>> and BRCA2 nucleotide 6174delT (reviewed in [17]) [18–20]. However, four reports describe other BRCA1 and BRCA2 mutations, including a Dutch study des'],\n",
       "  'pmid': '20455026',\n",
       "  'points': 6},\n",
       " {'mentions': [' ovarian susceptibility gene BRCA1 have been identified in individuals of many different ancestries, including families of Ashkenazi Jewish (185delAG,<<< 5382insC>>>) [2], French Canadian (C4446T, 2953del3\\xa0+ C) [3, 4], Norwegian (1675delA and 1135insA) [5], Dutch (2804delAA and Alu- mediated deletions encompassing',\n",
       "   'del3\\xa0+ C) [3, 4], Norwegian (1675delA and 1135insA) [5], Dutch (2804delAA and Alu- mediated deletions encompassing exons 13 and 22) [6, 7] and Polish <<<(5382insC>>>, C61G and 4153delA) [8] origins.  In the course of a systematic study of BRCA1 and two mutations in the Greek population, we have screened 287 index patients from breast/ovarian cancer families and found 65 carriers of a BRCA1/2 mutation [9].',\n",
       "   'Compared to the age of the much more widespread<<< 5382insC>>> in BRCA1 which is the most frequent mutation in the Greek population [9] with an estimated age of about 25 generations (33), G1738R appears to be rel'],\n",
       "  'pmid': '17902052',\n",
       "  'points': 6},\n",
       " {'mentions': ['Section University Library  ## You are here    * Home   * Archive   * Volume 42,\\xa0Issue 7    * Breast and ovarian cancer risks to carriers of the BRCA1<<< 5382insC>>> and 185delAG and BRCA2 6174delT mutations: a combined analysis of 22 population based studies  Email Alert  Article Text  Article menu    * Article  ',\n",
       "   'on    Tools    * Share   * Responses   * Article    metrics    * Alerts  PDF  Letters to JMG  Breast and ovarian cancer risks to carriers of the BRCA1<<< 5382insC>>> and 185delAG and BRCA2 6174delT mutations: a combined analysis of 22 population based studies  Free  Loading    1.',\n",
       "   'ies of women with breast and ovarian cancer.1 King et al2 estimated the risks to carriers in the three Ashkenazi founder mutations (BRCA1 185delAG and<<< 5382insC>>>, and BRCA2 6174delT) by genotyping the relatives of 104 mutation carriers.'],\n",
       "  'pmid': '15994883',\n",
       "  'points': 6},\n",
       " {'mentions': ['The BRCA1<<< 5382insC>>> deletion mutant expression plasmid was kindly donated by Dr B Weber, University of Pennsylvania, USA.',\n",
       "   'dominantly cytoplasmic expression of the 1708E variant is similar in pattern to that previously described for another cancer associated BRCA1 variant,<<< 5382insC>>>.15 However, while the nuclear localisation of the 5382insC variant was shown to be increased to wildtype levels with the co-transfection of BARD1,15 ',\n",
       "   'imilar in pattern to that previously described for another cancer associated BRCA1 variant, 5382insC.15 However, while the nuclear localisation of the<<< 5382insC>>> variant was shown to be increased to wildtype levels with the co-transfection of BARD1,15 in these experiments BARD1 expression did not restore nuclear localisation of the 1708E variant to a wildtype pattern of expression.'],\n",
       "  'pmid': '15923272',\n",
       "  'points': 6},\n",
       " {'mentions': ['↵  Ladopoulou A, Kroupis C, Konstantopoulou I, et al Germ line BRCA1 & BRCA2 mutations in Greek breast/ovarian cancer families:<<< 5382insC>>> is the most frequent mutation observed.',\n",
       "   'Germ line BRCA1 & BRCA2 mutations in Greek breast/ovarian cancer families:<<< 5382insC>>> is the most frequent mutation observed.'],\n",
       "  'pmid': '15172985',\n",
       "  'points': 6},\n",
       " {'mentions': ['ed mutations in BRCA1 or BRCA2 among Ashkenazi Jewish patients by age at diagnosis and family history.     Number of probands   BRCA1 185delAG   BRCA1<<< 5382insC>>>   BRCA2 6174delT   Any mutation    Relative risk   P value   --- --- --- --- --- --- --- ---   All female probands    1008    0.042    0.025    0.037',\n",
       "   'nherited mutations in BRCA1 or BRCA2 among Ashkenazi Jewish patients by age at diagnosis and family history. Number of probands  BRCA1 185delAG  BRCA1<<< 5382insC>>>  BRCA2 6174delT  Any mutation  Relative risk  1008  0.042  0.025  0.037  0.103  1.0  105 135 187 305 276  0.12 0.08 0.05 0.02 0.004  0.12 0.01 0.01 0'],\n",
       "  'pmid': '14576434',\n",
       "  'points': 6},\n",
       " {'mentions': ['Included with these mutations are the truncation protein products of two of the most common BIC frameshift mutants,<<< 5382insC>>> and IVS21-36del510, that result in stop codons at positions 1829 and 1805 of the BRCA1 coding sequence (7) (Figs. 2 and 3).',\n",
       "   'B, frameshift<<< 5382insC>>> creates a stop codon at position 1829 in BRCA1 and is one of the most commonly recorded BIC mutations.',\n",
       "   'Included with these mutations are the truncation protein products of two of the most common BIC frameshift mutants,<<< 5382insC>>> and IVS21– 36del510, that result in stop codons at positions 1829 and 1805 of the BRCA1 coding sequence (7) (Figs. 2 and 3).'],\n",
       "  'pmid': '14534301',\n",
       "  'points': 6},\n",
       " {'mentions': ['The cases and controls were genotyped for three Ashkenazi Jewish founder mutations, namely 185delAG and<<< 5382insC>>> in BRCA1 and 6174delT in BRCA2.',\n",
       "   'Inherited mutations commonly found in Ashkenazi Jewish individuals (namely, 185delAG and<<< 5382insC>>> in BRCA1 and 6174delT in BRCA2) have been of particular interest.',\n",
       "   'Samples were then analyzed to determine the presence of 185delAG and<<< 5382insC>>> BRCA1 or 6174delT BRCA2 mutations using previously published methods (12) .  The second series comprised of ovarian cancer cases from 11 centers in North America and Israel, as reported by Moslehi et al. (13) .'],\n",
       "  'pmid': '12473589',\n",
       "  'points': 6},\n",
       " {'mentions': ['The founder mutations 185delAG and<<< 5382insC>>> in BRCA1 and 6174delT in BRCA2 appear in 60% of ovarian cancer and 30% of early-onset breast cancer patients among Ashkenazi women.  Am J Hum Genet  ',\n",
       "   'The founder mutations 185delAG and<<< 5382insC>>> in BRCA1 and 6174delT in BRCA2 appear in 60% of ovarian cancer and 30% of early-onset breast cancer patients among Ashkenazi women.'],\n",
       "  'pmid': '11504767',\n",
       "  'points': 6},\n",
       " {'mentions': ['Four mutations occurred more than once in the Austrian population: 2795del4 (3 times), Cys61Gly (3 times)<<< 5382insC>>> (2 times) and Q1806stop (2 times).',\n",
       "   'Four mutations occurred more than once in the Austrian population: 2795del4 (3 times), Cys61Gly (3 times)<<< 5382insC>>> (2 times) and Q1806stop (2 times). Haplotype analysis of the 4 recurrent mutations suggested a common ancestor for each of these.',\n",
       "   'In families of Ashkenazi Jewish origin, 2 BRCA1 mutations (185delAG and<<< 5382insC>>>) account for a carrier frequency of approximately 1% for 185delAG and 0.15% for 5382insC (Struewing et al., 1995).'],\n",
       "  'pmid': '9971877',\n",
       "  'points': 6},\n",
       " {'mentions': ['ER p estrogen receptor status; LR p likelihood ratio.  numbers, among a series of individuals with the founder mutations 185delAG and<<< 5382insC>>> (0 observed vs. 6.5 expected) (Frank et al. 2002; Abkevich et al. 2004).'],\n",
       "  'pmid': '15290653',\n",
       "  'points': 3},\n",
       " {'mentions': ['m expected numbers of BRCA1 homozygotes and compound heterozygotes for deleterious mutations among individuals with the founder mutations 185delAG and<<< 5382insC>>>.45 This led to the notion that if an unknown variant co-occurs with a known deleterious mutation it is unlikely that this variant is a high risk one.'],\n",
       "  'pmid': '15689452',\n",
       "  'points': 3},\n",
       " {'mentions': ['miology, Biomarkers & Prevention  Table 1 Age (yr) ⬍40  40–49  ⱖ50  a  Mutation rates in cases and controls  Institution  Mutation positive  185delAG <<< 5382insC>>>  6174delT  Mutation negative  Total  Memorial Hospital (NY) Mt.'],\n",
       "  'pmid': '11352856',\n",
       "  'points': 3},\n",
       " {'mentions': ['37del4ins3 (D) 4774del4 (D) 5083del19c (D) 5152ins4 (D) 5175insC (D) 5190insA (D) 525insA (D) 5269delT (D) 5274delG (D) 5275delTG (D) 5328d40insTC (D)<<< 5385insCc>>> (D) 5423delC (D)  5682delAins6 (U) 589delCT (D) 5’UTR106T>C (U) 604delTG (D) 648delT (D) 795delT* (D) 816delGT (D) 850delA (D) 913delCT (D) 962del4* ',\n",
       "   'n deleterious mutations (Cont’d)  Variant of unknown significance  Variant of unknown significance  Deleterious mutation  L1564P  943ins10 C64Y R1835X<<< 5385insC>>> 5296del4 R1203X 4730insG 1623del5 589delCT 5385insC M1775R E1060X 187delAG 5385insC 1755del19 R1443X L63X L63X E732X 1623del5 5385insC  Deleterious m',\n",
       "   ' significance  Variant of unknown significance  Deleterious mutation  L1564P  943ins10 C64Y R1835X 5385insC 5296del4 R1203X 4730insG 1623del5 589delCT<<< 5385insC>>> M1775R E1060X 187delAG 5385insC 1755del19 R1443X L63X L63X E732X 1623del5 5385insC  Deleterious mutation  Alternate methods  Heterozygous haplotypes '],\n",
       "  'pmid': '16267036',\n",
       "  'points': 3},\n",
       " {'mentions': ['1, 13, 14, 15 1, 7, 9, 10, 11, 13, 14, 15 — 10, 12, 16 — — 7, 9, 10, 11, 13, 14  Wild type Wild type Wild type Wild type Wild type Wild type Wild type<<< 5382insC>>> Wild type Wild type Wild type Wild type Wild type Wild type Wild type Wild type Wild type Wild type 5396 + 1G>A Wild type Wild type Wild type Wild ty',\n",
       "   'ein effect  185delAG 233G>A 561 - 34C>T 788 + 3G>A 1186A>G 2196G>A 2201C>T 2288delT 2430T>C 2731C>T 3232A>G 3537A>G 3667A>G 4427T>C 4956A>G 5106-20A>G<<< 5382insC>>> 5396 + 1G>A  2 3  E23fsX17 K38K  11 11 11 11 11 11 11 11 11 13 16  Q356R D693N S694S N723fsX13 L771L P871L E1038G S1140G K1183R S1436S S1613G  20  Q1'],\n",
       "  'pmid': '16397213',\n",
       "  'points': 3},\n",
       " {'mentions': ['Furthermore, we observed increased cytoplasmic staining of both the ectopic and endogenous forms of the BRCA1<<<-5382insC>>> mutant (deleted BRCT domain) in HCC1937 breast cancer cells.',\n",
       "   'Unlike wild-type BRCA1, the BRCA1<<<-5382insC>>> mutant failed to form DNA damage-inducible foci when targeted to the nucleus by BARD1.'],\n",
       "  'pmid': '14729053',\n",
       "  'points': 3},\n",
       " {'mentions': ['as identified in a woman of Ashkenazi Jewish ancestry whose tumor block was first tested for the three common Ashkenazi Jewish mutations (185delAG and<<< 5382insC>>> in BRCA1 and 6174delT in BRCA2).'],\n",
       "  'pmid': '19543972',\n",
       "  'points': 3},\n",
       " {'mentions': ['Cancer Letters 185 (2002) 61–70 www.elsevier.com/locate/canlet  Germ line BRCA1 & BRCA2 mutations in Greek breast/ovarian cancer families:<<< 5382insC>>> is the most frequent mutation observed q A.',\n",
       "   'The known founder mutation<<< 5382insC>>> of BRCA1 was identified in seven unrelated families.',\n",
       "   'Combined with our previously published data<<< 5382insC>>> was found in nine out of 20 families (45%), suggesting that this mutation may represent a common founder mutation in the Greek population. q 2002 Elsevier Science Ireland Ltd.'],\n",
       "  'pmid': '12142080',\n",
       "  'points': 3},\n",
       " {'mentions': ['1997). In the Ashkenazi Jewish population, three founder mutations, 185delAG and<<< 5382insC>>> in the BRCA1 gene  921 and 6174delT in the BRCA2 gene, exist at a high frequency (2.5%) (Struewing et al. 1995; Oddoux et al. 1996; Roa et al. 1996; Fodor et al. 1998).',\n",
       "   'chool, Jerusalem  References Abeliovich D, Kaduri L, Lerer I, Weinberg N, Amir G, Sagi M, Zlotogora J, et al (1997) The founder mutations 185delAG and<<< 5382insC>>> in BRCA1 and 6174delT in BRCA2 appear in 60% of ovarian cancer and 30% of earlyonset breast cancer patients among Ashkenazi women.'],\n",
       "  'pmid': '9042909',\n",
       "  'points': 3},\n",
       " {'mentions': ['1 mutations 5 300T>G 11 2594delC 11 2594delC 11 2594delC 11 2594delC 11 3519G>T 11 3819del5 11 3829delT 18 5208T>C 18 5208T>C 18 5208T>C 20 5373G>C 20<<< 5382insC>>> BRCA2 mutations 3 373G>T 10 2041delA† 11 2678delA† 11 5302insA 11 6310del5† 11 6714del4 15 7845+1G>A† 17 8138del5 18 8339C>T† 23 9243delAT† 24 9474in'],\n",
       "  'pmid': '11389159',\n",
       "  'points': 3}]"
      ]
     },
     "execution_count": 35,
     "metadata": {},
     "output_type": "execute_result"
    }
   ],
   "source": [
    "lit[\"variants\"][\"chr17:g.43057062:T>TG\"]"
   ]
  },
  {
   "cell_type": "code",
   "execution_count": 36,
   "metadata": {},
   "outputs": [
    {
     "ename": "KeyError",
     "evalue": "'10030809'",
     "output_type": "error",
     "traceback": [
      "\u001b[0;31m--------------------------------------------------------------------------\u001b[0m",
      "\u001b[0;31mKeyError\u001b[0m                                 Traceback (most recent call last)",
      "\u001b[0;32m<ipython-input-36-bb49b49a3f4a>\u001b[0m in \u001b[0;36m<module>\u001b[0;34m()\u001b[0m\n\u001b[0;32m----> 1\u001b[0;31m \u001b[0mlit\u001b[0m\u001b[0;34m[\u001b[0m\u001b[0;34m\"papers\"\u001b[0m\u001b[0;34m]\u001b[0m\u001b[0;34m[\u001b[0m\u001b[0;34m\"10030809\"\u001b[0m\u001b[0;34m]\u001b[0m\u001b[0;34m\u001b[0m\u001b[0;34m\u001b[0m\u001b[0m\n\u001b[0m",
      "\u001b[0;31mKeyError\u001b[0m: '10030809'"
     ]
    }
   ],
   "source": [
    "lit[\"papers\"][\"10030809\"]"
   ]
  },
  {
   "cell_type": "code",
   "execution_count": null,
   "metadata": {},
   "outputs": [],
   "source": [
    "\n",
    "\n",
    "print(\"pmid\\t\\tpoints\\t#snips\")\n",
    "for hit in lit[\"variants\"][\"chr17:g.43057062:T>TG\"]:\n",
    "    print(\"{}\\t{}\\t{}\".format(\n",
    "        hit[\"pmid\"], hit[\"points\"], len(hit[\"mentions\"])))"
   ]
  }
 ],
 "metadata": {
  "kernelspec": {
   "display_name": "Python 3",
   "language": "python",
   "name": "python3"
  },
  "language_info": {
   "codemirror_mode": {
    "name": "ipython",
    "version": 3
   },
   "file_extension": ".py",
   "mimetype": "text/x-python",
   "name": "python",
   "nbconvert_exporter": "python",
   "pygments_lexer": "ipython3",
   "version": "3.6.8"
  }
 },
 "nbformat": 4,
 "nbformat_minor": 2
}
