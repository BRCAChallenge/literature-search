{
 "cells": [
  {
   "cell_type": "markdown",
   "metadata": {},
   "source": [
    "# Literature Search Crawl Report\n",
    "\n",
    "Generate various stats validations from the artifacts of the literature search"
   ]
  },
  {
   "cell_type": "code",
   "execution_count": 1,
   "metadata": {},
   "outputs": [],
   "source": [
    "import os\n",
    "import re\n",
    "import requests\n",
    "import json\n",
    "import sqlite3\n",
    "import pandas as pd\n",
    "import pprint\n",
    "import matplotlib.pyplot as plt\n",
    "    \n",
    "os.chdir(os.path.expanduser(\"/home/jovyan/data/pubmunch/crawl/\"))"
   ]
  },
  {
   "cell_type": "markdown",
   "metadata": {},
   "source": [
    "## Download"
   ]
  },
  {
   "cell_type": "code",
   "execution_count": 2,
   "metadata": {},
   "outputs": [
    {
     "name": "stdout",
     "output_type": "stream",
     "text": [
      "189 PMIDs attempted\n"
     ]
    }
   ],
   "source": [
    "with open(\"download/pmids.txt\") as f:\n",
    "    pmids = set(f.read().splitlines())\n",
    "print(\"{} PMIDs attempted\".format(len(pmids)))"
   ]
  },
  {
   "cell_type": "code",
   "execution_count": 3,
   "metadata": {},
   "outputs": [
    {
     "name": "stdout",
     "output_type": "stream",
     "text": [
      "159 (84%) succeeded\n",
      " 30 (16%) failed\n",
      "\n",
      "OK                     159\n",
      "invalidPdf              20\n",
      "HighwirePdfNotValid      4\n",
      "noCrawlerSuccess         3\n",
      "httpError                2\n",
      "noLicense                1\n",
      "Name: status, dtype: int64\n"
     ]
    }
   ],
   "source": [
    "download = pd.read_csv(\"download/docStatus.tab\",\n",
    "                       sep=\"\\t\", header=None, index_col=False, dtype=str,\n",
    "                       names=[\"pmid\", \"status\", \"msg\", \"crawler\", \"journal\", \"year\", \"numFiles\", \"detail\"])\n",
    "\n",
    "print(\"{} ({}%) succeeded\\n {} ({}%) failed\\n\".format(\n",
    "    download[download.status == \"OK\"].shape[0], \n",
    "    round(100 * download[download.status == \"OK\"].shape[0] / len(pmids)),\n",
    "    download[download.status != \"OK\"].shape[0], \n",
    "    round(100 * download[download.status != \"OK\"].shape[0] / len(pmids))))\n",
    "print(download.status.value_counts())"
   ]
  },
  {
   "cell_type": "markdown",
   "metadata": {},
   "source": [
    "## Find"
   ]
  },
  {
   "cell_type": "code",
   "execution_count": 4,
   "metadata": {},
   "outputs": [
    {
     "name": "stdout",
     "output_type": "stream",
     "text": [
      "21702 variants in BRCA Exchange\n",
      "6186 mentions found\n",
      "9804 matches found\n"
     ]
    }
   ],
   "source": [
    "variants = pd.read_csv(\"output/release/built_with_change_types.tsv\",\n",
    "                       sep=\"\\t\", header=0, encoding=\"utf-8\",\n",
    "                       usecols=[\"pyhgvs_Genomic_Coordinate_38\", \"pyhgvs_cDNA\", \"Synonyms\"])\n",
    "    \n",
    "print(\"{} variants in BRCA Exchange\".format(variants.shape[0]))\n",
    "\n",
    "mentions = pd.read_csv(\"mutations-trimmed.tsv\",\n",
    "                       sep=\"\\t\", header=0, encoding=\"utf-8\", dtype=\"str\")\n",
    "print(\"{} mentions found\".format(mentions.shape[0]))\n",
    "\n",
    "matches = pd.read_csv(\"mentions-matched.tsv\", sep=\"\\t\", header=0, encoding=\"utf-8\")\n",
    "print(\"{} matches found\".format(matches.shape[0]))"
   ]
  },
  {
   "cell_type": "code",
   "execution_count": 5,
   "metadata": {},
   "outputs": [
    {
     "data": {
      "text/plain": [
       "count    9804.000000\n",
       "mean        6.938800\n",
       "std         3.108026\n",
       "min         1.000000\n",
       "25%         7.000000\n",
       "50%         7.000000\n",
       "75%        10.000000\n",
       "max        14.000000\n",
       "Name: points, dtype: float64"
      ]
     },
     "execution_count": 5,
     "metadata": {},
     "output_type": "execute_result"
    }
   ],
   "source": [
    "matches.points.describe()"
   ]
  },
  {
   "cell_type": "code",
   "execution_count": 6,
   "metadata": {},
   "outputs": [
    {
     "name": "stdout",
     "output_type": "stream",
     "text": [
      "149 Papers and 1811 Variants exported\n"
     ]
    }
   ],
   "source": [
    "with open(\"literature.json\") as f:\n",
    "    lit = json.loads(f.read())\n",
    "print(\"{} Papers and {} Variants exported\".format(len(lit[\"papers\"]), len(lit[\"variants\"])))"
   ]
  },
  {
   "cell_type": "code",
   "execution_count": 7,
   "metadata": {},
   "outputs": [
    {
     "name": "stdout",
     "output_type": "stream",
     "text": [
      "Papers that didn't yield any variants:\n",
      "{'20513136', '12601471', '17279547', '19070627', '12955716', '28122244', '18693280', '16528612', '20875879', '19287957', '16969499', '12552570', '18493658', '18375895', '18680205', '15533909', '12815598', '22430266', '7545954', '15829246', '16211554', '7939630', '10406662', '17657584', '16619214', '19150617', '20020529', '9805131', '20054658', '16786532', '12955719', '15300854', '12606139', '10667592', '19393826', '9333265', '11385711', '11877378', '10506595', '9523200'}\n"
     ]
    }
   ],
   "source": [
    "print(\"Papers that didn't yield any variants:\")\n",
    "print(set(pmids) - set(lit[\"papers\"].keys()))"
   ]
  },
  {
   "cell_type": "code",
   "execution_count": 8,
   "metadata": {},
   "outputs": [],
   "source": [
    "# print(\"Max mentions for a single variant: {} {}\".format(\n",
    "#     exploded.groupby([\"pyhgvs_Genomic_Coordinate_38\"]).size().idxmax(),\n",
    "#     exploded.groupby([\"pyhgvs_Genomic_Coordinate_38\"]).size().max()))\n",
    "\n",
    "# print(\"Max mentions for a single paper from one variant: {} {}\".format(\n",
    "#     exploded.groupby([\"pyhgvs_Genomic_Coordinate_38\", \"pmid\"]).size().idxmax(),\n",
    "#     exploded.groupby([\"pyhgvs_Genomic_Coordinate_38\", \"pmid\"]).size().max()))\n",
    "\n",
    "# print(\"Paper referenced from the most variants: {} {}\".format(\n",
    "#     exploded.groupby([\"pmid\"]).size().idxmax(),\n",
    "#     exploded.groupby([\"pmid\"]).size().max()))"
   ]
  },
  {
   "cell_type": "markdown",
   "metadata": {},
   "source": [
    "## Founder Mutations\n",
    "\n",
    "Make sure the variant matches to several founder mutation articles as reported [here](https://github.com/BRCAChallenge/pubMunch-BRCA/issues/10) are present."
   ]
  },
  {
   "cell_type": "code",
   "execution_count": 23,
   "metadata": {},
   "outputs": [],
   "source": [
    "# Make sure all the articles were in the crawl\n",
    "assert set(['12473589', '15994883', '9042909', '21987798', '16397213', '20608970', '11352856', \n",
    " '9145676', '25192939', '21598239', '28122244', '14576434', '20215531', '18158280', '22430266']).issubset(pmids)"
   ]
  },
  {
   "cell_type": "code",
   "execution_count": 21,
   "metadata": {},
   "outputs": [
    {
     "name": "stdout",
     "output_type": "stream",
     "text": [
      "{'12473589', '15994883', '9042909', '21987798', '16397213', '20608970', '11352856', '9145676', '25192939', '21598239', '28122244', '14576434', '20215531', '18158280', '22430266'}\n"
     ]
    }
   ],
   "source": [
    "text = \"\"\"\n",
    "Abeliovich et al. 1997 à https://www.ncbi.nlm.nih.gov/pubmed/9042909 (in article title)\n",
    "Antoniou et al. 2005 à https://www.ncbi.nlm.nih.gov/pubmed/15994883 (in article title)\n",
    "Chodick et al. 2008 à https://www.ncbi.nlm.nih.gov/pubmed/18158280 (in article abstract)\n",
    "Elstrodt et al. 2006 à https://www.ncbi.nlm.nih.gov/pubmed/16397213 (in article abstract)\n",
    "Finkelman et al. 2012 à https://www.ncbi.nlm.nih.gov/pubmed/22430266 (in article abstract)\n",
    "Gabai-Kapara et al. 2014 à https://www.ncbi.nlm.nih.gov/pubmed/25192939 (in article introduction and methods)\n",
    "King et al. 2003 à https://www.ncbi.nlm.nih.gov/pubmed/14576434 (in article)\n",
    "Konishi et al. 2011 à https://www.ncbi.nlm.nih.gov/pubmed/21987798 (in abstract)\n",
    "Linger and Kruk 2010 à https://www.ncbi.nlm.nih.gov/pubmed/20608970 (in article)\n",
    "Satagopan et al. 2001 à https://www.ncbi.nlm.nih.gov/pubmed/11352856 (in abstract)\n",
    "Satagopan et al. 2002 à https://www.ncbi.nlm.nih.gov/pubmed/12473589 (in abstract)\n",
    "Stadler et al. 2012 à https://www.ncbi.nlm.nih.gov/pubmed/21598239 (in abstract)\n",
    "Struewing et al. 1997 à https://www.ncbi.nlm.nih.gov/pubmed/9145676 (in abstract)\n",
    "Abeliovich et al. 1997 à https://www.ncbi.nlm.nih.gov/pubmed/9042909 (in article title)\n",
    "Antoniou et al. 2005 à https://www.ncbi.nlm.nih.gov/pubmed/15994883 (in article title)\n",
    "Finkelman et al. 2012 à https://www.ncbi.nlm.nih.gov/pubmed/22430266 (in article)\n",
    "Gabai-Kapara et al. 2014 à https://www.ncbi.nlm.nih.gov/pubmed/25192939 (in article introduction and methods)\n",
    "King et al. 2003 à https://www.ncbi.nlm.nih.gov/pubmed/14576434 (in article)\n",
    "Mgbemena et al. 2017 à https://www.ncbi.nlm.nih.gov/pubmed/28122244 (in abstract)\n",
    "Satagopan et al. 2002 à https://www.ncbi.nlm.nih.gov/pubmed/12473589 (in abstract)\n",
    "Struewing et al. 1997 à https://www.ncbi.nlm.nih.gov/pubmed/9145676 (in abstract)\n",
    "Abeliovich et al. 1997 à https://www.ncbi.nlm.nih.gov/pubmed/9042909 (in article title)\n",
    "Antoniou et al. 2005 à https://www.ncbi.nlm.nih.gov/pubmed/15994883 (in article title)\n",
    "Chodick et al. 2008 à https://www.ncbi.nlm.nih.gov/pubmed/18158280 (in article abstract)\n",
    "Finkelman et al. 2012 à https://www.ncbi.nlm.nih.gov/pubmed/22430266 (in article abstract)\n",
    "Gabai-Kapara et al. 2014 à https://www.ncbi.nlm.nih.gov/pubmed/25192939 (in article introduction and methods)\n",
    "Gallagher et al. 2010 à https://www.ncbi.nlm.nih.gov/pubmed/20215531 (in methods)\n",
    "King et al. 2003 à https://www.ncbi.nlm.nih.gov/pubmed/14576434 (in article)\n",
    "Satagopan et al. 2001 à https://www.ncbi.nlm.nih.gov/pubmed/11352856 (in abstract)\n",
    "Satagopan et al. 2002 à https://www.ncbi.nlm.nih.gov/pubmed/12473589 (in abstract)\n",
    "Struewing et al. 1997 à https://www.ncbi.nlm.nih.gov/pubmed/9145676 (in abstract)\n",
    "\"\"\"\n",
    "print(set(re.findall(r\"\\/(\\d+)\", text)))\n"
   ]
  },
  {
   "cell_type": "code",
   "execution_count": 10,
   "metadata": {},
   "outputs": [
    {
     "name": "stdout",
     "output_type": "stream",
     "text": [
      "{'22430266', '111111'}\n",
      "Not Crawled: {'111111'}\n"
     ]
    }
   ],
   "source": [
    "# BRCA1 185delAG: https://brcaexchange.org/variant/183889\n",
    "# chr17:g.43124027:ACT>A\n",
    "text = \"\"\"\n",
    "Abeliovich et al. 1997 à https://www.ncbi.nlm.nih.gov/pubmed/9042909 (in article title)\n",
    "Antoniou et al. 2005 à https://www.ncbi.nlm.nih.gov/pubmed/15994883 (in article title)\n",
    "Chodick et al. 2008 à https://www.ncbi.nlm.nih.gov/pubmed/18158280 (in article abstract)\n",
    "Elstrodt et al. 2006 à https://www.ncbi.nlm.nih.gov/pubmed/16397213 (in article abstract)\n",
    "Finkelman et al. 2012 à https://www.ncbi.nlm.nih.gov/pubmed/22430266 (in article abstract)\n",
    "Gabai-Kapara et al. 2014 à https://www.ncbi.nlm.nih.gov/pubmed/25192939 (in article introduction and methods)\n",
    "King et al. 2003 à https://www.ncbi.nlm.nih.gov/pubmed/14576434 (in article)\n",
    "Konishi et al. 2011 à https://www.ncbi.nlm.nih.gov/pubmed/21987798 (in abstract)\n",
    "Linger and Kruk 2010 à https://www.ncbi.nlm.nih.gov/pubmed/20608970 (in article)\n",
    "Satagopan et al. 2001 à https://www.ncbi.nlm.nih.gov/pubmed/11352856 (in abstract)\n",
    "Satagopan et al. 2002 à https://www.ncbi.nlm.nih.gov/pubmed/12473589 (in abstract)\n",
    "Stadler et al. 2012 à https://www.ncbi.nlm.nih.gov/pubmed/21598239 (in abstract)\n",
    "Struewing et al. 1997 à https://www.ncbi.nlm.nih.gov/pubmed/9145676 (in abstract)\n",
    "\n",
    "Struewing et al. 1997 à https://www.ncbi.nlm.nih.gov/pubmed/111111 Spikein :-)\n",
    "\"\"\"\n",
    "print(set(re.findall(r\"\\/(\\d+)\", text)).difference(\n",
    "    set([v[\"pmid\"] for v in lit[\"variants\"][\"chr17:g.43124027:ACT>A\"]])))\n",
    "print(\"Not Crawled:\", set(re.findall(r\"\\/(\\d+)\", text)) - set(pmids))"
   ]
  },
  {
   "cell_type": "code",
   "execution_count": 11,
   "metadata": {},
   "outputs": [
    {
     "name": "stdout",
     "output_type": "stream",
     "text": [
      "{'28122244', '22430266', '111111'}\n",
      "Not Crawled: {'111111'}\n"
     ]
    }
   ],
   "source": [
    "# **BRCA1 5382insC: https://brcaexchange.org/variant/180141**\n",
    "# chr17:g.43057062:T>TG\n",
    "text = \"\"\"\n",
    "Abeliovich et al. 1997 à https://www.ncbi.nlm.nih.gov/pubmed/9042909 (in article title)\n",
    "Antoniou et al. 2005 à https://www.ncbi.nlm.nih.gov/pubmed/15994883 (in article title)\n",
    "Finkelman et al. 2012 à https://www.ncbi.nlm.nih.gov/pubmed/22430266 (in article)\n",
    "Gabai-Kapara et al. 2014 à https://www.ncbi.nlm.nih.gov/pubmed/25192939 (in article introduction and methods)\n",
    "King et al. 2003 à https://www.ncbi.nlm.nih.gov/pubmed/14576434 (in article)\n",
    "Mgbemena et al. 2017 à https://www.ncbi.nlm.nih.gov/pubmed/28122244 (in abstract)\n",
    "Satagopan et al. 2002 à https://www.ncbi.nlm.nih.gov/pubmed/12473589 (in abstract)\n",
    "Struewing et al. 1997 à https://www.ncbi.nlm.nih.gov/pubmed/9145676 (in abstract)\n",
    "\n",
    "Struewing et al. 1997 à https://www.ncbi.nlm.nih.gov/pubmed/111111 Spikein :-)\n",
    "\"\"\"\n",
    "print(set(re.findall(r\"\\/(\\d+)\", text)).difference(\n",
    "    set([v[\"pmid\"] for v in lit[\"variants\"][\"chr17:g.43057062:T>TG\"]])))\n",
    "print(\"Not Crawled:\", set(re.findall(r\"\\/(\\d+)\", text)) - set(pmids))"
   ]
  },
  {
   "cell_type": "code",
   "execution_count": 12,
   "metadata": {},
   "outputs": [
    {
     "name": "stdout",
     "output_type": "stream",
     "text": [
      "{'22430266', '111111'}\n",
      "Not Crawled: {'111111'}\n"
     ]
    }
   ],
   "source": [
    "# **BRCA2 6174delT: https://brcaexchange.org/variant/177049**\n",
    "# chr13:g.32340526:AT>A\n",
    "text = \"\"\"\n",
    "Abeliovich et al. 1997 à https://www.ncbi.nlm.nih.gov/pubmed/9042909 (in article title)\n",
    "Antoniou et al. 2005 à https://www.ncbi.nlm.nih.gov/pubmed/15994883 (in article title)\n",
    "Chodick et al. 2008 à https://www.ncbi.nlm.nih.gov/pubmed/18158280 (in article abstract)\n",
    "Finkelman et al. 2012 à https://www.ncbi.nlm.nih.gov/pubmed/22430266 (in article abstract)\n",
    "Gabai-Kapara et al. 2014 à https://www.ncbi.nlm.nih.gov/pubmed/25192939 (in article introduction and methods)\n",
    "Gallagher et al. 2010 à https://www.ncbi.nlm.nih.gov/pubmed/20215531 (in methods)\n",
    "King et al. 2003 à https://www.ncbi.nlm.nih.gov/pubmed/14576434 (in article)\n",
    "Satagopan et al. 2001 à https://www.ncbi.nlm.nih.gov/pubmed/11352856 (in abstract)\n",
    "Satagopan et al. 2002 à https://www.ncbi.nlm.nih.gov/pubmed/12473589 (in abstract)\n",
    "Struewing et al. 1997 à https://www.ncbi.nlm.nih.gov/pubmed/9145676 (in abstract)\n",
    "\n",
    "Struewing et al. 1997 à https://www.ncbi.nlm.nih.gov/pubmed/111111 Spikein :-)\n",
    "\"\"\"\n",
    "print(set(re.findall(r\"\\/(\\d+)\", text)).difference(\n",
    "    set([v[\"pmid\"] for v in lit[\"variants\"][\"chr13:g.32340526:AT>A\"]])))\n",
    "print(\"Not Crawled:\", set(re.findall(r\"\\/(\\d+)\", text)) - set(pmids))"
   ]
  },
  {
   "cell_type": "markdown",
   "metadata": {},
   "source": [
    "## LOVD"
   ]
  },
  {
   "cell_type": "code",
   "execution_count": 13,
   "metadata": {},
   "outputs": [
    {
     "name": "stdout",
     "output_type": "stream",
     "text": [
      "175 pmids and 1044 variants in normalized LOVD truth set\n"
     ]
    },
    {
     "data": {
      "text/html": [
       "<div>\n",
       "<style scoped>\n",
       "    .dataframe tbody tr th:only-of-type {\n",
       "        vertical-align: middle;\n",
       "    }\n",
       "\n",
       "    .dataframe tbody tr th {\n",
       "        vertical-align: top;\n",
       "    }\n",
       "\n",
       "    .dataframe thead th {\n",
       "        text-align: right;\n",
       "    }\n",
       "</style>\n",
       "<table border=\"1\" class=\"dataframe\">\n",
       "  <thead>\n",
       "    <tr style=\"text-align: right;\">\n",
       "      <th></th>\n",
       "      <th>pmid</th>\n",
       "      <th>norm_c_hgvs</th>\n",
       "      <th>norm_g_hgvs</th>\n",
       "      <th>pyhgvs_Genomic_Coordinate_38</th>\n",
       "    </tr>\n",
       "  </thead>\n",
       "  <tbody>\n",
       "    <tr>\n",
       "      <th>0</th>\n",
       "      <td>24667779</td>\n",
       "      <td>NM_007294.3:c.-19-22_-19-21dup</td>\n",
       "      <td>NC_000017.11:g.43124146_43124147dup</td>\n",
       "      <td>chr17:g.43124146_43124147:dup</td>\n",
       "    </tr>\n",
       "    <tr>\n",
       "      <th>1</th>\n",
       "      <td>10459348</td>\n",
       "      <td>NM_007294.3:c.-19-10T&gt;C</td>\n",
       "      <td>NC_000017.11:g.43124125A&gt;G</td>\n",
       "      <td>chr17:g.43124125:A&gt;G</td>\n",
       "    </tr>\n",
       "    <tr>\n",
       "      <th>2</th>\n",
       "      <td>24667779</td>\n",
       "      <td>NM_007294.3:c.-19-10T&gt;C</td>\n",
       "      <td>NC_000017.11:g.43124125A&gt;G</td>\n",
       "      <td>chr17:g.43124125:A&gt;G</td>\n",
       "    </tr>\n",
       "    <tr>\n",
       "      <th>3</th>\n",
       "      <td>16403807</td>\n",
       "      <td>NM_007294.3:c.-3G&gt;C</td>\n",
       "      <td>NC_000017.11:g.43124099C&gt;G</td>\n",
       "      <td>chr17:g.43124099:C&gt;G</td>\n",
       "    </tr>\n",
       "    <tr>\n",
       "      <th>4</th>\n",
       "      <td>19393826</td>\n",
       "      <td>NM_007294.3:c.1_134del</td>\n",
       "      <td>NC_000017.11:g.43115728_43124098del</td>\n",
       "      <td>chr17:g.43115728_43124098:del</td>\n",
       "    </tr>\n",
       "  </tbody>\n",
       "</table>\n",
       "</div>"
      ],
      "text/plain": [
       "       pmid                     norm_c_hgvs  \\\n",
       "0  24667779  NM_007294.3:c.-19-22_-19-21dup   \n",
       "1  10459348         NM_007294.3:c.-19-10T>C   \n",
       "2  24667779         NM_007294.3:c.-19-10T>C   \n",
       "3  16403807             NM_007294.3:c.-3G>C   \n",
       "4  19393826          NM_007294.3:c.1_134del   \n",
       "\n",
       "                           norm_g_hgvs   pyhgvs_Genomic_Coordinate_38  \n",
       "0  NC_000017.11:g.43124146_43124147dup  chr17:g.43124146_43124147:dup  \n",
       "1           NC_000017.11:g.43124125A>G           chr17:g.43124125:A>G  \n",
       "2           NC_000017.11:g.43124125A>G           chr17:g.43124125:A>G  \n",
       "3           NC_000017.11:g.43124099C>G           chr17:g.43124099:C>G  \n",
       "4  NC_000017.11:g.43115728_43124098del  chr17:g.43115728_43124098:del  "
      ]
     },
     "execution_count": 13,
     "metadata": {},
     "output_type": "execute_result"
    }
   ],
   "source": [
    "lovd = pd.read_table(\n",
    "    \"https://raw.githubusercontent.com/BRCAChallenge/pubMunch-BRCA/master/tests/lovd-normalized.tsv\", dtype=str)\n",
    "print(\"{} pmids and {} variants in normalized LOVD truth set\".format(\n",
    "    len(set(lovd.pmid.values)),\n",
    "    len(set(lovd.pyhgvs_Genomic_Coordinate_38.values))))\n",
    "lovd.head()"
   ]
  },
  {
   "cell_type": "code",
   "execution_count": 14,
   "metadata": {},
   "outputs": [
    {
     "name": "stdout",
     "output_type": "stream",
     "text": [
      "Missing from list of PMIDs to download:\n",
      "08896551, 08751436, 09523200, 2010, 09126734, 09805131, 09971877, 08531967, 09333265, 09497265, 07939630, 07545954, 08942979, 09585599\n",
      "\n",
      "Failed to download:\n",
      "18680205 (invalidPdf), 10406662 (invalidPdf), 12955719 (invalidPdf), 17279547 (invalidPdf), 18493658 (noCrawlerSuccess), 15533909 (HighwirePdfNotValid), 16211554 (invalidPdf), 20054658 (invalidPdf), 15300854 (invalidPdf), 10506595 (HighwirePdfNotValid), 20513136 (invalidPdf), 16528612 (invalidPdf), 12552570 (invalidPdf), 20020529 (invalidPdf), 16619214 (invalidPdf), 12601471 (httpError), 12955716 (invalidPdf), 18693280 (invalidPdf), 19287957 (noCrawlerSuccess), 16969499 (noCrawlerSuccess), 18375895 (HighwirePdfNotValid), 12815598 (invalidPdf), 17657584 (invalidPdf), 16786532 (invalidPdf), 11385711 (invalidPdf)\n"
     ]
    }
   ],
   "source": [
    "print(\"Missing from list of PMIDs to download:\")\n",
    "print(\", \".join([p for p in set(lovd.pmid.values) if p not in pmids]))\n",
    "\n",
    "print(\"\\nFailed to download:\")\n",
    "print(\", \".join([\"{} ({})\".format(p, download[download.pmid == p].status.values[0]) \n",
    "                   for p in set(lovd.pmid.values) if \n",
    "                   download[(download.pmid == p) & (download.status != \"OK\")].shape[0]]))"
   ]
  },
  {
   "cell_type": "code",
   "execution_count": 15,
   "metadata": {},
   "outputs": [
    {
     "name": "stdout",
     "output_type": "stream",
     "text": [
      "128 common pmids between LOVD and this crawl\n"
     ]
    }
   ],
   "source": [
    "common_pmids = list(set(lit[\"papers\"].keys()).intersection(set(lovd.pmid.values)))\n",
    "print(\"{} common pmids between LOVD and this crawl\".format(len(common_pmids)))"
   ]
  },
  {
   "cell_type": "code",
   "execution_count": 16,
   "metadata": {},
   "outputs": [],
   "source": [
    "# Invert the literature.json exported to BRCA Exchange to create a variants by pmid from literature\n",
    "import itertools\n",
    "\n",
    "lit_pmid_variant_tuple = [(hit[\"pmid\"], variant)\n",
    "                          for variant, hits in lit[\"variants\"].items()\n",
    "                          for hit in hits]\n",
    "\n",
    "lit_variants_by_pmid = {pmid: [v[1] \n",
    "                        for v in variants]\n",
    "                        for pmid, variants in itertools.groupby(sorted(lit_pmid_variant_tuple), lambda x: x[0])}"
   ]
  },
  {
   "cell_type": "code",
   "execution_count": 17,
   "metadata": {},
   "outputs": [
    {
     "data": {
      "image/png": "[encoded data removed]",
      "text/plain": [
       "<Figure size 432x288 with 1 Axes>"
      ]
     },
     "metadata": {
      "needs_background": "light"
     },
     "output_type": "display_data"
    }
   ],
   "source": [
    "# Compute per paper the % of LOVD variants we found and exported in literature.json\n",
    "pcts = {\n",
    "    p: len(set(lit_variants_by_pmid[p]).intersection(\n",
    "        set(lovd[lovd.pmid == p].pyhgvs_Genomic_Coordinate_38.values))) / len(\n",
    "        set(lovd[lovd.pmid == p].pyhgvs_Genomic_Coordinate_38.values)) \n",
    "    for p in common_pmids}\n",
    "\n",
    "lovd_stats = pd.DataFrame.from_dict(pcts, orient=\"index\", columns=[\"pct\"]).rename_axis(\"pmid\")\n",
    "\n",
    "plt.hist(lovd_stats.pct)\n",
    "plt.title(\"Histogram of % variants found\")\n",
    "plt.xlabel(\"% variants found\")\n",
    "plt.ylabel(\"# papers\")\n",
    "plt.show()"
   ]
  },
  {
   "cell_type": "markdown",
   "metadata": {},
   "source": [
    "## Compare Current LOVD"
   ]
  },
  {
   "cell_type": "code",
   "execution_count": 18,
   "metadata": {},
   "outputs": [
    {
     "name": "stdout",
     "output_type": "stream",
     "text": [
      "2227 Papers and 3754 Variants exported\n"
     ]
    }
   ],
   "source": [
    "with open(\"/home/jovyan/public_html/literature-2018-11-14.json\") as f:\n",
    "    lit = json.loads(f.read())\n",
    "print(\"{} Papers and {} Variants exported\".format(len(lit[\"papers\"]), len(lit[\"variants\"])))\n",
    "\n",
    "\n",
    "# Invert the literature.json exported to BRCA Exchange to create a variants by pmid from literature\n",
    "# NOTE Old format\n",
    "import itertools\n",
    "\n",
    "cur_lit_pmid_variant_tuple = [(pmid, variant) \n",
    "                          for variant, mention in lit[\"variants\"].items() \n",
    "                          for pmid in list(mention.keys())]\n",
    "\n",
    "cur_lit_variants_by_pmid = {pmid: [v[1] \n",
    "                        for v in variants]\n",
    "                        for pmid, variants in itertools.groupby(sorted(cur_lit_pmid_variant_tuple), lambda x: x[0])}"
   ]
  },
  {
   "cell_type": "code",
   "execution_count": 19,
   "metadata": {},
   "outputs": [
    {
     "name": "stdout",
     "output_type": "stream",
     "text": [
      "Current Production Confusion Matrix:\n",
      "1094\t1237\n",
      "675\t-1\n",
      "Precision: 46.9% Recall: 61.8%\n",
      "New Confusion Matrix w/o Points Ranking:\n",
      "1166\t2246\n",
      "697\t-1\n",
      "Precision: 34.2% Recall: 62.6%\n"
     ]
    }
   ],
   "source": [
    "def confusion_matrix(lit_variants_by_pmid):\n",
    "    TP, FP, FN, TN = 0, 0, 0, -1\n",
    "\n",
    "    # Only evaluate papers in lovd and crawled\n",
    "    for pmid in set([p for p in lovd.pmid.values if p in lit_variants_by_pmid.keys()]):\n",
    "        actual = set(lovd[lovd[\"pmid\"] == pmid].pyhgvs_Genomic_Coordinate_38.values)\n",
    "        predicted = set(lit_variants_by_pmid[pmid])\n",
    "\n",
    "        TP += len(predicted.intersection(actual))\n",
    "        FP += len(predicted - actual)\n",
    "        FN += len(actual - predicted)\n",
    "#         TN += len(set(predicted.union(actual))) - (TP + FP + FN)\n",
    "        \n",
    "    precision = TP/(TP + FP)\n",
    "    recall = TP/(TP + FN)\n",
    "\n",
    "    return TP, FP, FN, TN, precision, recall \n",
    "\n",
    "TP, FP, FN, TN, precision, recall = confusion_matrix(cur_lit_variants_by_pmid)\n",
    "\n",
    "print(\"Current Production Confusion Matrix:\")\n",
    "print(\"{}\\t{}\".format(TP, FP))\n",
    "print(\"{}\\t{}\".format(FN, TN))\n",
    "print(\"Precision: {:.1%} Recall: {:.1%}\".format(precision, recall))\n",
    "\n",
    "TP, FP, FN, TN, precision, recall = confusion_matrix(lit_variants_by_pmid)\n",
    "\n",
    "print(\"New Confusion Matrix w/o Points Ranking:\")\n",
    "print(\"{}\\t{}\".format(TP, FP))\n",
    "print(\"{}\\t{}\".format(FN, TN))\n",
    "print(\"Precision: {:.1%} Recall: {:.1%}\".format(precision, recall))"
   ]
  }
 ],
 "metadata": {
  "kernelspec": {
   "display_name": "Python 3",
   "language": "python",
   "name": "python3"
  },
  "language_info": {
   "codemirror_mode": {
    "name": "ipython",
    "version": 3
   },
   "file_extension": ".py",
   "mimetype": "text/x-python",
   "name": "python",
   "nbconvert_exporter": "python",
   "pygments_lexer": "ipython3",
   "version": "3.6.8"
  }
 },
 "nbformat": 4,
 "nbformat_minor": 2
}
