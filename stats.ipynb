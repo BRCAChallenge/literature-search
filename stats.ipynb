{
 "cells": [
  {
   "cell_type": "markdown",
   "metadata": {
    "colab_type": "text",
    "id": "view-in-github"
   },
   "source": [
    "<a href=\"https://colab.research.google.com/github/BRCAChallenge/pubMunch-BRCA/blob/master/stats.ipynb\" target=\"_parent\"><img src=\"https://colab.research.google.com/assets/colab-badge.svg\" alt=\"Open In Colab\"/></a>"
   ]
  },
  {
   "cell_type": "raw",
   "metadata": {},
   "source": [
    "<script>\n",
    "  function code_toggle() {\n",
    "    if (code_shown){\n",
    "      $('div.input').hide('500');\n",
    "      $('#toggleButton').val('Show Code')\n",
    "    } else {\n",
    "      $('div.input').show('500');\n",
    "      $('#toggleButton').val('Hide Code')\n",
    "    }\n",
    "    code_shown = !code_shown\n",
    "  }\n",
    "\n",
    "  $( document ).ready(function(){\n",
    "    code_shown=false;\n",
    "    $('div.input').hide()\n",
    "  });\n",
    "</script>\n",
    "<form action=\"javascript:code_toggle()\"><input type=\"submit\" id=\"toggleButton\" value=\"Show Code\"></form>"
   ]
  },
  {
   "cell_type": "markdown",
   "metadata": {},
   "source": [
    "# Literature Search Crawl Report\n",
    "\n",
    "See [normalize.py](https://github.com/BRCAChallenge/pubMunch-BRCA/blob/master/normalize.py) for details on how the output of pubMunch is normalized into genomic HGVS and [export.ipynb](https://github.com/BRCAChallenge/pubMunch-BRCA/blob/master/export.ipynb) for details on how these normalized artifacts are exported into literature.json"
   ]
  },
  {
   "cell_type": "code",
   "execution_count": 1,
   "metadata": {},
   "outputs": [
    {
     "name": "stdout",
     "output_type": "stream",
     "text": [
      "Date of crawl: 2018-11-14\n"
     ]
    }
   ],
   "source": [
    "import os\n",
    "import requests\n",
    "import json\n",
    "import sqlite3\n",
    "import pandas as pd\n",
    "import matplotlib.pyplot as plt\n",
    "    \n",
    "base_url = \"http://public.gi.ucsc.edu/~rcurrie/pubMunch/crawl-2018-11-14\"\n",
    "print(\"Date of crawl: 2018-11-14\")"
   ]
  },
  {
   "cell_type": "markdown",
   "metadata": {},
   "source": [
    "## Download"
   ]
  },
  {
   "cell_type": "code",
   "execution_count": 2,
   "metadata": {},
   "outputs": [
    {
     "name": "stdout",
     "output_type": "stream",
     "text": [
      "16980 PMIDs attempted\n"
     ]
    }
   ],
   "source": [
    "pmids = requests.get(\"{}/download/pmids.txt\".format(base_url)).text.splitlines()\n",
    "print(\"{} PMIDs attempted\".format(len(pmids)))"
   ]
  },
  {
   "cell_type": "code",
   "execution_count": 3,
   "metadata": {},
   "outputs": [
    {
     "name": "stdout",
     "output_type": "stream",
     "text": [
      "14088 (83%) succeeded\n",
      " 2753 (16%) failed\n",
      "\n",
      "OK                     14088\n",
      "invalidPdf               978\n",
      "noCrawlerSuccess         817\n",
      "httpError                302\n",
      "noLicense                301\n",
      "HighwirePdfNotValid      254\n",
      "invalidHostname           55\n",
      "pageErrorMessage          28\n",
      "no_meta                    9\n",
      "noOutlinkOrDoi             6\n",
      "HtmlParseError             1\n",
      "tooManySupplFiles          1\n",
      "BeautifulSoupError         1\n",
      "Name: status, dtype: int64\n"
     ]
    }
   ],
   "source": [
    "download = pd.read_table(\"{}/download/docStatus.tab\".format(base_url), \n",
    "                           header=None, index_col=False, dtype=str,\n",
    "                           names=[\"pmid\", \"status\", \"msg\", \"crawler\", \"journal\", \"year\", \"numFiles\", \"detail\"])\n",
    "\n",
    "print(\"{} ({}%) succeeded\\n {} ({}%) failed\\n\".format(\n",
    "    download[download.status == \"OK\"].shape[0], \n",
    "    round(100 * download[download.status == \"OK\"].shape[0] / len(pmids)),\n",
    "    download[download.status != \"OK\"].shape[0], \n",
    "    round(100 * download[download.status != \"OK\"].shape[0] / len(pmids))))\n",
    "print(download.status.value_counts())"
   ]
  },
  {
   "cell_type": "markdown",
   "metadata": {},
   "source": [
    "## Find"
   ]
  },
  {
   "cell_type": "code",
   "execution_count": 4,
   "metadata": {},
   "outputs": [
    {
     "name": "stdout",
     "output_type": "stream",
     "text": [
      "428338 mutations found by varFinder\n"
     ]
    }
   ],
   "source": [
    "mutations = pd.read_table(\"{}/mutations.tsv\".format(base_url), header=0, dtype=str, index_col=False,\n",
    "                          usecols=[\"docId\", \"hgvsProt\", \"hgvsCoding\", \"hgvsRna\", \"mutSnippets\"])\n",
    "mutations = mutations.rename({\"docId\": \"pmid\"}, axis=\"columns\")\n",
    "print(\"{} mutations found by varFinder\".format(mutations.shape[0]))"
   ]
  },
  {
   "cell_type": "code",
   "execution_count": 5,
   "metadata": {},
   "outputs": [
    {
     "name": "stdout",
     "output_type": "stream",
     "text": [
      "442198 mutations successfully normalized into HGVS genomic coordinates\n"
     ]
    },
    {
     "data": {
      "text/html": [
       "<div>\n",
       "<style scoped>\n",
       "    .dataframe tbody tr th:only-of-type {\n",
       "        vertical-align: middle;\n",
       "    }\n",
       "\n",
       "    .dataframe tbody tr th {\n",
       "        vertical-align: top;\n",
       "    }\n",
       "\n",
       "    .dataframe thead th {\n",
       "        text-align: right;\n",
       "    }\n",
       "</style>\n",
       "<table border=\"1\" class=\"dataframe\">\n",
       "  <thead>\n",
       "    <tr style=\"text-align: right;\">\n",
       "      <th></th>\n",
       "      <th>norm_c_hgvs</th>\n",
       "      <th>pmid</th>\n",
       "      <th>snippet</th>\n",
       "    </tr>\n",
       "    <tr>\n",
       "      <th>norm_g_hgvs</th>\n",
       "      <th></th>\n",
       "      <th></th>\n",
       "      <th></th>\n",
       "    </tr>\n",
       "  </thead>\n",
       "  <tbody>\n",
       "    <tr>\n",
       "      <th>NC_000007.14:g.96709760A&gt;C</th>\n",
       "      <td>NM_006304.1:c.4T&gt;G</td>\n",
       "      <td>12228710</td>\n",
       "      <td>ee-stranded β sheet with OB2β1 and OB2β2, as w...</td>\n",
       "    </tr>\n",
       "    <tr>\n",
       "      <th>NC_000005.10:g.112767387A&gt;G</th>\n",
       "      <td>NM_001127511.2:c.449A&gt;G</td>\n",
       "      <td>28503720</td>\n",
       "      <td>Mutation     ER/HER2     Ethnicity     Fami...</td>\n",
       "    </tr>\n",
       "    <tr>\n",
       "      <th>NC_000023.11:g.107645290del</th>\n",
       "      <td>NM_001204402.1:c.32del</td>\n",
       "      <td>25742137</td>\n",
       "      <td>q,36.1,CGCACTCAGCAAGGCCTCCTGCCCTGAGAGAGGCTCCGC...</td>\n",
       "    </tr>\n",
       "    <tr>\n",
       "      <th>NC_000012.12:g.21563301C&gt;T</th>\n",
       "      <td>NM_021957.3:c.868G&gt;A</td>\n",
       "      <td>25742137</td>\n",
       "      <td>19:50109252-50109549 cg00397740,1,159402945,NC...</td>\n",
       "    </tr>\n",
       "    <tr>\n",
       "      <th>NC_000020.11:g.45911447G&gt;T</th>\n",
       "      <td>NM_006227.3:c.6C&gt;A</td>\n",
       "      <td>25742137</td>\n",
       "      <td>go_function: receptor activity; go_function: r...</td>\n",
       "    </tr>\n",
       "  </tbody>\n",
       "</table>\n",
       "</div>"
      ],
      "text/plain": [
       "                                         norm_c_hgvs      pmid  \\\n",
       "norm_g_hgvs                                                      \n",
       "NC_000007.14:g.96709760A>C        NM_006304.1:c.4T>G  12228710   \n",
       "NC_000005.10:g.112767387A>G  NM_001127511.2:c.449A>G  28503720   \n",
       "NC_000023.11:g.107645290del   NM_001204402.1:c.32del  25742137   \n",
       "NC_000012.12:g.21563301C>T      NM_021957.3:c.868G>A  25742137   \n",
       "NC_000020.11:g.45911447G>T        NM_006227.3:c.6C>A  25742137   \n",
       "\n",
       "                                                                       snippet  \n",
       "norm_g_hgvs                                                                     \n",
       "NC_000007.14:g.96709760A>C   ee-stranded β sheet with OB2β1 and OB2β2, as w...  \n",
       "NC_000005.10:g.112767387A>G     Mutation     ER/HER2     Ethnicity     Fami...  \n",
       "NC_000023.11:g.107645290del  q,36.1,CGCACTCAGCAAGGCCTCCTGCCCTGAGAGAGGCTCCGC...  \n",
       "NC_000012.12:g.21563301C>T   19:50109252-50109549 cg00397740,1,159402945,NC...  \n",
       "NC_000020.11:g.45911447G>T   go_function: receptor activity; go_function: r...  "
      ]
     },
     "execution_count": 5,
     "metadata": {},
     "output_type": "execute_result"
    }
   ],
   "source": [
    "mentions = pd.read_table(\"{}/mentions-normalized.tsv\".format(base_url), index_col=\"norm_g_hgvs\")\n",
    "mentions.pmid = mentions.pmid.astype(str)\n",
    "print(\"{} mutations successfully normalized into HGVS genomic coordinates\".format(mentions.shape[0]))\n",
    "mentions[::5000].head()"
   ]
  },
  {
   "cell_type": "code",
   "execution_count": 6,
   "metadata": {},
   "outputs": [
    {
     "name": "stdout",
     "output_type": "stream",
     "text": [
      "2227 Papers and 3754 Variants exported\n"
     ]
    }
   ],
   "source": [
    "lit = requests.get(\"{}/literature.json\".format(base_url)).json()\n",
    "print(\"{} Papers and {} Variants exported\".format(len(lit[\"papers\"]), len(lit[\"variants\"])))"
   ]
  },
  {
   "cell_type": "markdown",
   "metadata": {},
   "source": [
    "## LOVD"
   ]
  },
  {
   "cell_type": "code",
   "execution_count": 7,
   "metadata": {},
   "outputs": [
    {
     "name": "stdout",
     "output_type": "stream",
     "text": [
      "175 pmids and 1044 variants in normalized LOVD truth set\n"
     ]
    },
    {
     "data": {
      "text/html": [
       "<div>\n",
       "<style scoped>\n",
       "    .dataframe tbody tr th:only-of-type {\n",
       "        vertical-align: middle;\n",
       "    }\n",
       "\n",
       "    .dataframe tbody tr th {\n",
       "        vertical-align: top;\n",
       "    }\n",
       "\n",
       "    .dataframe thead th {\n",
       "        text-align: right;\n",
       "    }\n",
       "</style>\n",
       "<table border=\"1\" class=\"dataframe\">\n",
       "  <thead>\n",
       "    <tr style=\"text-align: right;\">\n",
       "      <th></th>\n",
       "      <th>pmid</th>\n",
       "      <th>norm_c_hgvs</th>\n",
       "      <th>norm_g_hgvs</th>\n",
       "      <th>pyhgvs_Genomic_Coordinate_38</th>\n",
       "    </tr>\n",
       "  </thead>\n",
       "  <tbody>\n",
       "    <tr>\n",
       "      <th>0</th>\n",
       "      <td>24667779</td>\n",
       "      <td>NM_007294.3:c.-19-22_-19-21dup</td>\n",
       "      <td>NC_000017.11:g.43124146_43124147dup</td>\n",
       "      <td>chr17:g.43124146_43124147:dup</td>\n",
       "    </tr>\n",
       "    <tr>\n",
       "      <th>1</th>\n",
       "      <td>10459348</td>\n",
       "      <td>NM_007294.3:c.-19-10T&gt;C</td>\n",
       "      <td>NC_000017.11:g.43124125A&gt;G</td>\n",
       "      <td>chr17:g.43124125:A&gt;G</td>\n",
       "    </tr>\n",
       "    <tr>\n",
       "      <th>2</th>\n",
       "      <td>24667779</td>\n",
       "      <td>NM_007294.3:c.-19-10T&gt;C</td>\n",
       "      <td>NC_000017.11:g.43124125A&gt;G</td>\n",
       "      <td>chr17:g.43124125:A&gt;G</td>\n",
       "    </tr>\n",
       "    <tr>\n",
       "      <th>3</th>\n",
       "      <td>16403807</td>\n",
       "      <td>NM_007294.3:c.-3G&gt;C</td>\n",
       "      <td>NC_000017.11:g.43124099C&gt;G</td>\n",
       "      <td>chr17:g.43124099:C&gt;G</td>\n",
       "    </tr>\n",
       "    <tr>\n",
       "      <th>4</th>\n",
       "      <td>19393826</td>\n",
       "      <td>NM_007294.3:c.1_134del</td>\n",
       "      <td>NC_000017.11:g.43115728_43124098del</td>\n",
       "      <td>chr17:g.43115728_43124098:del</td>\n",
       "    </tr>\n",
       "  </tbody>\n",
       "</table>\n",
       "</div>"
      ],
      "text/plain": [
       "       pmid                     norm_c_hgvs  \\\n",
       "0  24667779  NM_007294.3:c.-19-22_-19-21dup   \n",
       "1  10459348         NM_007294.3:c.-19-10T>C   \n",
       "2  24667779         NM_007294.3:c.-19-10T>C   \n",
       "3  16403807             NM_007294.3:c.-3G>C   \n",
       "4  19393826          NM_007294.3:c.1_134del   \n",
       "\n",
       "                           norm_g_hgvs   pyhgvs_Genomic_Coordinate_38  \n",
       "0  NC_000017.11:g.43124146_43124147dup  chr17:g.43124146_43124147:dup  \n",
       "1           NC_000017.11:g.43124125A>G           chr17:g.43124125:A>G  \n",
       "2           NC_000017.11:g.43124125A>G           chr17:g.43124125:A>G  \n",
       "3           NC_000017.11:g.43124099C>G           chr17:g.43124099:C>G  \n",
       "4  NC_000017.11:g.43115728_43124098del  chr17:g.43115728_43124098:del  "
      ]
     },
     "execution_count": 7,
     "metadata": {},
     "output_type": "execute_result"
    }
   ],
   "source": [
    "lovd = pd.read_table(\n",
    "    \"https://raw.githubusercontent.com/BRCAChallenge/pubMunch-BRCA/master/tests/lovd-normalized.tsv\", dtype=str)\n",
    "print(\"{} pmids and {} variants in normalized LOVD truth set\".format(\n",
    "    len(set(lovd.pmid.values)),\n",
    "    len(set(lovd.pyhgvs_Genomic_Coordinate_38.values))))\n",
    "lovd.head()"
   ]
  },
  {
   "cell_type": "code",
   "execution_count": 8,
   "metadata": {},
   "outputs": [
    {
     "name": "stdout",
     "output_type": "stream",
     "text": [
      "Missing from list of PMIDs to download:\n",
      "07545954, 09523200, 09333265, 09805131, 09497265, 09971877, 08751436, 08942979, 07939630, 09585599, 12900794, 18415037, 2010, 08896551, 08531967, 19150617, 09126734\n",
      "\n",
      "Failed to download:\n",
      "15533909 (HighwirePdfNotValid), 16619214 (invalidPdf), 12815598 (invalidPdf), 20054658 (invalidPdf), 17279547 (invalidPdf), 17305420 (httpError), 16786532 (invalidPdf), 17657584 (invalidPdf), 12552570 (invalidPdf), 11385711 (invalidPdf), 18693280 (invalidPdf), 18375895 (HighwirePdfNotValid), 12955716 (invalidPdf), 18493658 (noCrawlerSuccess), 20020529 (invalidPdf), 12601471 (httpError), 19287957 (noCrawlerSuccess), 10406662 (invalidPdf), 16211554 (invalidPdf), 16528612 (invalidPdf), 15300854 (invalidPdf), 18680205 (invalidPdf), 16969499 (noCrawlerSuccess), 10506595 (HighwirePdfNotValid), 20513136 (invalidPdf), 12955719 (invalidPdf)\n"
     ]
    }
   ],
   "source": [
    "print(\"Missing from list of PMIDs to download:\")\n",
    "print(\", \".join([p for p in set(lovd.pmid.values) if p not in pmids]))\n",
    "\n",
    "print(\"\\nFailed to download:\")\n",
    "print(\", \".join([\"{} ({})\".format(p, download[download.pmid == p].status.values[0]) \n",
    "                   for p in set(lovd.pmid.values) if \n",
    "                   download[(download.pmid == p) & (download.status != \"OK\")].shape[0]]))"
   ]
  },
  {
   "cell_type": "code",
   "execution_count": 9,
   "metadata": {},
   "outputs": [
    {
     "name": "stdout",
     "output_type": "stream",
     "text": [
      "117 common pmids between LOVD and this crawl\n"
     ]
    }
   ],
   "source": [
    "lit_pmids = set([pmid for variant, mentions in lit[\"variants\"].items() for pmid in mentions.keys()])\n",
    "\n",
    "common_pmids = list(lit_pmids.intersection(set(lovd.pmid.values)))\n",
    "print(\"{} common pmids between LOVD and this crawl\".format(len(common_pmids)))"
   ]
  },
  {
   "cell_type": "code",
   "execution_count": 10,
   "metadata": {},
   "outputs": [],
   "source": [
    "# Invert the literature.json exported to BRCA Exchange to create a variants by pmid from literature\n",
    "import itertools\n",
    "\n",
    "lit_pmid_variant_tuple = [(pmid, variant) \n",
    "                          for variant, mention in lit[\"variants\"].items() \n",
    "                          for pmid in list(mention.keys())]\n",
    "\n",
    "lit_variants_by_pmid = {pmid: [v[1] \n",
    "                        for v in variants]\n",
    "                        for pmid, variants in itertools.groupby(sorted(lit_pmid_variant_tuple), lambda x: x[0])}"
   ]
  },
  {
   "cell_type": "code",
   "execution_count": 11,
   "metadata": {},
   "outputs": [
    {
     "data": {
      "image/png": "[encoded data removed]",
      "text/plain": [
       "<Figure size 432x288 with 1 Axes>"
      ]
     },
     "metadata": {
      "needs_background": "light"
     },
     "output_type": "display_data"
    }
   ],
   "source": [
    "# Compute per paper the % of LOVD variants we found and exported in literature.json\n",
    "pcts = {\n",
    "    p: len(set(lit_variants_by_pmid[p]).intersection(\n",
    "        set(lovd[lovd.pmid == p].pyhgvs_Genomic_Coordinate_38.values))) / len(\n",
    "        set(lovd[lovd.pmid == p].pyhgvs_Genomic_Coordinate_38.values)) \n",
    "    for p in common_pmids}\n",
    "\n",
    "lovd_stats = pd.DataFrame.from_dict(pcts, orient=\"index\", columns=[\"pct\"]).rename_axis(\"pmid\")\n",
    "\n",
    "plt.hist(lovd_stats.pct)\n",
    "plt.title(\"Histogram of % variants found\")\n",
    "plt.xlabel(\"% variants found\")\n",
    "plt.ylabel(\"# papers\")\n",
    "plt.show()"
   ]
  },
  {
   "cell_type": "code",
   "execution_count": 12,
   "metadata": {},
   "outputs": [
    {
     "name": "stdout",
     "output_type": "stream",
     "text": [
      "PMIDs with < 50% of the variants in LOVD found:\n",
      "16280041, 14729053, 19423647, 24667779, 10638982, 18712473, 15876480, 18424508, 15001988, 12442171, 24395671, 15353005, 12142080, 18694767, 11573086, 11185744, 17899372, 22144684, 17924331, 14513821, 21673748, 12759930, 21741379, 18824701, 19043619\n"
     ]
    }
   ],
   "source": [
    "print(\"PMIDs with < 50% of the variants in LOVD found:\")\n",
    "print(\", \".join([v for v in lovd_stats[lovd_stats.pct < 0.5].index.values]))"
   ]
  }
 ],
 "metadata": {
  "kernelspec": {
   "display_name": "Python 3",
   "language": "python",
   "name": "python3"
  },
  "language_info": {
   "codemirror_mode": {
    "name": "ipython",
    "version": 3
   },
   "file_extension": ".py",
   "mimetype": "text/x-python",
   "name": "python",
   "nbconvert_exporter": "python",
   "pygments_lexer": "ipython3",
   "version": "3.5.2"
  }
 },
 "nbformat": 4,
 "nbformat_minor": 2
}
