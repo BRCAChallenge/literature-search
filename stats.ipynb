{
 "cells": [
  {
   "cell_type": "markdown",
   "metadata": {},
   "source": [
    "# Literature Search Crawl Report"
   ]
  },
  {
   "cell_type": "code",
   "execution_count": 22,
   "metadata": {},
   "outputs": [
    {
     "name": "stdout",
     "output_type": "stream",
     "text": [
      "Stats for crawl on 2019-04-27T22:12:11 (in /tf/data/literature-search/crawl/pubs-date.txt)\n"
     ]
    }
   ],
   "source": [
    "import os\n",
    "import re\n",
    "import requests\n",
    "import json\n",
    "import sqlite3\n",
    "import pandas as pd\n",
    "import pprint\n",
    "\n",
    "def path_in_crawl(path):\n",
    "    if \"CRAWL_PATH\" in os.environ:\n",
    "        return \"{}/{}\".format(os.environ[\"CRAWL_PATH\"], path)\n",
    "    else:\n",
    "        return \"{}/{}\".format(os.path.expanduser(\"~/data/literature-search/crawl\"), path)"
   ]
  },
  {
   "cell_type": "markdown",
   "metadata": {},
   "source": [
    "## Counts"
   ]
  },
  {
   "cell_type": "code",
   "execution_count": 101,
   "metadata": {},
   "outputs": [
    {
     "name": "stdout",
     "output_type": "stream",
     "text": [
      "Stats for crawl on 2019-04-27T22:12:11 (in /tf/data/literature-search/crawl/pubs-date.txt)\n",
      "Exported 3961 Papers and 10964 Variants\n",
      "260 papers added since baseline on 2019-02-27T16:26:37-0800 of 3701 papers and 9886 variants\n"
     ]
    }
   ],
   "source": [
    "print(\"Stats for crawl on {} (in {})\".format(\n",
    "    open(path_in_crawl(\"pubs-date.txt\")).read(), path_in_crawl(\"pubs-date.txt\")))\n",
    "\n",
    "with open(path_in_crawl(\"literature.json\")) as f:\n",
    "    lit = json.loads(f.read())\n",
    "print(\"Exported {} Papers and {} Variants\".format(len(lit[\"papers\"]), len(lit[\"variants\"])))\n",
    "\n",
    "with open(\"literature-baseline.json\") as f:\n",
    "    baseline_lit = json.loads(f.read())\n",
    "print(\"{} papers added since baseline on {} of {} papers and {} variants\".format(\n",
    "    len(lit[\"papers\"]) - len(baseline_lit[\"papers\"]),\n",
    "      baseline_lit[\"date\"], len(baseline_lit[\"papers\"]), len(baseline_lit[\"variants\"])))"
   ]
  },
  {
   "cell_type": "markdown",
   "metadata": {},
   "source": [
    "## Download"
   ]
  },
  {
   "cell_type": "code",
   "execution_count": 52,
   "metadata": {},
   "outputs": [
    {
     "name": "stdout",
     "output_type": "stream",
     "text": [
      "Attempted to download 17716 papers\n"
     ]
    }
   ],
   "source": [
    "with open(path_in_crawl(\"pmids.txt\")) as f:\n",
    "    pmids = set(f.read().splitlines())\n",
    "print(\"Attempted to download {} papers\".format(len(pmids)))"
   ]
  },
  {
   "cell_type": "code",
   "execution_count": 51,
   "metadata": {},
   "outputs": [
    {
     "name": "stdout",
     "output_type": "stream",
     "text": [
      "Succeeded in downloading 14734 (83%)\n",
      "\n",
      "Failure reasons:\n",
      "invalidPdf             1004\n",
      "noCrawlerSuccess        890\n",
      "httpError               320\n",
      "noLicense               312\n",
      "HighwirePdfNotValid     261\n",
      "ovidMetaParseFailed      90\n",
      "invalidHostname          55\n",
      "pageErrorMessage         32\n",
      "no_meta                   9\n",
      "noOutlinkOrDoi            6\n",
      "noSpringerLicense         3\n",
      "tooManySupplFiles         1\n",
      "BeautifulSoupError        1\n",
      "HtmlParseError            1\n",
      "Name: status, dtype: int64\n"
     ]
    }
   ],
   "source": [
    "download = pd.read_csv(path_in_crawl(\"docStatus.tab\"),\n",
    "                       sep=\"\\t\", header=None, index_col=False, dtype=str,\n",
    "                       names=[\"pmid\", \"status\", \"msg\", \"crawler\", \"journal\", \"year\", \"numFiles\", \"detail\"])\n",
    "\n",
    "print(\"Succeeded in downloading {} ({}%)\".format(\n",
    "    download[download.status == \"OK\"].shape[0], \n",
    "    round(100 * download[download.status == \"OK\"].shape[0] / len(pmids))))\n",
    "print(\"\\nFailure reasons:\")\n",
    "print(download.status.value_counts()[1:])"
   ]
  },
  {
   "cell_type": "markdown",
   "metadata": {},
   "source": [
    "## Find"
   ]
  },
  {
   "cell_type": "code",
   "execution_count": 59,
   "metadata": {},
   "outputs": [
    {
     "name": "stdout",
     "output_type": "stream",
     "text": [
      "13756 Papers didn't yield any variants\n",
      "Tried to match against 24662 variants in BRCA Exchange\n",
      "Found 450605 total mentions\n",
      "Succesfully matched 192557 mentions\n"
     ]
    }
   ],
   "source": [
    "print(\"{} Papers didn't yield any variants\".format(len(list(set(pmids) - set(lit[\"papers\"].keys())))))\n",
    "\n",
    "variants = pd.read_csv(path_in_crawl(\"built_with_change_types.tsv\"),\n",
    "                       sep=\"\\t\", header=0, encoding=\"utf-8\",\n",
    "                       usecols=[\"pyhgvs_Genomic_Coordinate_38\", \"pyhgvs_cDNA\", \"Synonyms\"])\n",
    "    \n",
    "print(\"Tried to match against {} variants in BRCA Exchange\".format(variants.shape[0]))\n",
    "\n",
    "mentions = pd.read_csv(path_in_crawl(\"mutations-trimmed.tsv\"),\n",
    "                       sep=\"\\t\", header=0, encoding=\"utf-8\", dtype=\"str\")\n",
    "print(\"Found {} total mentions\".format(mentions.shape[0]))\n",
    "\n",
    "matches = pd.read_csv(path_in_crawl(\"mentions-matched.tsv\"), sep=\"\\t\", header=0, encoding=\"utf-8\")\n",
    "print(\"Succesfully matched {} mentions\".format(matches.shape[0]))"
   ]
  },
  {
   "cell_type": "code",
   "execution_count": 55,
   "metadata": {},
   "outputs": [
    {
     "name": "stdout",
     "output_type": "stream",
     "text": [
      "Match points distribution:\n",
      "mean     5.363695\n",
      "std      3.328039\n",
      "min      1.000000\n",
      "25%      3.000000\n",
      "50%      5.000000\n",
      "75%      7.000000\n",
      "max     50.000000\n",
      "Name: points, dtype: float64\n"
     ]
    }
   ],
   "source": [
    "print(\"Match points distribution:\")\n",
    "print(matches.points.describe()[1:])"
   ]
  },
  {
   "cell_type": "markdown",
   "metadata": {},
   "source": [
    "## Founder Mutations"
   ]
  },
  {
   "cell_type": "code",
   "execution_count": 65,
   "metadata": {},
   "outputs": [
    {
     "name": "stdout",
     "output_type": "stream",
     "text": [
      "All founder mutation papers succesfully downloaded\n"
     ]
    }
   ],
   "source": [
    "# Make sure all the articles were in the crawl\n",
    "if set(['12473589', '15994883', '9042909', '21987798', '16397213', '20608970', '11352856', \n",
    " '9145676', '25192939', '21598239', '28122244', '14576434', '20215531', '18158280', '22430266']).issubset(pmids):\n",
    "    print(\"All founder mutation papers succesfully downloaded\")\n",
    "else:\n",
    "    print(\"Unable to download some founder mutation papers\")"
   ]
  },
  {
   "cell_type": "code",
   "execution_count": 74,
   "metadata": {},
   "outputs": [],
   "source": [
    "# BRCA1 185delAG: https://brcaexchange.org/variant/183889\n",
    "# chr17:g.43124027:ACT>A\n",
    "text = \"\"\"\n",
    "Abeliovich et al. 1997 à https://www.ncbi.nlm.nih.gov/pubmed/9042909 (in article title)\n",
    "Antoniou et al. 2005 à https://www.ncbi.nlm.nih.gov/pubmed/15994883 (in article title)\n",
    "Chodick et al. 2008 à https://www.ncbi.nlm.nih.gov/pubmed/18158280 (in article abstract)\n",
    "Elstrodt et al. 2006 à https://www.ncbi.nlm.nih.gov/pubmed/16397213 (in article abstract)\n",
    "Finkelman et al. 2012 à https://www.ncbi.nlm.nih.gov/pubmed/22430266 (in article abstract)\n",
    "Gabai-Kapara et al. 2014 à https://www.ncbi.nlm.nih.gov/pubmed/25192939 (in article introduction and methods)\n",
    "King et al. 2003 à https://www.ncbi.nlm.nih.gov/pubmed/14576434 (in article)\n",
    "Konishi et al. 2011 à https://www.ncbi.nlm.nih.gov/pubmed/21987798 (in abstract)\n",
    "Linger and Kruk 2010 à https://www.ncbi.nlm.nih.gov/pubmed/20608970 (in article)\n",
    "Satagopan et al. 2001 à https://www.ncbi.nlm.nih.gov/pubmed/11352856 (in abstract)\n",
    "Satagopan et al. 2002 à https://www.ncbi.nlm.nih.gov/pubmed/12473589 (in abstract)\n",
    "Stadler et al. 2012 à https://www.ncbi.nlm.nih.gov/pubmed/21598239 (in abstract)\n",
    "Struewing et al. 1997 à https://www.ncbi.nlm.nih.gov/pubmed/9145676 (in abstract)\n",
    "\"\"\"\n",
    "missing = set(re.findall(r\"\\/(\\d+)\", text)).difference(\n",
    "    set([v[\"pmid\"] for v in lit[\"variants\"][\"chr17:g.43124027:ACT>A\"]]))\n",
    "if missing:\n",
    "    print(\"185delAG (chr17:g.43124027:ACT>A) failed to match\", missing)"
   ]
  },
  {
   "cell_type": "code",
   "execution_count": 75,
   "metadata": {},
   "outputs": [
    {
     "name": "stdout",
     "output_type": "stream",
     "text": [
      "5382insC (chr17:g.43057062:T>TG) failed to match {'28122244'}\n"
     ]
    }
   ],
   "source": [
    "# **BRCA1 5382insC: https://brcaexchange.org/variant/180141**\n",
    "# chr17:g.43057062:T>TG\n",
    "text = \"\"\"\n",
    "Abeliovich et al. 1997 à https://www.ncbi.nlm.nih.gov/pubmed/9042909 (in article title)\n",
    "Antoniou et al. 2005 à https://www.ncbi.nlm.nih.gov/pubmed/15994883 (in article title)\n",
    "Finkelman et al. 2012 à https://www.ncbi.nlm.nih.gov/pubmed/22430266 (in article)\n",
    "Gabai-Kapara et al. 2014 à https://www.ncbi.nlm.nih.gov/pubmed/25192939 (in article introduction and methods)\n",
    "King et al. 2003 à https://www.ncbi.nlm.nih.gov/pubmed/14576434 (in article)\n",
    "Mgbemena et al. 2017 à https://www.ncbi.nlm.nih.gov/pubmed/28122244 (in abstract)\n",
    "Satagopan et al. 2002 à https://www.ncbi.nlm.nih.gov/pubmed/12473589 (in abstract)\n",
    "Struewing et al. 1997 à https://www.ncbi.nlm.nih.gov/pubmed/9145676 (in abstract)\n",
    "\"\"\"\n",
    "missing = set(re.findall(r\"\\/(\\d+)\", text)).difference(\n",
    "    set([v[\"pmid\"] for v in lit[\"variants\"][\"chr17:g.43057062:T>TG\"]]))\n",
    "if missing:\n",
    "    print(\"5382insC (chr17:g.43057062:T>TG) failed to match\", missing)"
   ]
  },
  {
   "cell_type": "code",
   "execution_count": 73,
   "metadata": {},
   "outputs": [],
   "source": [
    "# **BRCA2 6174delT: https://brcaexchange.org/variant/177049**\n",
    "# chr13:g.32340526:AT>A\n",
    "text = \"\"\"\n",
    "Abeliovich et al. 1997 à https://www.ncbi.nlm.nih.gov/pubmed/9042909 (in article title)\n",
    "Antoniou et al. 2005 à https://www.ncbi.nlm.nih.gov/pubmed/15994883 (in article title)\n",
    "Chodick et al. 2008 à https://www.ncbi.nlm.nih.gov/pubmed/18158280 (in article abstract)\n",
    "Finkelman et al. 2012 à https://www.ncbi.nlm.nih.gov/pubmed/22430266 (in article abstract)\n",
    "Gabai-Kapara et al. 2014 à https://www.ncbi.nlm.nih.gov/pubmed/25192939 (in article introduction and methods)\n",
    "Gallagher et al. 2010 à https://www.ncbi.nlm.nih.gov/pubmed/20215531 (in methods)\n",
    "King et al. 2003 à https://www.ncbi.nlm.nih.gov/pubmed/14576434 (in article)\n",
    "Satagopan et al. 2001 à https://www.ncbi.nlm.nih.gov/pubmed/11352856 (in abstract)\n",
    "Satagopan et al. 2002 à https://www.ncbi.nlm.nih.gov/pubmed/12473589 (in abstract)\n",
    "Struewing et al. 1997 à https://www.ncbi.nlm.nih.gov/pubmed/9145676 (in abstract)\n",
    "\"\"\"\n",
    "missing = set(re.findall(r\"\\/(\\d+)\", text)).difference(\n",
    "    set([v[\"pmid\"] for v in lit[\"variants\"][\"chr13:g.32340526:AT>A\"]]))\n",
    "if missing:\n",
    "    print(\"6174delT (chr13:g.32340526:AT>A) failed to match\", missing)"
   ]
  },
  {
   "cell_type": "markdown",
   "metadata": {},
   "source": [
    "## HGMD for chr13:g.32363367:C>G"
   ]
  },
  {
   "cell_type": "code",
   "execution_count": 80,
   "metadata": {},
   "outputs": [
    {
     "name": "stdout",
     "output_type": "stream",
     "text": [
      "HGMD matching failures {'29394989', '19043619', '29446198'}\n",
      "HGMD ranking and points:\n",
      "pmid\t\tpoints\t#snips\tHGMD\n",
      "22962691\t40\t3\t-\n",
      "21990134\t40\t3\t4\n",
      "24323938\t40\t3\t6\n",
      "25146914\t40\t3\t7\n",
      "20215541\t30\t3\t-\n",
      "18424508\t30\t3\t-\n",
      "30039884\t20\t3\t-\n",
      "21990165\t20\t2\t-\n",
      "23586058\t20\t2\t-\n",
      "20690207\t20\t2\t-\n",
      "20522429\t20\t3\t-\n",
      "20507642\t20\t2\t-\n",
      "19471317\t20\t2\t-\n",
      "18607349\t20\t3\t3\n",
      "18451181\t20\t3\t-\n",
      "18273839\t20\t3\t-\n",
      "26913838\t20\t2\t-\n",
      "27060066\t20\t2\t-\n",
      "28324225\t20\t3\t9\n",
      "15026808\t20\t2\t-\n",
      "29884841\t20\t3\t-\n",
      "29988080\t20\t2\t-\n",
      "23108138\t20\t3\t5\n",
      "28339459\t15\t3\t8\n",
      "25003164\t10\t1\t-\n",
      "24817641\t10\t1\t-\n",
      "24122022\t10\t1\t-\n",
      "10464631\t10\t1\t-\n",
      "22753008\t10\t1\t-\n",
      "21735045\t10\t1\t-\n",
      "21638052\t10\t1\t-\n",
      "12145750\t10\t3\t1\n",
      "21309043\t10\t1\t-\n",
      "17924331\t10\t1\t-\n",
      "17899372\t10\t1\t-\n",
      "16792514\t10\t1\t-\n",
      "15744044\t10\t1\t-\n",
      "12845657\t10\t1\t-\n",
      "21344236\t10\t1\t-\n",
      "19332451\t2\t3\t-\n",
      "16825284\t2\t2\t-\n",
      "12915465\t2\t2\t-\n"
     ]
    }
   ],
   "source": [
    "text = \"\"\"\n",
    "1. Fackenthal (2002) Am J Hum Genet 71: 625 PubMed: 12145750 \n",
    "BRCA2 T2722R is a deleterious allele that causes exon skipping.\n",
    "2. Karchin (2008) Cancer Inform 6: 203 PubMed: 19043619\n",
    "Classifying Variants of Undetermined Significance in BRCA2 with protein likelihood ratios.\n",
    "3. Kuznetsov (2008) Nat Med 14: 875 PubMed: 18607349\n",
    "Mouse embryonic stem cell-based functional assay to evaluate mutations in BRCA2.\n",
    "4. Lindor (2012) Hum Mutat 33: 8 PubMed: 21990134\n",
    "A review of a multifactorial probability-based model for classification of BRCA1 and BRCA2 variants of uncertain significance (VUS).\n",
    "5. Guidugli (2013) Cancer Res 73: 265 PubMed: 23108138\n",
    "A classification model for BRCA2 DNA binding domain missense variants based on homology-directed repair activity.\n",
    "6. Guidugli (2014) Hum Mutat 35: 151 PubMed: 24323938\n",
    "Functional assays for analysis of variants of uncertain significance in BRCA2.\n",
    "7. Hendriks (2014) Hum Mutat 35: 1382 PubMed: 25146914\n",
    "An Efficient Pipeline for the Generation and Functional Analysis of Human BRCA2 Variants of Uncertain Significance.\n",
    "8. Fraile-Bethencourt (2017) PLoS Genet 13: 1006691 PubMed: 28339459\n",
    "Functional classification of DNA variants by hybrid minigenes: Identification of 30 spliceogenic variants of BRCA2 exons 17 and 18.\n",
    "9. Meisel (2017) Arch Gynecol Obstet 295: 1227 PubMed: 28324225\n",
    "Spectrum of genetic variants of BRCA1 and BRCA2 in a German single center study.\n",
    "10. Guidugli (2018) Am J Hum Genet : PubMed: 29394989\n",
    "Assessment of the Clinical Relevance of BRCA2 Missense Variants by Functional and Computational Approaches.\n",
    "11. Rebbeck (2018) Hum Mutat 39: 593 PubMed: 29446198\n",
    "\"\"\"\n",
    "missing = set(re.findall(r\"\\/(\\d+)\", text)) - set(pmids)\n",
    "if missing:\n",
    "    print(\"Failed to download some HBMD papers:\", missing)\n",
    "\n",
    "print(\"HGMD matching failures\", set(re.findall(r\"PubMed: (\\d+)\", text)).difference(\n",
    "    set([v[\"pmid\"] for v in lit[\"variants\"][\"chr13:g.32363367:C>G\"]])))\n",
    "\n",
    "hgmd = {hgmd[1]: int(hgmd[0]) for hgmd in re.findall(r\"(\\d+)\\..*?PubMed: (\\d+)\", text)}\n",
    "\n",
    "print(\"HGMD ranking and points:\")\n",
    "print(\"pmid\\t\\tpoints\\t#snips\\tHGMD\")\n",
    "for hit in lit[\"variants\"][\"chr13:g.32363367:C>G\"]:\n",
    "    print(\"{}\\t{}\\t{}\\t{}\".format(\n",
    "        hit[\"pmid\"], hit[\"points\"], len(hit[\"mentions\"]),\n",
    "        hgmd[hit[\"pmid\"]] if hit[\"pmid\"] in hgmd else \"-\"))\n"
   ]
  },
  {
   "cell_type": "markdown",
   "metadata": {},
   "source": [
    "## LOVD"
   ]
  },
  {
   "cell_type": "code",
   "execution_count": 102,
   "metadata": {},
   "outputs": [
    {
     "name": "stdout",
     "output_type": "stream",
     "text": [
      "175 pmids and 1044 variants in normalized LOVD truth set\n"
     ]
    }
   ],
   "source": [
    "lovd = pd.read_csv(\"tests/lovd-normalized.tsv\", sep=\"\\t\", dtype=str)\n",
    "print(\"{} pmids and {} variants in normalized LOVD truth set\".format(\n",
    "    len(set(lovd.pmid.values)),\n",
    "    len(set(lovd.pyhgvs_Genomic_Coordinate_38.values))))"
   ]
  },
  {
   "cell_type": "code",
   "execution_count": 82,
   "metadata": {},
   "outputs": [
    {
     "name": "stdout",
     "output_type": "stream",
     "text": [
      "LOVD papers that we did not try and download:\n",
      "07545954, 09523200, 12900794, 08896551, 09805131, 09126734, 08531967, 07939630, 18415037, 09585599, 09971877, 19150617, 2010, 08942979, 08751436, 09333265, 09497265\n",
      "\n",
      "LOVD papers that we tried and failed to download:\n",
      "16969499 (noCrawlerSuccess), 18493658 (noCrawlerSuccess), 17279547 (invalidPdf), 18375895 (HighwirePdfNotValid), 10506595 (HighwirePdfNotValid), 19287957 (noCrawlerSuccess), 12955716 (invalidPdf), 17305420 (httpError), 20513136 (invalidPdf), 12552570 (invalidPdf), 12601471 (httpError), 20054658 (invalidPdf), 15533909 (HighwirePdfNotValid), 16211554 (invalidPdf), 20020529 (invalidPdf), 10406662 (invalidPdf), 12815598 (invalidPdf), 16786532 (invalidPdf), 15300854 (invalidPdf), 18693280 (invalidPdf), 16619214 (invalidPdf), 17657584 (invalidPdf), 16528612 (invalidPdf), 12955719 (invalidPdf), 18680205 (invalidPdf), 11385711 (invalidPdf)\n"
     ]
    }
   ],
   "source": [
    "print(\"LOVD papers that we did not try and download:\")\n",
    "print(\", \".join([p for p in set(lovd.pmid.values) if p not in pmids]))\n",
    "\n",
    "print(\"\\nLOVD papers that we tried and failed to download:\")\n",
    "print(\", \".join([\"{} ({})\".format(p, download[download.pmid == p].status.values[0]) \n",
    "                   for p in set(lovd.pmid.values) if \n",
    "                   download[(download.pmid == p) & (download.status != \"OK\")].shape[0]]))"
   ]
  },
  {
   "cell_type": "code",
   "execution_count": 83,
   "metadata": {},
   "outputs": [
    {
     "name": "stdout",
     "output_type": "stream",
     "text": [
      "125 common pmids between LOVD and this crawl\n"
     ]
    }
   ],
   "source": [
    "common_pmids = list(set(lit[\"papers\"].keys()).intersection(set(lovd.pmid.values)))\n",
    "print(\"{} common pmids between LOVD and this crawl\".format(len(common_pmids)))"
   ]
  },
  {
   "cell_type": "code",
   "execution_count": 38,
   "metadata": {},
   "outputs": [],
   "source": [
    "# Invert the literature.json exported to BRCA Exchange to create a variants by pmid from literature\n",
    "import itertools\n",
    "\n",
    "lit_pmid_variant_tuple = [(hit[\"pmid\"], variant)\n",
    "                          for variant, hits in lit[\"variants\"].items()\n",
    "                          for hit in hits]\n",
    "\n",
    "lit_variants_by_pmid = {pmid: [v[1] \n",
    "                        for v in variants]\n",
    "                        for pmid, variants in itertools.groupby(sorted(lit_pmid_variant_tuple), lambda x: x[0])}"
   ]
  },
  {
   "cell_type": "code",
   "execution_count": 39,
   "metadata": {},
   "outputs": [],
   "source": [
    "# Compute per paper the % of LOVD variants we found and exported in literature.json\n",
    "pcts = {\n",
    "    p: len(set(lit_variants_by_pmid[p]).intersection(\n",
    "        set(lovd[lovd.pmid == p].pyhgvs_Genomic_Coordinate_38.values))) / len(\n",
    "        set(lovd[lovd.pmid == p].pyhgvs_Genomic_Coordinate_38.values)) \n",
    "    for p in common_pmids}\n",
    "\n",
    "lovd_stats = pd.DataFrame.from_dict(pcts, orient=\"index\", columns=[\"pct\"]).rename_axis(\"pmid\")\n",
    "\n",
    "# import matplotlib.pyplot as plt\n",
    "# plt.hist(lovd_stats.pct)\n",
    "# plt.title(\"Histogram of % variants found\")\n",
    "# plt.xlabel(\"% variants found\")\n",
    "# plt.ylabel(\"# papers\")\n",
    "# plt.show()"
   ]
  },
  {
   "cell_type": "code",
   "execution_count": 98,
   "metadata": {},
   "outputs": [],
   "source": [
    "import itertools\n",
    "\n",
    "baseline_lit_pmid_variant_tuple = [(hit[\"pmid\"], variant)\n",
    "                          for variant, hits in baseline_lit[\"variants\"].items()\n",
    "                          for hit in hits]\n",
    "\n",
    "baseline_lit_variants_by_pmid = {pmid: [v[1] \n",
    "                        for v in variants]\n",
    "                        for pmid, variants in itertools.groupby(sorted(baseline_lit_pmid_variant_tuple), lambda x: x[0])}"
   ]
  },
  {
   "cell_type": "code",
   "execution_count": 100,
   "metadata": {},
   "outputs": [
    {
     "name": "stdout",
     "output_type": "stream",
     "text": [
      "Baseline confusion matrix against LOVD:\n",
      "1138\t2226\n",
      "658\t-1\n",
      "Precision: 33.8% Recall: 63.4%\n",
      "\n",
      "Current crawl confusion matrix against LOVD:\n",
      "1137\t2448\n",
      "659\t-1\n",
      "Precision: 31.7% Recall: 63.3%\n"
     ]
    }
   ],
   "source": [
    "def confusion_matrix(lit_variants_by_pmid):\n",
    "    TP, FP, FN, TN = 0, 0, 0, -1\n",
    "\n",
    "    # Only evaluate papers in lovd and crawled\n",
    "    for pmid in set([p for p in lovd.pmid.values if p in lit_variants_by_pmid.keys()]):\n",
    "        actual = set(lovd[lovd[\"pmid\"] == pmid].pyhgvs_Genomic_Coordinate_38.values)\n",
    "        predicted = set(lit_variants_by_pmid[pmid])\n",
    "\n",
    "        TP += len(predicted.intersection(actual))\n",
    "        FP += len(predicted - actual)\n",
    "        FN += len(actual - predicted)\n",
    "#         TN += len(set(predicted.union(actual))) - (TP + FP + FN)\n",
    "        \n",
    "    precision = TP/(TP + FP)\n",
    "    recall = TP/(TP + FN)\n",
    "\n",
    "    return TP, FP, FN, TN, precision, recall \n",
    "\n",
    "TP, FP, FN, TN, precision, recall = confusion_matrix(baseline_lit_variants_by_pmid)\n",
    "\n",
    "print(\"Baseline confusion matrix against LOVD:\")\n",
    "print(\"{}\\t{}\".format(TP, FP))\n",
    "print(\"{}\\t{}\".format(FN, TN))\n",
    "print(\"Precision: {:.1%} Recall: {:.1%}\".format(precision, recall))\n",
    "\n",
    "TP, FP, FN, TN, precision, recall = confusion_matrix(lit_variants_by_pmid)\n",
    "\n",
    "print(\"\\nCurrent crawl confusion matrix against LOVD:\")\n",
    "print(\"{}\\t{}\".format(TP, FP))\n",
    "print(\"{}\\t{}\".format(FN, TN))\n",
    "print(\"Precision: {:.1%} Recall: {:.1%}\".format(precision, recall))"
   ]
  }
 ],
 "metadata": {
  "kernelspec": {
   "display_name": "Python 3",
   "language": "python",
   "name": "python3"
  },
  "language_info": {
   "codemirror_mode": {
    "name": "ipython",
    "version": 3
   },
   "file_extension": ".py",
   "mimetype": "text/x-python",
   "name": "python",
   "nbconvert_exporter": "python",
   "pygments_lexer": "ipython3",
   "version": "3.5.2"
  }
 },
 "nbformat": 4,
 "nbformat_minor": 2
}
