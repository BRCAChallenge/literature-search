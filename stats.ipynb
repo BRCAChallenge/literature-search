{
 "cells": [
  {
   "cell_type": "markdown",
   "metadata": {},
   "source": [
    "# BRCA Literature Crawler Stats"
   ]
  },
  {
   "cell_type": "code",
   "execution_count": 10,
   "metadata": {},
   "outputs": [],
   "source": [
    "import os\n",
    "import sqlite3\n",
    "import pandas as pd\n",
    "\n",
    "os.chdir(os.path.expanduser(\"~/data/pubmunch/crawl-14-11-2018/\"))"
   ]
  },
  {
   "cell_type": "markdown",
   "metadata": {},
   "source": [
    "## Download"
   ]
  },
  {
   "cell_type": "code",
   "execution_count": 7,
   "metadata": {},
   "outputs": [
    {
     "name": "stdout",
     "output_type": "stream",
     "text": [
      "Started with 16980 PMIDs with BRCA in the title or abstract\n"
     ]
    }
   ],
   "source": [
    "with open(\"download/pmids.txt\") as f:\n",
    "    pmids = f.readlines()\n",
    "print(\"Started with {} PMIDs with BRCA in the title or abstract\".format(len(pmids)))"
   ]
  },
  {
   "cell_type": "code",
   "execution_count": 45,
   "metadata": {},
   "outputs": [
    {
     "data": {
      "text/html": [
       "<div>\n",
       "<style scoped>\n",
       "    .dataframe tbody tr th:only-of-type {\n",
       "        vertical-align: middle;\n",
       "    }\n",
       "\n",
       "    .dataframe tbody tr th {\n",
       "        vertical-align: top;\n",
       "    }\n",
       "\n",
       "    .dataframe thead th {\n",
       "        text-align: right;\n",
       "    }\n",
       "</style>\n",
       "<table border=\"1\" class=\"dataframe\">\n",
       "  <thead>\n",
       "    <tr style=\"text-align: right;\">\n",
       "      <th></th>\n",
       "      <th>status</th>\n",
       "      <th>msg</th>\n",
       "      <th>crawler</th>\n",
       "      <th>journal</th>\n",
       "      <th>year</th>\n",
       "      <th>numFiles</th>\n",
       "      <th>detail</th>\n",
       "    </tr>\n",
       "    <tr>\n",
       "      <th>pmid</th>\n",
       "      <th></th>\n",
       "      <th></th>\n",
       "      <th></th>\n",
       "      <th></th>\n",
       "      <th></th>\n",
       "      <th></th>\n",
       "      <th></th>\n",
       "    </tr>\n",
       "  </thead>\n",
       "  <tbody>\n",
       "    <tr>\n",
       "      <th>11585672</th>\n",
       "      <td>OK</td>\n",
       "      <td>NaN</td>\n",
       "      <td>elsevier-api</td>\n",
       "      <td>Trends in genetics : TIG</td>\n",
       "      <td>2001.0</td>\n",
       "      <td>2</td>\n",
       "      <td>NaN</td>\n",
       "    </tr>\n",
       "    <tr>\n",
       "      <th>19688261</th>\n",
       "      <td>OK</td>\n",
       "      <td>NaN</td>\n",
       "      <td>springer</td>\n",
       "      <td>Breast cancer research and treatment</td>\n",
       "      <td>2010.0</td>\n",
       "      <td>3</td>\n",
       "      <td>NaN</td>\n",
       "    </tr>\n",
       "    <tr>\n",
       "      <th>12228710</th>\n",
       "      <td>OK</td>\n",
       "      <td>main.html contains html tag</td>\n",
       "      <td>highwire</td>\n",
       "      <td>Science (New York, N.Y.)</td>\n",
       "      <td>2002.0</td>\n",
       "      <td>4</td>\n",
       "      <td>NaN</td>\n",
       "    </tr>\n",
       "    <tr>\n",
       "      <th>29369605</th>\n",
       "      <td>OK</td>\n",
       "      <td>NaN</td>\n",
       "      <td>springer</td>\n",
       "      <td>Genetika</td>\n",
       "      <td>2016.0</td>\n",
       "      <td>3</td>\n",
       "      <td>NaN</td>\n",
       "    </tr>\n",
       "    <tr>\n",
       "      <th>22084640</th>\n",
       "      <td>OK</td>\n",
       "      <td>NaN</td>\n",
       "      <td>pmc</td>\n",
       "      <td>Therapeutic advances in medical oncology</td>\n",
       "      <td>2011.0</td>\n",
       "      <td>3</td>\n",
       "      <td>NaN</td>\n",
       "    </tr>\n",
       "  </tbody>\n",
       "</table>\n",
       "</div>"
      ],
      "text/plain": [
       "         status                          msg       crawler  \\\n",
       "pmid                                                         \n",
       "11585672     OK                          NaN  elsevier-api   \n",
       "19688261     OK                          NaN      springer   \n",
       "12228710     OK  main.html contains html tag      highwire   \n",
       "29369605     OK                          NaN      springer   \n",
       "22084640     OK                          NaN           pmc   \n",
       "\n",
       "                                           journal    year  numFiles detail  \n",
       "pmid                                                                         \n",
       "11585672                  Trends in genetics : TIG  2001.0         2    NaN  \n",
       "19688261      Breast cancer research and treatment  2010.0         3    NaN  \n",
       "12228710                  Science (New York, N.Y.)  2002.0         4    NaN  \n",
       "29369605                                  Genetika  2016.0         3    NaN  \n",
       "22084640  Therapeutic advances in medical oncology  2011.0         3    NaN  "
      ]
     },
     "execution_count": 45,
     "metadata": {},
     "output_type": "execute_result"
    }
   ],
   "source": [
    "download = pd.read_table(\"download/docStatus.tab\", header=None, index_col=0,\n",
    "                         names=[\"pmid\", \"status\", \"msg\", \"crawler\", \"journal\", \"year\", \"numFiles\", \"detail\"])\n",
    "download.head()"
   ]
  },
  {
   "cell_type": "code",
   "execution_count": 62,
   "metadata": {},
   "outputs": [
    {
     "data": {
      "text/html": [
       "<div>\n",
       "<style scoped>\n",
       "    .dataframe tbody tr th:only-of-type {\n",
       "        vertical-align: middle;\n",
       "    }\n",
       "\n",
       "    .dataframe tbody tr th {\n",
       "        vertical-align: top;\n",
       "    }\n",
       "\n",
       "    .dataframe thead th {\n",
       "        text-align: right;\n",
       "    }\n",
       "</style>\n",
       "<table border=\"1\" class=\"dataframe\">\n",
       "  <thead>\n",
       "    <tr style=\"text-align: right;\">\n",
       "      <th></th>\n",
       "      <th>msg</th>\n",
       "      <th>crawler</th>\n",
       "      <th>journal</th>\n",
       "      <th>year</th>\n",
       "      <th>numFiles</th>\n",
       "      <th>detail</th>\n",
       "    </tr>\n",
       "    <tr>\n",
       "      <th>status</th>\n",
       "      <th></th>\n",
       "      <th></th>\n",
       "      <th></th>\n",
       "      <th></th>\n",
       "      <th></th>\n",
       "      <th></th>\n",
       "    </tr>\n",
       "  </thead>\n",
       "  <tbody>\n",
       "    <tr>\n",
       "      <th>OK</th>\n",
       "      <td>2174</td>\n",
       "      <td>2174</td>\n",
       "      <td>2174</td>\n",
       "      <td>2174</td>\n",
       "      <td>2174</td>\n",
       "      <td>0</td>\n",
       "    </tr>\n",
       "  </tbody>\n",
       "</table>\n",
       "</div>"
      ],
      "text/plain": [
       "         msg  crawler  journal  year  numFiles  detail\n",
       "status                                                \n",
       "OK      2174     2174     2174  2174      2174       0"
      ]
     },
     "execution_count": 62,
     "metadata": {},
     "output_type": "execute_result"
    }
   ],
   "source": [
    "download[download.crawler == \"elsevier\"].groupby([\"status\"]).count()"
   ]
  },
  {
   "cell_type": "code",
   "execution_count": 49,
   "metadata": {},
   "outputs": [
    {
     "data": {
      "text/plain": [
       "OK                     14088\n",
       "invalidPdf               978\n",
       "noCrawlerSuccess         817\n",
       "httpError                302\n",
       "noLicense                301\n",
       "HighwirePdfNotValid      254\n",
       "invalidHostname           55\n",
       "pageErrorMessage          28\n",
       "no_meta                    9\n",
       "noOutlinkOrDoi             6\n",
       "BeautifulSoupError         1\n",
       "HtmlParseError             1\n",
       "tooManySupplFiles          1\n",
       "Name: status, dtype: int64"
      ]
     },
     "execution_count": 49,
     "metadata": {},
     "output_type": "execute_result"
    }
   ],
   "source": [
    "download[\"status\"].value_counts()"
   ]
  },
  {
   "cell_type": "code",
   "execution_count": 52,
   "metadata": {},
   "outputs": [
    {
     "data": {
      "text/plain": [
       "status  crawler     \n",
       "OK      elsevier        2174\n",
       "        elsevier-api     885\n",
       "        empty              7\n",
       "        generic         2885\n",
       "        highwire        1941\n",
       "        lww              208\n",
       "        nejm              66\n",
       "        npg             1309\n",
       "        pmc             2437\n",
       "        silverchair        1\n",
       "        springer        1673\n",
       "        tandf            502\n",
       "dtype: int64"
      ]
     },
     "execution_count": 52,
     "metadata": {},
     "output_type": "execute_result"
    }
   ],
   "source": [
    "download.groupby([\"status\", \"crawler\"]).size()"
   ]
  },
  {
   "cell_type": "code",
   "execution_count": 6,
   "metadata": {},
   "outputs": [],
   "source": [
    "lit = json.load(open(os.path.expanduser(\"/notebooks/public_html/literature-05-12-2018-v1.json\")))"
   ]
  },
  {
   "cell_type": "code",
   "execution_count": 7,
   "metadata": {},
   "outputs": [
    {
     "data": {
      "text/plain": [
       "dict_keys(['variants', 'papers'])"
      ]
     },
     "execution_count": 7,
     "metadata": {},
     "output_type": "execute_result"
    }
   ],
   "source": [
    "lit.keys()"
   ]
  },
  {
   "cell_type": "code",
   "execution_count": 14,
   "metadata": {},
   "outputs": [
    {
     "name": "stdout",
     "output_type": "stream",
     "text": [
      "2227 papers and 3754 variants\n"
     ]
    }
   ],
   "source": [
    "print(\"{} papers and {} variants\".format(len(lit[\"papers\"]), len(lit[\"variants\"])))"
   ]
  },
  {
   "cell_type": "code",
   "execution_count": 31,
   "metadata": {},
   "outputs": [
    {
     "data": {
      "text/html": [
       "<div>\n",
       "<style scoped>\n",
       "    .dataframe tbody tr th:only-of-type {\n",
       "        vertical-align: middle;\n",
       "    }\n",
       "\n",
       "    .dataframe tbody tr th {\n",
       "        vertical-align: top;\n",
       "    }\n",
       "\n",
       "    .dataframe thead th {\n",
       "        text-align: right;\n",
       "    }\n",
       "</style>\n",
       "<table border=\"1\" class=\"dataframe\">\n",
       "  <thead>\n",
       "    <tr style=\"text-align: right;\">\n",
       "      <th></th>\n",
       "      <th>15918047</th>\n",
       "      <th>16518693</th>\n",
       "      <th>16267036</th>\n",
       "      <th>23704879</th>\n",
       "      <th>14614327</th>\n",
       "      <th>14647443</th>\n",
       "      <th>25415331</th>\n",
       "      <th>15026808</th>\n",
       "      <th>29176636</th>\n",
       "      <th>12491487</th>\n",
       "      <th>...</th>\n",
       "      <th>12792649</th>\n",
       "      <th>17471025</th>\n",
       "      <th>10389980</th>\n",
       "      <th>23091540</th>\n",
       "      <th>16455195</th>\n",
       "      <th>22438049</th>\n",
       "      <th>23787919</th>\n",
       "      <th>9816013</th>\n",
       "      <th>15077185</th>\n",
       "      <th>12438698</th>\n",
       "    </tr>\n",
       "  </thead>\n",
       "  <tbody>\n",
       "    <tr>\n",
       "      <th>chr13:g.32316461:A&gt;G</th>\n",
       "      <td>NaN</td>\n",
       "      <td>NaN</td>\n",
       "      <td>NaN</td>\n",
       "      <td>NaN</td>\n",
       "      <td>NaN</td>\n",
       "      <td>NaN</td>\n",
       "      <td>NaN</td>\n",
       "      <td>NaN</td>\n",
       "      <td>NaN</td>\n",
       "      <td>NaN</td>\n",
       "      <td>...</td>\n",
       "      <td>NaN</td>\n",
       "      <td>NaN</td>\n",
       "      <td>NaN</td>\n",
       "      <td>NaN</td>\n",
       "      <td>NaN</td>\n",
       "      <td>NaN</td>\n",
       "      <td>NaN</td>\n",
       "      <td>NaN</td>\n",
       "      <td>NaN</td>\n",
       "      <td>NaN</td>\n",
       "    </tr>\n",
       "    <tr>\n",
       "      <th>chr13:g.32316462:T&gt;A</th>\n",
       "      <td>NaN</td>\n",
       "      <td>NaN</td>\n",
       "      <td>[ IVS19ins1 (P) IVS1del12 (P) IVS2 + 1G&gt;A (U) ...</td>\n",
       "      <td>NaN</td>\n",
       "      <td>NaN</td>\n",
       "      <td>NaN</td>\n",
       "      <td>NaN</td>\n",
       "      <td>NaN</td>\n",
       "      <td>NaN</td>\n",
       "      <td>NaN</td>\n",
       "      <td>...</td>\n",
       "      <td>NaN</td>\n",
       "      <td>NaN</td>\n",
       "      <td>NaN</td>\n",
       "      <td>NaN</td>\n",
       "      <td>NaN</td>\n",
       "      <td>NaN</td>\n",
       "      <td>NaN</td>\n",
       "      <td>NaN</td>\n",
       "      <td>NaN</td>\n",
       "      <td>NaN</td>\n",
       "    </tr>\n",
       "    <tr>\n",
       "      <th>chr13:g.32316462:T&gt;C</th>\n",
       "      <td>NaN</td>\n",
       "      <td>NaN</td>\n",
       "      <td>NaN</td>\n",
       "      <td>NaN</td>\n",
       "      <td>NaN</td>\n",
       "      <td>NaN</td>\n",
       "      <td>NaN</td>\n",
       "      <td>NaN</td>\n",
       "      <td>NaN</td>\n",
       "      <td>NaN</td>\n",
       "      <td>...</td>\n",
       "      <td>NaN</td>\n",
       "      <td>NaN</td>\n",
       "      <td>[enocarcinomas. Two mutations were detected in...</td>\n",
       "      <td>NaN</td>\n",
       "      <td>NaN</td>\n",
       "      <td>NaN</td>\n",
       "      <td>NaN</td>\n",
       "      <td>NaN</td>\n",
       "      <td>NaN</td>\n",
       "      <td>NaN</td>\n",
       "    </tr>\n",
       "    <tr>\n",
       "      <th>chr13:g.32316462:T&gt;G</th>\n",
       "      <td>NaN</td>\n",
       "      <td>NaN</td>\n",
       "      <td>[S12 + 9C&gt;T (U) IVS12-11C&gt;T (U) IVS12-19C&gt;G (U...</td>\n",
       "      <td>NaN</td>\n",
       "      <td>NaN</td>\n",
       "      <td>NaN</td>\n",
       "      <td>NaN</td>\n",
       "      <td>NaN</td>\n",
       "      <td>NaN</td>\n",
       "      <td>NaN</td>\n",
       "      <td>...</td>\n",
       "      <td>NaN</td>\n",
       "      <td>NaN</td>\n",
       "      <td>NaN</td>\n",
       "      <td>NaN</td>\n",
       "      <td>NaN</td>\n",
       "      <td>NaN</td>\n",
       "      <td>NaN</td>\n",
       "      <td>NaN</td>\n",
       "      <td>NaN</td>\n",
       "      <td>NaN</td>\n",
       "    </tr>\n",
       "    <tr>\n",
       "      <th>chr13:g.32316463:G&gt;A</th>\n",
       "      <td>NaN</td>\n",
       "      <td>NaN</td>\n",
       "      <td>[ (U) L246Vc (U) L512F (U) L574L (P) L596V (U)...</td>\n",
       "      <td>NaN</td>\n",
       "      <td>NaN</td>\n",
       "      <td>NaN</td>\n",
       "      <td>NaN</td>\n",
       "      <td>NaN</td>\n",
       "      <td>NaN</td>\n",
       "      <td>NaN</td>\n",
       "      <td>...</td>\n",
       "      <td>NaN</td>\n",
       "      <td>NaN</td>\n",
       "      <td>NaN</td>\n",
       "      <td>NaN</td>\n",
       "      <td>NaN</td>\n",
       "      <td>NaN</td>\n",
       "      <td>NaN</td>\n",
       "      <td>NaN</td>\n",
       "      <td>NaN</td>\n",
       "      <td>NaN</td>\n",
       "    </tr>\n",
       "  </tbody>\n",
       "</table>\n",
       "<p>5 rows × 2145 columns</p>\n",
       "</div>"
      ],
      "text/plain": [
       "                     15918047 16518693  \\\n",
       "chr13:g.32316461:A>G      NaN      NaN   \n",
       "chr13:g.32316462:T>A      NaN      NaN   \n",
       "chr13:g.32316462:T>C      NaN      NaN   \n",
       "chr13:g.32316462:T>G      NaN      NaN   \n",
       "chr13:g.32316463:G>A      NaN      NaN   \n",
       "\n",
       "                                                               16267036  \\\n",
       "chr13:g.32316461:A>G                                                NaN   \n",
       "chr13:g.32316462:T>A  [ IVS19ins1 (P) IVS1del12 (P) IVS2 + 1G>A (U) ...   \n",
       "chr13:g.32316462:T>C                                                NaN   \n",
       "chr13:g.32316462:T>G  [S12 + 9C>T (U) IVS12-11C>T (U) IVS12-19C>G (U...   \n",
       "chr13:g.32316463:G>A  [ (U) L246Vc (U) L512F (U) L574L (P) L596V (U)...   \n",
       "\n",
       "                     23704879 14614327 14647443 25415331 15026808 29176636  \\\n",
       "chr13:g.32316461:A>G      NaN      NaN      NaN      NaN      NaN      NaN   \n",
       "chr13:g.32316462:T>A      NaN      NaN      NaN      NaN      NaN      NaN   \n",
       "chr13:g.32316462:T>C      NaN      NaN      NaN      NaN      NaN      NaN   \n",
       "chr13:g.32316462:T>G      NaN      NaN      NaN      NaN      NaN      NaN   \n",
       "chr13:g.32316463:G>A      NaN      NaN      NaN      NaN      NaN      NaN   \n",
       "\n",
       "                     12491487   ...    12792649 17471025  \\\n",
       "chr13:g.32316461:A>G      NaN   ...         NaN      NaN   \n",
       "chr13:g.32316462:T>A      NaN   ...         NaN      NaN   \n",
       "chr13:g.32316462:T>C      NaN   ...         NaN      NaN   \n",
       "chr13:g.32316462:T>G      NaN   ...         NaN      NaN   \n",
       "chr13:g.32316463:G>A      NaN   ...         NaN      NaN   \n",
       "\n",
       "                                                               10389980  \\\n",
       "chr13:g.32316461:A>G                                                NaN   \n",
       "chr13:g.32316462:T>A                                                NaN   \n",
       "chr13:g.32316462:T>C  [enocarcinomas. Two mutations were detected in...   \n",
       "chr13:g.32316462:T>G                                                NaN   \n",
       "chr13:g.32316463:G>A                                                NaN   \n",
       "\n",
       "                     23091540 16455195 22438049 23787919 9816013 15077185  \\\n",
       "chr13:g.32316461:A>G      NaN      NaN      NaN      NaN     NaN      NaN   \n",
       "chr13:g.32316462:T>A      NaN      NaN      NaN      NaN     NaN      NaN   \n",
       "chr13:g.32316462:T>C      NaN      NaN      NaN      NaN     NaN      NaN   \n",
       "chr13:g.32316462:T>G      NaN      NaN      NaN      NaN     NaN      NaN   \n",
       "chr13:g.32316463:G>A      NaN      NaN      NaN      NaN     NaN      NaN   \n",
       "\n",
       "                     12438698  \n",
       "chr13:g.32316461:A>G      NaN  \n",
       "chr13:g.32316462:T>A      NaN  \n",
       "chr13:g.32316462:T>C      NaN  \n",
       "chr13:g.32316462:T>G      NaN  \n",
       "chr13:g.32316463:G>A      NaN  \n",
       "\n",
       "[5 rows x 2145 columns]"
      ]
     },
     "execution_count": 31,
     "metadata": {},
     "output_type": "execute_result"
    }
   ],
   "source": [
    "l = pd.DataFrame.from_dict(lit[\"variants\"], orient=\"index\")\n",
    "l.head()"
   ]
  },
  {
   "cell_type": "code",
   "execution_count": 38,
   "metadata": {},
   "outputs": [
    {
     "data": {
      "text/plain": [
       "chr17:g.43106487:A>C    410\n",
       "chr13:g.32319100:T>A     16\n",
       "chr17:g.43124027:A>G     10\n",
       "chr17:g.43094681:G>A      7\n",
       "chr13:g.32376670:A>G      5\n",
       "chr13:g.32316512:C>T      4\n",
       "chr17:g.43047691:T>A      3\n",
       "chr17:g.43092918:C>T      3\n",
       "chr17:g.43092897:T>C      2\n",
       "chr13:g.32339766:T>C      2\n",
       "chr17:g.43099803:A>T      2\n",
       "chr13:g.32337215:G>T      1\n",
       "chr13:g.32338082:G>A      1\n",
       "chr13:g.32316493:T>G      1\n",
       "chr17:g.43091479:A>T      1\n",
       "chr13:g.32362684:T>C      1\n",
       "chr13:g.32398536:C>T      1\n",
       "chr17:g.43095864:A>G      1\n",
       "chr17:g.43057066:A>G      1\n",
       "dtype: int64"
      ]
     },
     "execution_count": 38,
     "metadata": {},
     "output_type": "execute_result"
    }
   ],
   "source": [
    "l.T.count().sort_values(ascending=False)[0::200]"
   ]
  },
  {
   "cell_type": "code",
   "execution_count": 22,
   "metadata": {},
   "outputs": [
    {
     "data": {
      "text/plain": [
       "dict_keys(['16267036', '29449315'])"
      ]
     },
     "execution_count": 22,
     "metadata": {},
     "output_type": "execute_result"
    }
   ],
   "source": [
    "lit[\"variants\"][\"chr13:g.32316467:A>G\"].keys()"
   ]
  },
  {
   "cell_type": "code",
   "execution_count": 20,
   "metadata": {},
   "outputs": [
    {
     "ename": "ValueError",
     "evalue": "too many values to unpack (expected 2)",
     "output_type": "error",
     "traceback": [
      "\u001b[0;31m---------------------------------------------------------------------------\u001b[0m",
      "\u001b[0;31mValueError\u001b[0m                                Traceback (most recent call last)",
      "\u001b[0;32m<ipython-input-20-9e8b0c23880d>\u001b[0m in \u001b[0;36m<module>\u001b[0;34m\u001b[0m\n\u001b[0;32m----> 1\u001b[0;31m \u001b[0mmax\u001b[0m\u001b[0;34m(\u001b[0m\u001b[0;34m[\u001b[0m\u001b[0mlen\u001b[0m\u001b[0;34m(\u001b[0m\u001b[0mv\u001b[0m\u001b[0;34m.\u001b[0m\u001b[0mkeys\u001b[0m\u001b[0;34m(\u001b[0m\u001b[0;34m)\u001b[0m\u001b[0;34m)\u001b[0m \u001b[0;32mfor\u001b[0m \u001b[0mk\u001b[0m\u001b[0;34m,\u001b[0m \u001b[0mv\u001b[0m \u001b[0;32min\u001b[0m \u001b[0mlit\u001b[0m\u001b[0;34m[\u001b[0m\u001b[0;34m\"variants\"\u001b[0m\u001b[0;34m]\u001b[0m\u001b[0;34m]\u001b[0m\u001b[0;34m)\u001b[0m\u001b[0;34m\u001b[0m\u001b[0m\n\u001b[0m",
      "\u001b[0;32m<ipython-input-20-9e8b0c23880d>\u001b[0m in \u001b[0;36m<listcomp>\u001b[0;34m(.0)\u001b[0m\n\u001b[0;32m----> 1\u001b[0;31m \u001b[0mmax\u001b[0m\u001b[0;34m(\u001b[0m\u001b[0;34m[\u001b[0m\u001b[0mlen\u001b[0m\u001b[0;34m(\u001b[0m\u001b[0mv\u001b[0m\u001b[0;34m.\u001b[0m\u001b[0mkeys\u001b[0m\u001b[0;34m(\u001b[0m\u001b[0;34m)\u001b[0m\u001b[0;34m)\u001b[0m \u001b[0;32mfor\u001b[0m \u001b[0mk\u001b[0m\u001b[0;34m,\u001b[0m \u001b[0mv\u001b[0m \u001b[0;32min\u001b[0m \u001b[0mlit\u001b[0m\u001b[0;34m[\u001b[0m\u001b[0;34m\"variants\"\u001b[0m\u001b[0;34m]\u001b[0m\u001b[0;34m]\u001b[0m\u001b[0;34m)\u001b[0m\u001b[0;34m\u001b[0m\u001b[0m\n\u001b[0m",
      "\u001b[0;31mValueError\u001b[0m: too many values to unpack (expected 2)"
     ]
    }
   ],
   "source": [
    "max([len(v.keys()) for k, v in lit[\"variants\"]])"
   ]
  }
 ],
 "metadata": {
  "kernelspec": {
   "display_name": "Python 3",
   "language": "python",
   "name": "python3"
  },
  "language_info": {
   "codemirror_mode": {
    "name": "ipython",
    "version": 3
   },
   "file_extension": ".py",
   "mimetype": "text/x-python",
   "name": "python",
   "nbconvert_exporter": "python",
   "pygments_lexer": "ipython3",
   "version": "3.5.2"
  }
 },
 "nbformat": 4,
 "nbformat_minor": 2
}
