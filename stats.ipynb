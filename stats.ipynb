{
 "cells": [
  {
   "cell_type": "markdown",
   "metadata": {},
   "source": [
    "# Literature Search Crawl Report\n",
    "\n",
    "Generate various stats validations from the artifacts of the literature search"
   ]
  },
  {
   "cell_type": "code",
   "execution_count": 17,
   "metadata": {},
   "outputs": [],
   "source": [
    "import os\n",
    "import re\n",
    "import requests\n",
    "import json\n",
    "import sqlite3\n",
    "import pandas as pd\n",
    "import matplotlib.pyplot as plt\n",
    "    \n",
    "os.chdir(os.path.expanduser(\"~/data/pubmunch/crawl/\"))"
   ]
  },
  {
   "cell_type": "markdown",
   "metadata": {},
   "source": [
    "## Download"
   ]
  },
  {
   "cell_type": "code",
   "execution_count": 6,
   "metadata": {},
   "outputs": [
    {
     "name": "stdout",
     "output_type": "stream",
     "text": [
      "15 PMIDs attempted\n"
     ]
    }
   ],
   "source": [
    "with open(\"download/pmids.txt\") as f:\n",
    "    pmids = set(f.read().splitlines())\n",
    "print(\"{} PMIDs attempted\".format(len(pmids)))"
   ]
  },
  {
   "cell_type": "code",
   "execution_count": 7,
   "metadata": {},
   "outputs": [
    {
     "name": "stdout",
     "output_type": "stream",
     "text": [
      "15 (100%) succeeded\n",
      " 0 (0%) failed\n",
      "\n",
      "OK    15\n",
      "Name: status, dtype: int64\n"
     ]
    }
   ],
   "source": [
    "download = pd.read_csv(\"download/docStatus.tab\",\n",
    "                       sep=\"\\t\", header=None, index_col=False, dtype=str,\n",
    "                       names=[\"pmid\", \"status\", \"msg\", \"crawler\", \"journal\", \"year\", \"numFiles\", \"detail\"])\n",
    "\n",
    "print(\"{} ({}%) succeeded\\n {} ({}%) failed\\n\".format(\n",
    "    download[download.status == \"OK\"].shape[0], \n",
    "    round(100 * download[download.status == \"OK\"].shape[0] / len(pmids)),\n",
    "    download[download.status != \"OK\"].shape[0], \n",
    "    round(100 * download[download.status != \"OK\"].shape[0] / len(pmids))))\n",
    "print(download.status.value_counts())"
   ]
  },
  {
   "cell_type": "markdown",
   "metadata": {},
   "source": [
    "## Find"
   ]
  },
  {
   "cell_type": "code",
   "execution_count": 8,
   "metadata": {},
   "outputs": [
    {
     "name": "stdout",
     "output_type": "stream",
     "text": [
      "14 Papers and 4587 Variants exported\n"
     ]
    }
   ],
   "source": [
    "with open(\"literature.json\") as f:\n",
    "    lit = json.loads(f.read())\n",
    "print(\"{} Papers and {} Variants exported\".format(len(lit[\"papers\"]), len(lit[\"variants\"])))"
   ]
  },
  {
   "cell_type": "code",
   "execution_count": 13,
   "metadata": {},
   "outputs": [
    {
     "name": "stdout",
     "output_type": "stream",
     "text": [
      "Papers that didn't yield any variants:\n"
     ]
    },
    {
     "data": {
      "text/plain": [
       "{'28122244'}"
      ]
     },
     "execution_count": 13,
     "metadata": {},
     "output_type": "execute_result"
    }
   ],
   "source": [
    "print(\"Papers that didn't yield any variants:\")\n",
    "set(pmids) - set(lit[\"papers\"].keys())"
   ]
  },
  {
   "cell_type": "code",
   "execution_count": 32,
   "metadata": {},
   "outputs": [
    {
     "data": {
      "text/plain": [
       "{'11352856': ['previous history of breast or ovarian cancer. All subjects were genotyped for the three mutations that are relatively common in Ashkenazi Jews, namely<<< 185delAG>>> and 5382 insC in BRCA1 and 6174delT in BRCA2.',\n",
       "  'ecific relative risks of breast cancer attributable to one of the three mutations that are relatively common in the Ashkenazi Jewish population, i.e.,<<< 185delAG>>> and 5382 insC in BRCA1, and 6174delT in BRCA2.',\n",
       "  'series, and individuals referred for prenatal carrier testing as controls, leading to a lifetime penetrance estimate of 36% for a combined analysis of<<< 185delAG>>> and 6174delT carriers.',\n",
       "  'All subjects were genotyped for the three mutations that are relatively common in Ashkenazi Jews, namely<<< 185delAG>>> and 5382 insC in BRCA1 and 6174delT in BRCA2.'],\n",
       " '12473589': ['The cases and controls were genotyped for three Ashkenazi Jewish founder mutations, namely<<< 185delAG>>> and 5382insC in BRCA1 and 6174delT in BRCA2.',\n",
       "  'Inherited mutations commonly found in Ashkenazi Jewish individuals (namely,<<< 185delAG>>> and 5382insC in BRCA1 and 6174delT in BRCA2) have been of particular interest.',\n",
       "  'Samples were then analyzed to determine the presence of<<< 185delAG>>> and 5382insC BRCA1 or 6174delT BRCA2 mutations using previously published methods (12) .  The second series comprised of ovarian cancer cases from 11 centers in North America and Israel, as reported by Moslehi et al. (13) .',\n",
       "  'Samples were then analyzed to determine the presence of<<< 185delAG>>> and 5382insC BRCA1 or 6174delT BRCA2 mutations using previously published methods (12). The second series comprised of ovarian cancer cases from 11 centers in North America and Israel, as reported by Moslehi et al. (13).'],\n",
       " '14576434': ['er due to inherited mutations in BRCA1 or BRCA2 among Ashkenazi Jewish patients by age at diagnosis and family history.     Number of probands   BRCA1<<< 185delAG>>>   BRCA1 5382insC   BRCA2 6174delT   Any mutation    Relative risk   P value   --- --- --- --- --- --- --- ---   All female probands    1008    0.042 ',\n",
       "  ' cancer due to inherited mutations in BRCA1 or BRCA2 among Ashkenazi Jewish patients by age at diagnosis and family history. Number of probands  BRCA1<<< 185delAG>>>  BRCA1 5382insC  BRCA2 6174delT  Any mutation  Relative risk  1008  0.042  0.025  0.037  0.103  1.0  105 135 187 305 276  0.12 0.08 0.05 0.02 0.004  '],\n",
       " '15994883': ['rsity Library  ## You are here    * Home   * Archive   * Volume 42,\\xa0Issue 7    * Breast and ovarian cancer risks to carriers of the BRCA1 5382insC and<<< 185delAG>>> and BRCA2 6174delT mutations: a combined analysis of 22 population based studies  Email Alert  Article Text  Article menu    * Article    Text    * A',\n",
       "  '  * Share   * Responses   * Article    metrics    * Alerts  PDF  Letters to JMG  Breast and ovarian cancer risks to carriers of the BRCA1 5382insC and<<< 185delAG>>> and BRCA2 6174delT mutations: a combined analysis of 22 population based studies  Free  Loading    1.',\n",
       "  'on based studies of women with breast and ovarian cancer.1 King et al2 estimated the risks to carriers in the three Ashkenazi founder mutations (BRCA1<<< 185delAG>>> and 5382insC, and BRCA2 6174delT) by genotyping the relatives of 104 mutation carriers.',\n",
       "  'th the three Ashkenazi founder mutations using families included in our meta-analysis. Among the index cases studied by Antoniou et al,1 75 were BRCA1<<< 185delAG>>> carriers, 69 were BRCA1 5382insC carriers, and 52 were BRCA2 6174delT carriers.',\n",
       "  'Sixty three (84%) of the<<< 185delAG>>> mutation carriers and 42 (81%) of the 6174delT mutation carriers were identified through studies of Ashkenazi Jewish populations.'],\n",
       " '16397213': ['Cell line SUM149PT carried the 2288delT mutation and SUM1315MO2 carried the<<< 185delAG>>> mutation.',\n",
       "  'The<<< 185delAG>>> and 5396 + 1G>A mutations are both classified as pathogenic mutations.',\n",
       "  'cinoma of the breast but the age at diagnosis nor the cancer history of her family is known. The original tumor was not available for analysis but the<<< 185delAG>>> mutation is a well-described pathogenic BRCA1 mutation that is prevalent in the Ashkenazi Jewish population (http://research.nhgri.nih.gov/bic/).  Vi',\n",
       "  'Cell line SUM149PT carried the 2288delT mutation and SUM1315MO2 carried the<<< 185delAG>>> mutation. All three mutations were accompanied by loss of the other BRCA1 allele.',\n",
       "  'e Wild type Wild type Wild type Wild type Wild type Wild type Wild type Wild type Wild type 2288delT Wild type Wild type Wild type Wild type Wild type<<< 185delAG>>> Wild type Wild type Wild type Wild type Wild type  c  BRCA1 transcript expression + ++ ++ ++ ++ + + ++ ++ +/  ++ ++ ++ ++ ++ ++ ++ ++ ++b ++ ++ ++ ++'],\n",
       " '18158280': ['A total of 21 BRCA2 6174delT and 8 BRCA1<<< 185delAG>>> mutations were found.'],\n",
       " '20215531': ['Absence of<<< 185delAG>>> mutation of the BRCA1 gene and 6174delT mutation of the BRCA2 gene in Ashkenazi Jewish men with prostate cancer.'],\n",
       " '20608970': ['lar, cellular and clinical impact for mutation carriers.  ### Abbreviations  * BARD1      * BRCA1‐associated RING domain protein 1 * BRAT      * BRCA1<<< 185delAG>>> truncation * BRCA1      * breast cancer susceptibility gene 1 * BRCT      * BRCA1 C‐terminus  ##  Introduction  Family history is the strongest risk ',\n",
       "  'n Y1853X, which lacks the last 11 amino acids, is only missing a small portion of the second BRCT (BRCA1 C‐terminus) repeat, whereas the 39 amino acid<<< 185delAG>>> mutant lacks all of BRCA1’s known functional domains.  image  Figure 1  Open in figure viewerPowerPoint  BRCA1 mutations and their cellular and physi',\n",
       "  'chemosensitivity   5677InsA and wild‐type BRCA1 impaired proliferation, enhanced chemosensitivity; synthetic truncations decreased sensitivity    39  <<< 185delAG>>>   Truncated: 39 amino acids   X      Ovarian epithelium   Apoptosis   185delAG decreased cIAP1, XIAP, P‐Akt, and enhanced cleaved caspase 3, apoptosi',\n",
       "  'd BRCA1 plays a role in the cell cycle as well, by regulating key cell cycle  Abbreviations BARD1, BRCA1-associated RING domain protein 1; BRAT, BRCA1<<< 185delAG>>> truncation; BRCA1, breast cancer susceptibility gene 1; BRCT, BRCA1 C-terminus.  3086  FEBS Journal 277 (2010) 3086–3096 ª 2010 The Authors Journal compilation ª 2010 FEBS  R.',\n",
       "  'd truncated protein product  C64G  Transactivation domain  BRCT BRCT  NLS NLS  NES  NES  RING  BRCA1  Y1853STOP Ser1841Asn 1835STOP M1775K/R  340STOP <<< 185delAG>>>  Q1756InsC  T826K  P1749R 5083del19  B DNA damage response  Apoptosis  5382InsC M1775K P1749R C64G T826K M1775R ΔN aa303-1863*  Chemosensitivity  185',\n",
       "  'elAG  Q1756InsC  T826K  P1749R 5083del19  B DNA damage response  Apoptosis  5382InsC M1775K P1749R C64G T826K M1775R ΔN aa303-1863*  Chemosensitivity <<< 185delAG>>> 185delAG 5382InsC 5382InsC N-terminal 602aa* 5677InsA N-term 302 aa* ΔN aa303-1863* N-term 771 aa*  * Denotes synthetic mutation  Proliferation  Tran',\n",
       "  ':S1574-7891(09)00027-1 [pii] 10.1016/j. molonc.2009.02.001. Buisson M, Anczukow O, Zetoune AB, Ware MD & Mazoyer S (2006) The 185delAG mutation (c.68_<<< 69delAG>>>) in the BRCA1 gene triggers translation reinitiation at a downstream AUG codon.',\n",
       "  'Library CAS PubMed Web of Science®Google ScholarUC-eLinks    * 29 Buisson M, Anczukow O, Zetoune AB, Ware MD & Mazoyer S (2006) The 185delAG mutation <<<(c.68_69delAG>>>) in the BRCA1 gene triggers translation reinitiation at a downstream AUG codon.'],\n",
       " '21598239': ['Jewish (AJ) BC probands who 1) underwent BRCA1/2 mutation analysis by full gene sequencing or directed testing for Ashkenazi founder mutations (BRCA1:<<< 185delAG>>> and 5382insC; BRCA2: 6174delT) and 2) had a FH of PC in a first‐, second‐, or third‐degree relative.',\n",
       "  'ethnic groups, such as Ashkenazi Jews, mutations in the BRCA1/2 cancer susceptibility genes are more prevalent.19-21 The 3 founder mutations in BRCA1 <<<(185delAG>>> and 5382insC) and BRCA2 (6174delT) are thought to account for the vast majority (approximately 96%) of BRCA1/2 mutations in the Ashkenazim.22 In a sm',\n",
       "  'of 23 Ashkenazi Jewish (AJ) families with either a personal or a family history of pancreatic cancer, 8 BRCA mutations were identified, with the BRCA1<<< 185delAG>>> and the BRCA2 6174delT founder mutations being equally represented.23 In patients of Ashkenazi ancestry (unselected for family history) with resected',\n",
       "  'wish (AJ) BC probands who 1) under- went BRCA1/2 mutation analysis by full gene sequencing or directed testing for Ashkenazi founder mutations (BRCA1:<<< 185delAG>>> and 5382insC; BRCA2: 6174delT) and 2) had a FH of PC in a first-, second-, or third-degree relative. For each proband, the pretest probability of ide',\n",
       "  'hnic groups, such as Ashkenazi Jews, muta- tions in the BRCA1/2 cancer susceptibility genes are more prevalent.19-21 The 3 founder mutations in BRCA1 <<<(185delAG>>> and 5382insC) and BRCA2 (6174delT) are thought to account for the vast majority (approximately 96%) of BRCA1/2 mutations in the Ashkenazim.22 In a sm'],\n",
       " '21987798': ['Using somatic cell gene targeting, we demonstrated that a heterozygous BRCA1<<< 185delAG>>> mutation confers impaired homology-mediated DNA repair and hypersensitivity to genotoxic stress.',\n",
       "  'One of the most common pathogenic BRCA1 mutations,<<< 185delAG>>>, which results in a 2-bp deletion at the coding region close to the N terminus, was heterozygously introduced in these cell lines via gene targeting ',\n",
       "  '1.  Knock-in of BRCA1<<< 185delAG>>> mutation in MCF-10A and hTERT-IMEC. (A) A scheme for the knock-in process.',\n",
       "  'Knock-in of BRCA1<<< 185delAG>>> mutation in MCF-10A and hTERT-IMEC. (A) A scheme for the knock-in process.'],\n",
       " '22430266': ['Three mutations in these genes <<<(185delAG>>>, 5382insC, and 6174delT) occur at high frequency in Ashkenazi Jews.',\n",
       "  'ildbearing is complete.22  The following three common mutations have been identified in Ashkenazi Jewish (AJ) BRCA1/2 mutation carriers: c.68_69delAG <<<(185delAG>>> or 187delAG) and c.5266dupC (5382insC or 5385insC) in BRCA1 and c.5946delT (6174delT) in BRCA2.23–25 The prevalence of these mutations is approximate',\n",
       "  'Antoniou et al34 conducted a meta-analysis containing pedigree data from 196 CJM carriers, showing that<<< 185delAG>>> conferred a 64% and 14% risk, 5382insC conferred a 67% and 33% risk, and 6174delT conferred a 43% and 20% risk of BC and OC by age 70 years, respectively.',\n",
       "  's complete.22  The following three common mutations have been identified in Ashkenazi Jewish (AJ) BRCA1/2 mutation carriers: c.68_69delAG (185delAG or<<< 187delAG>>>) and c.5266dupC (5382insC or 5385insC) in BRCA1 and c.5946delT (6174delT) in BRCA2.23–25 The prevalence of these mutations is approximately 2.5% in A',\n",
       "  'is complete.22 The following three common mutations have been identified in Ashkenazi Jewish (AJ) BRCA1/2 mutation carriers: c.68_69delAG (185delAG or<<< 187delAG>>>) and c.5266dupC (5382insC or 5385insC) in BRCA1 and c.5946delT (6174delT) in BRCA2.23-25 The prevalence of these mutations is approximately 2.5% in A',\n",
       "  'hildbearing is complete.22 The following three common mutations have been identified in Ashkenazi Jewish (AJ) BRCA1/2 mutation carriers: c.68_69delAG <<<(185delAG>>> or 187delAG) and c.5266dupC (5382insC or 5385insC) in BRCA1 and c.5946delT (6174delT) in BRCA2.23-25 The prevalence of these mutations is approximate',\n",
       "  'Common BRCA1/2 Mutations Overall and by Self-Identified Jewish Status (N ⫽ 4,649) Total Mutation Carriers Group BRCA1 Total sample<<< 185delAG>>> 5382insC 332-11T⬎G del Exon 1 Any CJM Non-CJMⴱ BRCA2 Total sample 6174delT Any CJM Non-CJM†  Mutation Carriers Who Self-Identify As Jewish  No.  %  N',\n",
       "  ' 40 or once childbearing is complete.22  The following three common mutations have been identified in Ashkenazi Jewish (AJ) BRCA1/2 mutation carriers:<<< c.68_69delAG>>> (185delAG or 187delAG) and c.5266dupC (5382insC or 5385insC) in BRCA1 and c.5946delT (6174delT) in BRCA2.23–25 The prevalence of these mutations is a',\n",
       "  'o 40 or once childbearing is complete.22 The following three common mutations have been identified in Ashkenazi Jewish (AJ) BRCA1/2 mutation carriers:<<< c.68_69delAG>>> (185delAG or 187delAG) and c.5266dupC (5382insC or 5385insC) in BRCA1 and c.5946delT (6174delT) in BRCA2.23-25 The prevalence of these mutations is a'],\n",
       " '25192939': ['to identify a woman as a BRCA1 or BRCA2 mutation carrier only after she develops cancer.  Among Ashkenazi (European) Jews (AJ), three mutations, BRCA1<<< 185delAG>>>, BRCA1 5382insC, and BRCA2 6174delT, account for the great majority of inherited cancer risk due to BRCA1 and BRCA2 (7).',\n",
       "  'Males who chose to participate provided a blood or buccal sample from which DNA was extracted and genotyped for BRCA1<<< 185delAG>>>, BRCA1 5382insC and BRCA2 6174delT (SI Appendix, Table S2).',\n",
       "  'et al. (2005) Breast and ovarian cancer risks to carriers of the BRCA1 5382insC and<<< 185delAG>>> and BRCA2 6174delT mutations: A combined analysis of 22 population based studies.',\n",
       "  ' to identify a woman as a BRCA1 or BRCA2 mutation carrier only after she develops cancer. Among Ashkenazi (European) Jews (AJ), three mutations, BRCA1<<< 185delAG>>>, BRCA1 5382insC, and BRCA2 6174delT, account for the great majority of inherited cancer risk due to BRCA1 and BRCA2 (7).',\n",
       "  '(2005) Breast and ovarian cancer risks to carriers of the BRCA1 5382insC and<<< 185delAG>>> and BRCA2 6174delT mutations: A combined analysis of 22 population based studies.'],\n",
       " '9042909': ['1997). In the Ashkenazi Jewish population, three founder mutations,<<< 185delAG>>> and 5382insC in the BRCA1 gene  921 and 6174delT in the BRCA2 gene, exist at a high frequency (2.5%) (Struewing et al. 1995; Oddoux et al. 1996; Roa et al. 1996; Fodor et al. 1998).',\n",
       "  ' 1 9 26 87 )  a  Total number of Ashkenazi patients treated in Sharett Oncology Institute from January 1991 to July 1997. Patient A, carrying mutation<<< 185delAG>>>. c Patient B, carrying mutation 6174delT. d Patient C, carrying mutation 185delAG. e Patient A had chronic lymphocytic leukemia; patient B had BC at ',\n",
       "  'stitute from January 1991 to July 1997. Patient A, carrying mutation 185delAG. c Patient B, carrying mutation 6174delT. d Patient C, carrying mutation<<< 185delAG>>>. e Patient A had chronic lymphocytic leukemia; patient B had BC at age 59 years. f Second primary tumors included melanoma (n = 3 ) and tumors of the'],\n",
       " '9145676': ['Carriers of the<<< 185delAG>>> and 5382insC mutations in BRCA1 and the 6174delT mutation in BRCA2 were identified with assays based on the polymerase chain reaction.',\n",
       "  ' ancestors lived in central and eastern Europe.8-12 The combined frequency of the mutations in BRCA1 involving the deletion of an adenine and guanine <<<(185delAG>>>) and the insertion of a cytosine (5382insC) and the mutation in BRCA2 involving the deletion of a thymine (6174delT) exceeds 2 percent.13-15 Thus, wi',\n",
       "  'Allele-specific oligonucleotide assays were used to detect two mutations in BRCA1:<<< 185delAG>>> and the deletion of 11 bp at position 188 (188del11).',\n",
       "  'Carriers of the<<< 185delAG>>> and 5382insC mutations in    BRCA1    and the 6174delT mutation in   BRCA2    were identified with assays based on the pol- ymerase chain reaction.',\n",
       "  'ived in central and eastern Europe.   8-12    The combined frequency of the mutations in    BRCA1    involving the deletion of an adenine and guanine <<<(185delAG>>>) and the insertion of a cytosine (5382insC) and the muta- tion in    BRCA2    involving the deletion of a thymine (6174delT) exceeds 2 percent.   13-',\n",
       "  'Allele-specific oligonucleotide assays were used to detect two mutations in    BRCA1:   <<< 185delAG>>> and the deletion of 11 bp at position 188 (188del11).']}"
      ]
     },
     "execution_count": 32,
     "metadata": {},
     "output_type": "execute_result"
    }
   ],
   "source": [
    "lit[\"variants\"][\"chr17:g.43124027:ACT>A\"]"
   ]
  },
  {
   "cell_type": "code",
   "execution_count": null,
   "metadata": {},
   "outputs": [],
   "source": [
    "print(\"Max mentions for a single variant: {} {}\".format(\n",
    "    exploded.groupby([\"pyhgvs_Genomic_Coordinate_38\"]).size().idxmax(),\n",
    "    exploded.groupby([\"pyhgvs_Genomic_Coordinate_38\"]).size().max()))\n",
    "\n",
    "print(\"Max mentions for a single paper from one variant: {} {}\".format(\n",
    "    exploded.groupby([\"pyhgvs_Genomic_Coordinate_38\", \"pmid\"]).size().idxmax(),\n",
    "    exploded.groupby([\"pyhgvs_Genomic_Coordinate_38\", \"pmid\"]).size().max()))\n",
    "\n",
    "print(\"Paper referenced from the most variants: {} {}\".format(\n",
    "    exploded.groupby([\"pmid\"]).size().idxmax(),\n",
    "    exploded.groupby([\"pmid\"]).size().max()))"
   ]
  },
  {
   "cell_type": "markdown",
   "metadata": {},
   "source": [
    "## Founder Mutations"
   ]
  },
  {
   "cell_type": "code",
   "execution_count": 23,
   "metadata": {},
   "outputs": [
    {
     "name": "stdout",
     "output_type": "stream",
     "text": [
      "{'111111'}\n",
      "{'111111', '28122244'}\n",
      "{'111111'}\n"
     ]
    }
   ],
   "source": [
    "# BRCA1 185delAG: https://brcaexchange.org/variant/183889\n",
    "# chr17:g.43124027:ACT>A\n",
    "text = \"\"\"\n",
    "Abeliovich et al. 1997 à https://www.ncbi.nlm.nih.gov/pubmed/9042909 (in article title)\n",
    "Antoniou et al. 2005 à https://www.ncbi.nlm.nih.gov/pubmed/15994883 (in article title)\n",
    "Chodick et al. 2008 à https://www.ncbi.nlm.nih.gov/pubmed/18158280 (in article abstract)\n",
    "Elstrodt et al. 2006 à https://www.ncbi.nlm.nih.gov/pubmed/16397213 (in article abstract)\n",
    "Finkelman et al. 2012 à https://www.ncbi.nlm.nih.gov/pubmed/22430266 (in article abstract)\n",
    "Gabai-Kapara et al. 2014 à https://www.ncbi.nlm.nih.gov/pubmed/25192939 (in article introduction and methods)\n",
    "King et al. 2003 à https://www.ncbi.nlm.nih.gov/pubmed/14576434 (in article)\n",
    "Konishi et al. 2011 à https://www.ncbi.nlm.nih.gov/pubmed/21987798 (in abstract)\n",
    "Linger and Kruk 2010 à https://www.ncbi.nlm.nih.gov/pubmed/20608970 (in article)\n",
    "Satagopan et al. 2001 à https://www.ncbi.nlm.nih.gov/pubmed/11352856 (in abstract)\n",
    "Satagopan et al. 2002 à https://www.ncbi.nlm.nih.gov/pubmed/12473589 (in abstract)\n",
    "Stadler et al. 2012 à https://www.ncbi.nlm.nih.gov/pubmed/21598239 (in abstract)\n",
    "Struewing et al. 1997 à https://www.ncbi.nlm.nih.gov/pubmed/9145676 (in abstract)\n",
    "\n",
    "Struewing et al. 1997 à https://www.ncbi.nlm.nih.gov/pubmed/111111 Spikein :-)\n",
    "\"\"\"\n",
    "print(set(re.findall(r\"\\/(\\d+)\", text)).difference(set(lit[\"variants\"][\"chr17:g.43124027:ACT>A\"].keys())))\n",
    "\n",
    "# **BRCA1 5382insC: https://brcaexchange.org/variant/180141**\n",
    "# chr17:g.43057062:T>TG\n",
    "text = \"\"\"\n",
    "Abeliovich et al. 1997 à https://www.ncbi.nlm.nih.gov/pubmed/9042909 (in article title)\n",
    "Antoniou et al. 2005 à https://www.ncbi.nlm.nih.gov/pubmed/15994883 (in article title)\n",
    "Finkelman et al. 2012 à https://www.ncbi.nlm.nih.gov/pubmed/22430266 (in article)\n",
    "Gabai-Kapara et al. 2014 à https://www.ncbi.nlm.nih.gov/pubmed/25192939 (in article introduction and methods)\n",
    "King et al. 2003 à https://www.ncbi.nlm.nih.gov/pubmed/14576434 (in article)\n",
    "Mgbemena et al. 2017 à https://www.ncbi.nlm.nih.gov/pubmed/28122244 (in abstract)\n",
    "Satagopan et al. 2002 à https://www.ncbi.nlm.nih.gov/pubmed/12473589 (in abstract)\n",
    "Struewing et al. 1997 à https://www.ncbi.nlm.nih.gov/pubmed/9145676 (in abstract)\n",
    "\n",
    "Struewing et al. 1997 à https://www.ncbi.nlm.nih.gov/pubmed/111111 Spikein :-)\n",
    "\"\"\"\n",
    "print(set(re.findall(r\"\\/(\\d+)\", text)).difference(set(lit[\"variants\"][\"chr17:g.43057062:T>TG\"].keys())))\n",
    "\n",
    "# **BRCA2 6174delT: https://brcaexchange.org/variant/177049**\n",
    "# chr13:g.32340526:AT>A\n",
    "text = \"\"\"\n",
    "Abeliovich et al. 1997 à https://www.ncbi.nlm.nih.gov/pubmed/9042909 (in article title)\n",
    "Antoniou et al. 2005 à https://www.ncbi.nlm.nih.gov/pubmed/15994883 (in article title)\n",
    "Chodick et al. 2008 à https://www.ncbi.nlm.nih.gov/pubmed/18158280 (in article abstract)\n",
    "Finkelman et al. 2012 à https://www.ncbi.nlm.nih.gov/pubmed/22430266 (in article abstract)\n",
    "Gabai-Kapara et al. 2014 à https://www.ncbi.nlm.nih.gov/pubmed/25192939 (in article introduction and methods)\n",
    "Gallagher et al. 2010 à https://www.ncbi.nlm.nih.gov/pubmed/20215531 (in methods)\n",
    "King et al. 2003 à https://www.ncbi.nlm.nih.gov/pubmed/14576434 (in article)\n",
    "Satagopan et al. 2001 à https://www.ncbi.nlm.nih.gov/pubmed/11352856 (in abstract)\n",
    "Satagopan et al. 2002 à https://www.ncbi.nlm.nih.gov/pubmed/12473589 (in abstract)\n",
    "Struewing et al. 1997 à https://www.ncbi.nlm.nih.gov/pubmed/9145676 (in abstract)\n",
    "\n",
    "Struewing et al. 1997 à https://www.ncbi.nlm.nih.gov/pubmed/111111 Spikein :-)\n",
    "\"\"\"\n",
    "print(set(re.findall(r\"\\/(\\d+)\", text)).difference(set(lit[\"variants\"][\"chr13:g.32340526:AT>A\"].keys())))"
   ]
  },
  {
   "cell_type": "markdown",
   "metadata": {},
   "source": [
    "## LOVD"
   ]
  },
  {
   "cell_type": "code",
   "execution_count": 24,
   "metadata": {},
   "outputs": [
    {
     "name": "stdout",
     "output_type": "stream",
     "text": [
      "175 pmids and 1044 variants in normalized LOVD truth set\n"
     ]
    },
    {
     "data": {
      "text/html": [
       "<div>\n",
       "<style scoped>\n",
       "    .dataframe tbody tr th:only-of-type {\n",
       "        vertical-align: middle;\n",
       "    }\n",
       "\n",
       "    .dataframe tbody tr th {\n",
       "        vertical-align: top;\n",
       "    }\n",
       "\n",
       "    .dataframe thead th {\n",
       "        text-align: right;\n",
       "    }\n",
       "</style>\n",
       "<table border=\"1\" class=\"dataframe\">\n",
       "  <thead>\n",
       "    <tr style=\"text-align: right;\">\n",
       "      <th></th>\n",
       "      <th>pmid</th>\n",
       "      <th>norm_c_hgvs</th>\n",
       "      <th>norm_g_hgvs</th>\n",
       "      <th>pyhgvs_Genomic_Coordinate_38</th>\n",
       "    </tr>\n",
       "  </thead>\n",
       "  <tbody>\n",
       "    <tr>\n",
       "      <th>0</th>\n",
       "      <td>24667779</td>\n",
       "      <td>NM_007294.3:c.-19-22_-19-21dup</td>\n",
       "      <td>NC_000017.11:g.43124146_43124147dup</td>\n",
       "      <td>chr17:g.43124146_43124147:dup</td>\n",
       "    </tr>\n",
       "    <tr>\n",
       "      <th>1</th>\n",
       "      <td>10459348</td>\n",
       "      <td>NM_007294.3:c.-19-10T&gt;C</td>\n",
       "      <td>NC_000017.11:g.43124125A&gt;G</td>\n",
       "      <td>chr17:g.43124125:A&gt;G</td>\n",
       "    </tr>\n",
       "    <tr>\n",
       "      <th>2</th>\n",
       "      <td>24667779</td>\n",
       "      <td>NM_007294.3:c.-19-10T&gt;C</td>\n",
       "      <td>NC_000017.11:g.43124125A&gt;G</td>\n",
       "      <td>chr17:g.43124125:A&gt;G</td>\n",
       "    </tr>\n",
       "    <tr>\n",
       "      <th>3</th>\n",
       "      <td>16403807</td>\n",
       "      <td>NM_007294.3:c.-3G&gt;C</td>\n",
       "      <td>NC_000017.11:g.43124099C&gt;G</td>\n",
       "      <td>chr17:g.43124099:C&gt;G</td>\n",
       "    </tr>\n",
       "    <tr>\n",
       "      <th>4</th>\n",
       "      <td>19393826</td>\n",
       "      <td>NM_007294.3:c.1_134del</td>\n",
       "      <td>NC_000017.11:g.43115728_43124098del</td>\n",
       "      <td>chr17:g.43115728_43124098:del</td>\n",
       "    </tr>\n",
       "  </tbody>\n",
       "</table>\n",
       "</div>"
      ],
      "text/plain": [
       "       pmid                     norm_c_hgvs  \\\n",
       "0  24667779  NM_007294.3:c.-19-22_-19-21dup   \n",
       "1  10459348         NM_007294.3:c.-19-10T>C   \n",
       "2  24667779         NM_007294.3:c.-19-10T>C   \n",
       "3  16403807             NM_007294.3:c.-3G>C   \n",
       "4  19393826          NM_007294.3:c.1_134del   \n",
       "\n",
       "                           norm_g_hgvs   pyhgvs_Genomic_Coordinate_38  \n",
       "0  NC_000017.11:g.43124146_43124147dup  chr17:g.43124146_43124147:dup  \n",
       "1           NC_000017.11:g.43124125A>G           chr17:g.43124125:A>G  \n",
       "2           NC_000017.11:g.43124125A>G           chr17:g.43124125:A>G  \n",
       "3           NC_000017.11:g.43124099C>G           chr17:g.43124099:C>G  \n",
       "4  NC_000017.11:g.43115728_43124098del  chr17:g.43115728_43124098:del  "
      ]
     },
     "execution_count": 24,
     "metadata": {},
     "output_type": "execute_result"
    }
   ],
   "source": [
    "lovd = pd.read_table(\n",
    "    \"https://raw.githubusercontent.com/BRCAChallenge/pubMunch-BRCA/master/tests/lovd-normalized.tsv\", dtype=str)\n",
    "print(\"{} pmids and {} variants in normalized LOVD truth set\".format(\n",
    "    len(set(lovd.pmid.values)),\n",
    "    len(set(lovd.pyhgvs_Genomic_Coordinate_38.values))))\n",
    "lovd.head()"
   ]
  },
  {
   "cell_type": "code",
   "execution_count": 25,
   "metadata": {},
   "outputs": [
    {
     "name": "stdout",
     "output_type": "stream",
     "text": [
      "Missing from list of PMIDs to download:\n",
      "11526114, 17005433, 15353005, 17902052, 22144684, 17308087, 12606139, 16760288, 18493658, 09805131, 18712473, 11504767, 17924331, 18693280, 12037674, 15133502, 12354784, 18824701, 15726418, 15235020, 15345110, 18992264, 22962691, 10551859, 16014699, 15001988, 15743496, 18391021, 12442171, 18375895, 12427738, 20507642, 14729053, 21719596, 17305420, 12400015, 15350310, 18451181, 09126734, 11389159, 10951344, 12759930, 11573086, 19493677, 16619214, 19892845, 20967475, 15290653, 15317758, 15533909, 10373534, 15695382, 20513136, 19287957, 11157798, 15125843, 07545954, 11877378, 07939630, 11239456, 15609993, 16267036, 20103620, 14976165, 16101277, 10459348, 11320250, 08896551, 11137998, 20215541, 16168123, 18285836, 22678057, 19043619, 09333265, 08531967, 11185744, 17657584, 12145750, 24667779, 08942979, 20020529, 10811118, 12552570, 15829246, 20875879, 18415037, 16403807, 16528612, 17063491, 19452558, 10506595, 10479726, 19267246, 12457999, 14534301, 19393826, 17341484, 18424508, 18680205, 11301010, 12034536, 15923272, 21741379, 14647443, 11916966, 12474142, 19404736, 19543972, 15689452, 19563646, 16211554, 10638982, 15172985, 12915465, 14513821, 20522429, 16280041, 12215251, 16969499, 19179552, 20378548, 18694767, 10699917, 19070627, 14576432, 16786532, 15133503, 12624152, 09497265, 18597679, 09523200, 17899372, 10426999, 12142080, 19200354, 21671020, 10406662, 12955716, 09585599, 20054658, 09971877, 15184261, 16518693, 12531920, 17279547, 19150617, 12496476, 08751436, 10667592, 20737206, 24395671, 19423647, 2010, 16489001, 20455026, 12955719, 12900794, 17011978, 12815598, 16792514, 12601471, 11385711, 15300854, 17493881, 18500671, 12527904, 22889855, 17549625, 20516115, 10969800, 15876480, 18607349, 18036263, 21673748\n",
      "\n",
      "Failed to download:\n",
      "\n"
     ]
    }
   ],
   "source": [
    "print(\"Missing from list of PMIDs to download:\")\n",
    "print(\", \".join([p for p in set(lovd.pmid.values) if p not in pmids]))\n",
    "\n",
    "print(\"\\nFailed to download:\")\n",
    "print(\", \".join([\"{} ({})\".format(p, download[download.pmid == p].status.values[0]) \n",
    "                   for p in set(lovd.pmid.values) if \n",
    "                   download[(download.pmid == p) & (download.status != \"OK\")].shape[0]]))"
   ]
  },
  {
   "cell_type": "code",
   "execution_count": 26,
   "metadata": {},
   "outputs": [
    {
     "name": "stdout",
     "output_type": "stream",
     "text": [
      "0 common pmids between LOVD and this crawl\n"
     ]
    }
   ],
   "source": [
    "lit_pmids = set([pmid for variant, mentions in lit[\"variants\"].items() for pmid in mentions.keys()])\n",
    "\n",
    "common_pmids = list(lit_pmids.intersection(set(lovd.pmid.values)))\n",
    "print(\"{} common pmids between LOVD and this crawl\".format(len(common_pmids)))"
   ]
  },
  {
   "cell_type": "code",
   "execution_count": 27,
   "metadata": {},
   "outputs": [],
   "source": [
    "# Invert the literature.json exported to BRCA Exchange to create a variants by pmid from literature\n",
    "import itertools\n",
    "\n",
    "lit_pmid_variant_tuple = [(pmid, variant) \n",
    "                          for variant, mention in lit[\"variants\"].items() \n",
    "                          for pmid in list(mention.keys())]\n",
    "\n",
    "lit_variants_by_pmid = {pmid: [v[1] \n",
    "                        for v in variants]\n",
    "                        for pmid, variants in itertools.groupby(sorted(lit_pmid_variant_tuple), lambda x: x[0])}"
   ]
  },
  {
   "cell_type": "code",
   "execution_count": 28,
   "metadata": {},
   "outputs": [
    {
     "data": {
      "image/png": "[encoded data removed]",
      "text/plain": [
       "<Figure size 432x288 with 1 Axes>"
      ]
     },
     "metadata": {
      "needs_background": "light"
     },
     "output_type": "display_data"
    }
   ],
   "source": [
    "# Compute per paper the % of LOVD variants we found and exported in literature.json\n",
    "pcts = {\n",
    "    p: len(set(lit_variants_by_pmid[p]).intersection(\n",
    "        set(lovd[lovd.pmid == p].pyhgvs_Genomic_Coordinate_38.values))) / len(\n",
    "        set(lovd[lovd.pmid == p].pyhgvs_Genomic_Coordinate_38.values)) \n",
    "    for p in common_pmids}\n",
    "\n",
    "lovd_stats = pd.DataFrame.from_dict(pcts, orient=\"index\", columns=[\"pct\"]).rename_axis(\"pmid\")\n",
    "\n",
    "plt.hist(lovd_stats.pct)\n",
    "plt.title(\"Histogram of % variants found\")\n",
    "plt.xlabel(\"% variants found\")\n",
    "plt.ylabel(\"# papers\")\n",
    "plt.show()"
   ]
  },
  {
   "cell_type": "code",
   "execution_count": 12,
   "metadata": {},
   "outputs": [
    {
     "name": "stdout",
     "output_type": "stream",
     "text": [
      "PMIDs with < 50% of the variants in LOVD found:\n",
      "17924331, 10638982, 11185744, 21673748, 17899372, 24667779, 15353005, 11573086, 18424508, 18694767, 18824701, 14513821, 22144684, 16280041, 19043619, 12759930, 12442171, 14729053, 24395671, 21741379, 15001988, 12142080, 19423647, 15876480, 18712473\n"
     ]
    }
   ],
   "source": [
    "print(\"PMIDs with < 50% of the variants in LOVD found:\")\n",
    "print(\", \".join([v for v in lovd_stats[lovd_stats.pct < 0.5].index.values]))"
   ]
  }
 ],
 "metadata": {
  "kernelspec": {
   "display_name": "Python 3",
   "language": "python",
   "name": "python3"
  },
  "language_info": {
   "codemirror_mode": {
    "name": "ipython",
    "version": 3
   },
   "file_extension": ".py",
   "mimetype": "text/x-python",
   "name": "python",
   "nbconvert_exporter": "python",
   "pygments_lexer": "ipython3",
   "version": "3.6.8"
  }
 },
 "nbformat": 4,
 "nbformat_minor": 2
}
