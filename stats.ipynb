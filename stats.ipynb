{
 "cells": [
  {
   "cell_type": "markdown",
   "metadata": {},
   "source": [
    "# BRCA Literature Crawler Stats"
   ]
  },
  {
   "cell_type": "code",
   "execution_count": 11,
   "metadata": {},
   "outputs": [],
   "source": [
    "import os\n",
    "import json\n",
    "import sqlite3\n",
    "import pandas as pd\n",
    "\n",
    "os.chdir(os.path.expanduser(\"~/data/pubmunch/crawl-14-11-2018/\"))"
   ]
  },
  {
   "cell_type": "markdown",
   "metadata": {},
   "source": [
    "## Download"
   ]
  },
  {
   "cell_type": "code",
   "execution_count": 2,
   "metadata": {},
   "outputs": [
    {
     "name": "stdout",
     "output_type": "stream",
     "text": [
      "Started with 16980 PMIDs with BRCA in the title or abstract\n"
     ]
    }
   ],
   "source": [
    "with open(\"download/pmids.txt\") as f:\n",
    "    pmids = f.readlines()\n",
    "print(\"Started with {} PMIDs with BRCA in the title or abstract\".format(len(pmids)))"
   ]
  },
  {
   "cell_type": "code",
   "execution_count": 4,
   "metadata": {},
   "outputs": [
    {
     "data": {
      "text/html": [
       "<div>\n",
       "<style scoped>\n",
       "    .dataframe tbody tr th:only-of-type {\n",
       "        vertical-align: middle;\n",
       "    }\n",
       "\n",
       "    .dataframe tbody tr th {\n",
       "        vertical-align: top;\n",
       "    }\n",
       "\n",
       "    .dataframe thead th {\n",
       "        text-align: right;\n",
       "    }\n",
       "</style>\n",
       "<table border=\"1\" class=\"dataframe\">\n",
       "  <thead>\n",
       "    <tr style=\"text-align: right;\">\n",
       "      <th></th>\n",
       "      <th>status</th>\n",
       "      <th>msg</th>\n",
       "      <th>crawler</th>\n",
       "      <th>journal</th>\n",
       "      <th>year</th>\n",
       "      <th>numFiles</th>\n",
       "      <th>detail</th>\n",
       "    </tr>\n",
       "    <tr>\n",
       "      <th>pmid</th>\n",
       "      <th></th>\n",
       "      <th></th>\n",
       "      <th></th>\n",
       "      <th></th>\n",
       "      <th></th>\n",
       "      <th></th>\n",
       "      <th></th>\n",
       "    </tr>\n",
       "  </thead>\n",
       "  <tbody>\n",
       "    <tr>\n",
       "      <th>11585672</th>\n",
       "      <td>OK</td>\n",
       "      <td>NaN</td>\n",
       "      <td>elsevier-api</td>\n",
       "      <td>Trends in genetics : TIG</td>\n",
       "      <td>2001.0</td>\n",
       "      <td>2</td>\n",
       "      <td>NaN</td>\n",
       "    </tr>\n",
       "    <tr>\n",
       "      <th>19688261</th>\n",
       "      <td>OK</td>\n",
       "      <td>NaN</td>\n",
       "      <td>springer</td>\n",
       "      <td>Breast cancer research and treatment</td>\n",
       "      <td>2010.0</td>\n",
       "      <td>3</td>\n",
       "      <td>NaN</td>\n",
       "    </tr>\n",
       "    <tr>\n",
       "      <th>12228710</th>\n",
       "      <td>OK</td>\n",
       "      <td>main.html contains html tag</td>\n",
       "      <td>highwire</td>\n",
       "      <td>Science (New York, N.Y.)</td>\n",
       "      <td>2002.0</td>\n",
       "      <td>4</td>\n",
       "      <td>NaN</td>\n",
       "    </tr>\n",
       "    <tr>\n",
       "      <th>29369605</th>\n",
       "      <td>OK</td>\n",
       "      <td>NaN</td>\n",
       "      <td>springer</td>\n",
       "      <td>Genetika</td>\n",
       "      <td>2016.0</td>\n",
       "      <td>3</td>\n",
       "      <td>NaN</td>\n",
       "    </tr>\n",
       "    <tr>\n",
       "      <th>22084640</th>\n",
       "      <td>OK</td>\n",
       "      <td>NaN</td>\n",
       "      <td>pmc</td>\n",
       "      <td>Therapeutic advances in medical oncology</td>\n",
       "      <td>2011.0</td>\n",
       "      <td>3</td>\n",
       "      <td>NaN</td>\n",
       "    </tr>\n",
       "  </tbody>\n",
       "</table>\n",
       "</div>"
      ],
      "text/plain": [
       "         status                          msg       crawler  \\\n",
       "pmid                                                         \n",
       "11585672     OK                          NaN  elsevier-api   \n",
       "19688261     OK                          NaN      springer   \n",
       "12228710     OK  main.html contains html tag      highwire   \n",
       "29369605     OK                          NaN      springer   \n",
       "22084640     OK                          NaN           pmc   \n",
       "\n",
       "                                           journal    year  numFiles detail  \n",
       "pmid                                                                         \n",
       "11585672                  Trends in genetics : TIG  2001.0         2    NaN  \n",
       "19688261      Breast cancer research and treatment  2010.0         3    NaN  \n",
       "12228710                  Science (New York, N.Y.)  2002.0         4    NaN  \n",
       "29369605                                  Genetika  2016.0         3    NaN  \n",
       "22084640  Therapeutic advances in medical oncology  2011.0         3    NaN  "
      ]
     },
     "execution_count": 4,
     "metadata": {},
     "output_type": "execute_result"
    }
   ],
   "source": [
    "download = pd.read_table(\"download/docStatus.tab\", header=None, index_col=0,\n",
    "                         names=[\"pmid\", \"status\", \"msg\", \"crawler\", \"journal\", \"year\", \"numFiles\", \"detail\"])\n",
    "download.head()"
   ]
  },
  {
   "cell_type": "code",
   "execution_count": 6,
   "metadata": {},
   "outputs": [
    {
     "name": "stdout",
     "output_type": "stream",
     "text": [
      "Download status:\n"
     ]
    },
    {
     "data": {
      "text/plain": [
       "OK                     14088\n",
       "invalidPdf               978\n",
       "noCrawlerSuccess         817\n",
       "httpError                302\n",
       "noLicense                301\n",
       "HighwirePdfNotValid      254\n",
       "invalidHostname           55\n",
       "pageErrorMessage          28\n",
       "no_meta                    9\n",
       "noOutlinkOrDoi             6\n",
       "HtmlParseError             1\n",
       "BeautifulSoupError         1\n",
       "tooManySupplFiles          1\n",
       "Name: status, dtype: int64"
      ]
     },
     "execution_count": 6,
     "metadata": {},
     "output_type": "execute_result"
    }
   ],
   "source": [
    "print(\"Download status:\")\n",
    "download[\"status\"].value_counts()"
   ]
  },
  {
   "cell_type": "code",
   "execution_count": 8,
   "metadata": {},
   "outputs": [
    {
     "name": "stdout",
     "output_type": "stream",
     "text": [
      "Publisher stats:\n"
     ]
    },
    {
     "data": {
      "text/plain": [
       "status  crawler     \n",
       "OK      elsevier        2174\n",
       "        elsevier-api     885\n",
       "        empty              7\n",
       "        generic         2885\n",
       "        highwire        1941\n",
       "        lww              208\n",
       "        nejm              66\n",
       "        npg             1309\n",
       "        pmc             2437\n",
       "        silverchair        1\n",
       "        springer        1673\n",
       "        tandf            502\n",
       "dtype: int64"
      ]
     },
     "execution_count": 8,
     "metadata": {},
     "output_type": "execute_result"
    }
   ],
   "source": [
    "print(\"Publisher stats:\")\n",
    "download.groupby([\"status\", \"crawler\"]).size()"
   ]
  },
  {
   "cell_type": "code",
   "execution_count": 12,
   "metadata": {},
   "outputs": [],
   "source": [
    "lit = json.load(open(\"literature-05-12-2018-v1.json\"))"
   ]
  },
  {
   "cell_type": "code",
   "execution_count": 14,
   "metadata": {},
   "outputs": [
    {
     "name": "stdout",
     "output_type": "stream",
     "text": [
      "2227 papers and 3754 variants\n"
     ]
    }
   ],
   "source": [
    "print(\"{} papers and {} variants\".format(len(lit[\"papers\"]), len(lit[\"variants\"])))"
   ]
  },
  {
   "cell_type": "code",
   "execution_count": 31,
   "metadata": {},
   "outputs": [
    {
     "data": {
      "text/html": [
       "<div>\n",
       "<style scoped>\n",
       "    .dataframe tbody tr th:only-of-type {\n",
       "        vertical-align: middle;\n",
       "    }\n",
       "\n",
       "    .dataframe tbody tr th {\n",
       "        vertical-align: top;\n",
       "    }\n",
       "\n",
       "    .dataframe thead th {\n",
       "        text-align: right;\n",
       "    }\n",
       "</style>\n",
       "<table border=\"1\" class=\"dataframe\">\n",
       "  <thead>\n",
       "    <tr style=\"text-align: right;\">\n",
       "      <th></th>\n",
       "      <th>15918047</th>\n",
       "      <th>16518693</th>\n",
       "      <th>16267036</th>\n",
       "      <th>23704879</th>\n",
       "      <th>14614327</th>\n",
       "      <th>14647443</th>\n",
       "      <th>25415331</th>\n",
       "      <th>15026808</th>\n",
       "      <th>29176636</th>\n",
       "      <th>12491487</th>\n",
       "      <th>...</th>\n",
       "      <th>12792649</th>\n",
       "      <th>17471025</th>\n",
       "      <th>10389980</th>\n",
       "      <th>23091540</th>\n",
       "      <th>16455195</th>\n",
       "      <th>22438049</th>\n",
       "      <th>23787919</th>\n",
       "      <th>9816013</th>\n",
       "      <th>15077185</th>\n",
       "      <th>12438698</th>\n",
       "    </tr>\n",
       "  </thead>\n",
       "  <tbody>\n",
       "    <tr>\n",
       "      <th>chr13:g.32316461:A&gt;G</th>\n",
       "      <td>NaN</td>\n",
       "      <td>NaN</td>\n",
       "      <td>NaN</td>\n",
       "      <td>NaN</td>\n",
       "      <td>NaN</td>\n",
       "      <td>NaN</td>\n",
       "      <td>NaN</td>\n",
       "      <td>NaN</td>\n",
       "      <td>NaN</td>\n",
       "      <td>NaN</td>\n",
       "      <td>...</td>\n",
       "      <td>NaN</td>\n",
       "      <td>NaN</td>\n",
       "      <td>NaN</td>\n",
       "      <td>NaN</td>\n",
       "      <td>NaN</td>\n",
       "      <td>NaN</td>\n",
       "      <td>NaN</td>\n",
       "      <td>NaN</td>\n",
       "      <td>NaN</td>\n",
       "      <td>NaN</td>\n",
       "    </tr>\n",
       "    <tr>\n",
       "      <th>chr13:g.32316462:T&gt;A</th>\n",
       "      <td>NaN</td>\n",
       "      <td>NaN</td>\n",
       "      <td>[ IVS19ins1 (P) IVS1del12 (P) IVS2 + 1G&gt;A (U) ...</td>\n",
       "      <td>NaN</td>\n",
       "      <td>NaN</td>\n",
       "      <td>NaN</td>\n",
       "      <td>NaN</td>\n",
       "      <td>NaN</td>\n",
       "      <td>NaN</td>\n",
       "      <td>NaN</td>\n",
       "      <td>...</td>\n",
       "      <td>NaN</td>\n",
       "      <td>NaN</td>\n",
       "      <td>NaN</td>\n",
       "      <td>NaN</td>\n",
       "      <td>NaN</td>\n",
       "      <td>NaN</td>\n",
       "      <td>NaN</td>\n",
       "      <td>NaN</td>\n",
       "      <td>NaN</td>\n",
       "      <td>NaN</td>\n",
       "    </tr>\n",
       "    <tr>\n",
       "      <th>chr13:g.32316462:T&gt;C</th>\n",
       "      <td>NaN</td>\n",
       "      <td>NaN</td>\n",
       "      <td>NaN</td>\n",
       "      <td>NaN</td>\n",
       "      <td>NaN</td>\n",
       "      <td>NaN</td>\n",
       "      <td>NaN</td>\n",
       "      <td>NaN</td>\n",
       "      <td>NaN</td>\n",
       "      <td>NaN</td>\n",
       "      <td>...</td>\n",
       "      <td>NaN</td>\n",
       "      <td>NaN</td>\n",
       "      <td>[enocarcinomas. Two mutations were detected in...</td>\n",
       "      <td>NaN</td>\n",
       "      <td>NaN</td>\n",
       "      <td>NaN</td>\n",
       "      <td>NaN</td>\n",
       "      <td>NaN</td>\n",
       "      <td>NaN</td>\n",
       "      <td>NaN</td>\n",
       "    </tr>\n",
       "    <tr>\n",
       "      <th>chr13:g.32316462:T&gt;G</th>\n",
       "      <td>NaN</td>\n",
       "      <td>NaN</td>\n",
       "      <td>[S12 + 9C&gt;T (U) IVS12-11C&gt;T (U) IVS12-19C&gt;G (U...</td>\n",
       "      <td>NaN</td>\n",
       "      <td>NaN</td>\n",
       "      <td>NaN</td>\n",
       "      <td>NaN</td>\n",
       "      <td>NaN</td>\n",
       "      <td>NaN</td>\n",
       "      <td>NaN</td>\n",
       "      <td>...</td>\n",
       "      <td>NaN</td>\n",
       "      <td>NaN</td>\n",
       "      <td>NaN</td>\n",
       "      <td>NaN</td>\n",
       "      <td>NaN</td>\n",
       "      <td>NaN</td>\n",
       "      <td>NaN</td>\n",
       "      <td>NaN</td>\n",
       "      <td>NaN</td>\n",
       "      <td>NaN</td>\n",
       "    </tr>\n",
       "    <tr>\n",
       "      <th>chr13:g.32316463:G&gt;A</th>\n",
       "      <td>NaN</td>\n",
       "      <td>NaN</td>\n",
       "      <td>[ (U) L246Vc (U) L512F (U) L574L (P) L596V (U)...</td>\n",
       "      <td>NaN</td>\n",
       "      <td>NaN</td>\n",
       "      <td>NaN</td>\n",
       "      <td>NaN</td>\n",
       "      <td>NaN</td>\n",
       "      <td>NaN</td>\n",
       "      <td>NaN</td>\n",
       "      <td>...</td>\n",
       "      <td>NaN</td>\n",
       "      <td>NaN</td>\n",
       "      <td>NaN</td>\n",
       "      <td>NaN</td>\n",
       "      <td>NaN</td>\n",
       "      <td>NaN</td>\n",
       "      <td>NaN</td>\n",
       "      <td>NaN</td>\n",
       "      <td>NaN</td>\n",
       "      <td>NaN</td>\n",
       "    </tr>\n",
       "  </tbody>\n",
       "</table>\n",
       "<p>5 rows × 2145 columns</p>\n",
       "</div>"
      ],
      "text/plain": [
       "                     15918047 16518693  \\\n",
       "chr13:g.32316461:A>G      NaN      NaN   \n",
       "chr13:g.32316462:T>A      NaN      NaN   \n",
       "chr13:g.32316462:T>C      NaN      NaN   \n",
       "chr13:g.32316462:T>G      NaN      NaN   \n",
       "chr13:g.32316463:G>A      NaN      NaN   \n",
       "\n",
       "                                                               16267036  \\\n",
       "chr13:g.32316461:A>G                                                NaN   \n",
       "chr13:g.32316462:T>A  [ IVS19ins1 (P) IVS1del12 (P) IVS2 + 1G>A (U) ...   \n",
       "chr13:g.32316462:T>C                                                NaN   \n",
       "chr13:g.32316462:T>G  [S12 + 9C>T (U) IVS12-11C>T (U) IVS12-19C>G (U...   \n",
       "chr13:g.32316463:G>A  [ (U) L246Vc (U) L512F (U) L574L (P) L596V (U)...   \n",
       "\n",
       "                     23704879 14614327 14647443 25415331 15026808 29176636  \\\n",
       "chr13:g.32316461:A>G      NaN      NaN      NaN      NaN      NaN      NaN   \n",
       "chr13:g.32316462:T>A      NaN      NaN      NaN      NaN      NaN      NaN   \n",
       "chr13:g.32316462:T>C      NaN      NaN      NaN      NaN      NaN      NaN   \n",
       "chr13:g.32316462:T>G      NaN      NaN      NaN      NaN      NaN      NaN   \n",
       "chr13:g.32316463:G>A      NaN      NaN      NaN      NaN      NaN      NaN   \n",
       "\n",
       "                     12491487   ...    12792649 17471025  \\\n",
       "chr13:g.32316461:A>G      NaN   ...         NaN      NaN   \n",
       "chr13:g.32316462:T>A      NaN   ...         NaN      NaN   \n",
       "chr13:g.32316462:T>C      NaN   ...         NaN      NaN   \n",
       "chr13:g.32316462:T>G      NaN   ...         NaN      NaN   \n",
       "chr13:g.32316463:G>A      NaN   ...         NaN      NaN   \n",
       "\n",
       "                                                               10389980  \\\n",
       "chr13:g.32316461:A>G                                                NaN   \n",
       "chr13:g.32316462:T>A                                                NaN   \n",
       "chr13:g.32316462:T>C  [enocarcinomas. Two mutations were detected in...   \n",
       "chr13:g.32316462:T>G                                                NaN   \n",
       "chr13:g.32316463:G>A                                                NaN   \n",
       "\n",
       "                     23091540 16455195 22438049 23787919 9816013 15077185  \\\n",
       "chr13:g.32316461:A>G      NaN      NaN      NaN      NaN     NaN      NaN   \n",
       "chr13:g.32316462:T>A      NaN      NaN      NaN      NaN     NaN      NaN   \n",
       "chr13:g.32316462:T>C      NaN      NaN      NaN      NaN     NaN      NaN   \n",
       "chr13:g.32316462:T>G      NaN      NaN      NaN      NaN     NaN      NaN   \n",
       "chr13:g.32316463:G>A      NaN      NaN      NaN      NaN     NaN      NaN   \n",
       "\n",
       "                     12438698  \n",
       "chr13:g.32316461:A>G      NaN  \n",
       "chr13:g.32316462:T>A      NaN  \n",
       "chr13:g.32316462:T>C      NaN  \n",
       "chr13:g.32316462:T>G      NaN  \n",
       "chr13:g.32316463:G>A      NaN  \n",
       "\n",
       "[5 rows x 2145 columns]"
      ]
     },
     "execution_count": 31,
     "metadata": {},
     "output_type": "execute_result"
    }
   ],
   "source": []
  },
  {
   "cell_type": "code",
   "execution_count": 18,
   "metadata": {},
   "outputs": [
    {
     "name": "stdout",
     "output_type": "stream",
     "text": [
      "Top 10 variants with the most mentions:\n"
     ]
    },
    {
     "data": {
      "text/plain": [
       "chr17:g.43106487:A>C    410\n",
       "chr13:g.32398489:A>T    150\n",
       "chr17:g.43092919:G>A    148\n",
       "chr17:g.43071077:T>C    144\n",
       "chr17:g.43063903:G>T    141\n",
       "chr17:g.43051071:A>C    140\n",
       "chr17:g.43092418:T>C    133\n",
       "chr13:g.32332592:A>C    131\n",
       "chr17:g.43091983:T>C    126\n",
       "chr17:g.43094464:T>C    124\n",
       "dtype: int64"
      ]
     },
     "execution_count": 18,
     "metadata": {},
     "output_type": "execute_result"
    }
   ],
   "source": [
    "print(\"Top 10 variants most pubmed hits:\")\n",
    "pd.DataFrame.from_dict(lit[\"variants\"], orient=\"index\").T.count().sort_values(ascending=False)[0:10]"
   ]
  },
  {
   "cell_type": "markdown",
   "metadata": {},
   "source": [
    "# LOVD Truth Set"
   ]
  },
  {
   "cell_type": "code",
   "execution_count": 45,
   "metadata": {},
   "outputs": [],
   "source": [
    "lovd = pd.read_table(os.path.expanduser(\"~/pubMunch-BRCA/tests/lovd-normalized.tsv\"), dtype=str)"
   ]
  },
  {
   "cell_type": "code",
   "execution_count": 53,
   "metadata": {},
   "outputs": [
    {
     "name": "stdout",
     "output_type": "stream",
     "text": [
      "Papers in LOVD truth set: 175\n",
      "Papers in both LOVD truth set and literature.json: 119\n"
     ]
    }
   ],
   "source": [
    "print(\"Papers in LOVD truth set:\", len(set(lovd[\"pmid\"].values)))\n",
    "common = set(lovd[\"pmid\"].values).intersection(set(lit[\"papers\"]))\n",
    "print(\"Papers in both LOVD truth set and literature.json:\", len(common))"
   ]
  },
  {
   "cell_type": "code",
   "execution_count": 54,
   "metadata": {},
   "outputs": [
    {
     "data": {
      "text/plain": [
       "{'10373534',\n",
       " '10426999',\n",
       " '10551859',\n",
       " '10638982',\n",
       " '10699917',\n",
       " '10811118',\n",
       " '10951344',\n",
       " '10969800',\n",
       " '11137998',\n",
       " '11157798',\n",
       " '11185744',\n",
       " '11239456',\n",
       " '11301010',\n",
       " '11320250',\n",
       " '11389159',\n",
       " '11504767',\n",
       " '11526114',\n",
       " '11573086',\n",
       " '11916966',\n",
       " '12034536',\n",
       " '12142080',\n",
       " '12145750',\n",
       " '12215251',\n",
       " '12354784',\n",
       " '12400015',\n",
       " '12427738',\n",
       " '12442171',\n",
       " '12457999',\n",
       " '12474142',\n",
       " '12496476',\n",
       " '12527904',\n",
       " '12531920',\n",
       " '12624152',\n",
       " '12759930',\n",
       " '12915465',\n",
       " '14513821',\n",
       " '14534301',\n",
       " '14576432',\n",
       " '14647443',\n",
       " '14729053',\n",
       " '14976165',\n",
       " '15001988',\n",
       " '15125843',\n",
       " '15133502',\n",
       " '15133503',\n",
       " '15172985',\n",
       " '15235020',\n",
       " '15290653',\n",
       " '15317758',\n",
       " '15345110',\n",
       " '15350310',\n",
       " '15353005',\n",
       " '15609993',\n",
       " '15689452',\n",
       " '15695382',\n",
       " '15726418',\n",
       " '15743496',\n",
       " '15876480',\n",
       " '15923272',\n",
       " '16014699',\n",
       " '16101277',\n",
       " '16168123',\n",
       " '16267036',\n",
       " '16280041',\n",
       " '16403807',\n",
       " '16489001',\n",
       " '16518693',\n",
       " '16760288',\n",
       " '16792514',\n",
       " '17005433',\n",
       " '17063491',\n",
       " '17308087',\n",
       " '17341484',\n",
       " '17493881',\n",
       " '17549625',\n",
       " '17899372',\n",
       " '17902052',\n",
       " '17924331',\n",
       " '18036263',\n",
       " '18285836',\n",
       " '18391021',\n",
       " '18424508',\n",
       " '18451181',\n",
       " '18500671',\n",
       " '18607349',\n",
       " '18694767',\n",
       " '18712473',\n",
       " '18824701',\n",
       " '18992264',\n",
       " '19043619',\n",
       " '19179552',\n",
       " '19200354',\n",
       " '19267246',\n",
       " '19404736',\n",
       " '19423647',\n",
       " '19452558',\n",
       " '19493677',\n",
       " '19543972',\n",
       " '19563646',\n",
       " '19892845',\n",
       " '20103620',\n",
       " '20215541',\n",
       " '20378548',\n",
       " '20455026',\n",
       " '20507642',\n",
       " '20516115',\n",
       " '20522429',\n",
       " '20737206',\n",
       " '20967475',\n",
       " '21671020',\n",
       " '21673748',\n",
       " '21719596',\n",
       " '21741379',\n",
       " '22144684',\n",
       " '22678057',\n",
       " '22889855',\n",
       " '22962691',\n",
       " '24395671',\n",
       " '24667779'}"
      ]
     },
     "execution_count": 54,
     "metadata": {},
     "output_type": "execute_result"
    }
   ],
   "source": [
    "with open(\"lovd\")"
   ]
  }
 ],
 "metadata": {
  "kernelspec": {
   "display_name": "Python 3",
   "language": "python",
   "name": "python3"
  },
  "language_info": {
   "codemirror_mode": {
    "name": "ipython",
    "version": 3
   },
   "file_extension": ".py",
   "mimetype": "text/x-python",
   "name": "python",
   "nbconvert_exporter": "python",
   "pygments_lexer": "ipython3",
   "version": "3.5.2"
  }
 },
 "nbformat": 4,
 "nbformat_minor": 2
}
