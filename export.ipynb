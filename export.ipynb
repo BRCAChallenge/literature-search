{
 "cells": [
  {
   "cell_type": "markdown",
   "metadata": {},
   "source": [
    "# BRCA Exchange Literature Search Export\n",
    "\n",
    "Ingest artifacts from the pipeline, wrangle, and generate literature.json"
   ]
  },
  {
   "cell_type": "code",
   "execution_count": 2,
   "metadata": {},
   "outputs": [],
   "source": [
    "import os\n",
    "import json\n",
    "import sqlite3\n",
    "import pandas as pd\n",
    "\n",
    "os.chdir(os.path.expanduser(\"~/data/pubmunch/crawl/\"))"
   ]
  },
  {
   "cell_type": "markdown",
   "metadata": {},
   "source": [
    "## Ingest\n",
    "Ingest artifacts from various pieces of the pipeline indexed by normalized genomic hgvs and integer pmid "
   ]
  },
  {
   "cell_type": "code",
   "execution_count": 3,
   "metadata": {},
   "outputs": [
    {
     "name": "stdout",
     "output_type": "stream",
     "text": [
      "15 articles loaded from the articles sqlite database\n"
     ]
    },
    {
     "data": {
      "text/html": [
       "<div>\n",
       "<style scoped>\n",
       "    .dataframe tbody tr th:only-of-type {\n",
       "        vertical-align: middle;\n",
       "    }\n",
       "\n",
       "    .dataframe tbody tr th {\n",
       "        vertical-align: top;\n",
       "    }\n",
       "\n",
       "    .dataframe thead th {\n",
       "        text-align: right;\n",
       "    }\n",
       "</style>\n",
       "<table border=\"1\" class=\"dataframe\">\n",
       "  <thead>\n",
       "    <tr style=\"text-align: right;\">\n",
       "      <th></th>\n",
       "      <th>articleId</th>\n",
       "      <th>externalId</th>\n",
       "      <th>source</th>\n",
       "      <th>publisher</th>\n",
       "      <th>origFile</th>\n",
       "      <th>journal</th>\n",
       "      <th>printIssn</th>\n",
       "      <th>eIssn</th>\n",
       "      <th>journalUniqueId</th>\n",
       "      <th>year</th>\n",
       "      <th>...</th>\n",
       "      <th>issue</th>\n",
       "      <th>page</th>\n",
       "      <th>pmid</th>\n",
       "      <th>pmcId</th>\n",
       "      <th>doi</th>\n",
       "      <th>fulltextUrl</th>\n",
       "      <th>time</th>\n",
       "      <th>offset</th>\n",
       "      <th>size</th>\n",
       "      <th>chunkId</th>\n",
       "    </tr>\n",
       "  </thead>\n",
       "  <tbody>\n",
       "    <tr>\n",
       "      <th>0</th>\n",
       "      <td>5009042909</td>\n",
       "      <td>PMID9042909</td>\n",
       "      <td></td>\n",
       "      <td>download</td>\n",
       "      <td></td>\n",
       "      <td>American journal of human genetics</td>\n",
       "      <td>0002-9297</td>\n",
       "      <td>0002-9297</td>\n",
       "      <td>0370475</td>\n",
       "      <td>1997</td>\n",
       "      <td>...</td>\n",
       "      <td>3</td>\n",
       "      <td>505</td>\n",
       "      <td>9042909</td>\n",
       "      <td>1712523</td>\n",
       "      <td>10.1086/302525</td>\n",
       "      <td>https://linkinghub.elsevier.com/retrieve/pii/S...</td>\n",
       "      <td>2019-02-05T17:39:41+0000</td>\n",
       "      <td>78</td>\n",
       "      <td>22155</td>\n",
       "      <td>0_00000</td>\n",
       "    </tr>\n",
       "    <tr>\n",
       "      <th>1</th>\n",
       "      <td>5012473589</td>\n",
       "      <td>PMID12473589</td>\n",
       "      <td></td>\n",
       "      <td>download</td>\n",
       "      <td></td>\n",
       "      <td>Clinical cancer research : an official journal...</td>\n",
       "      <td>1078-0432</td>\n",
       "      <td>1078-0432</td>\n",
       "      <td>9502500</td>\n",
       "      <td>2002</td>\n",
       "      <td>...</td>\n",
       "      <td>12</td>\n",
       "      <td>3776</td>\n",
       "      <td>12473589</td>\n",
       "      <td></td>\n",
       "      <td></td>\n",
       "      <td></td>\n",
       "      <td>2019-02-06T05:18:11+0000</td>\n",
       "      <td>78</td>\n",
       "      <td>72965</td>\n",
       "      <td>1_00000</td>\n",
       "    </tr>\n",
       "    <tr>\n",
       "      <th>2</th>\n",
       "      <td>5025192939</td>\n",
       "      <td>PMID25192939</td>\n",
       "      <td></td>\n",
       "      <td>download</td>\n",
       "      <td></td>\n",
       "      <td>Proceedings of the National Academy of Science...</td>\n",
       "      <td>0027-8424</td>\n",
       "      <td>1091-6490</td>\n",
       "      <td>7505876</td>\n",
       "      <td>2014</td>\n",
       "      <td>...</td>\n",
       "      <td>39</td>\n",
       "      <td>14205</td>\n",
       "      <td>25192939</td>\n",
       "      <td>4191771</td>\n",
       "      <td>10.1073/pnas.1415979111</td>\n",
       "      <td></td>\n",
       "      <td>2019-02-06T05:18:36+0000</td>\n",
       "      <td>1329403691</td>\n",
       "      <td>68715</td>\n",
       "      <td>1_00000</td>\n",
       "    </tr>\n",
       "    <tr>\n",
       "      <th>3</th>\n",
       "      <td>5021987798</td>\n",
       "      <td>PMID21987798</td>\n",
       "      <td></td>\n",
       "      <td>download</td>\n",
       "      <td></td>\n",
       "      <td>Proceedings of the National Academy of Science...</td>\n",
       "      <td>0027-8424</td>\n",
       "      <td>1091-6490</td>\n",
       "      <td>7505876</td>\n",
       "      <td>2011</td>\n",
       "      <td>...</td>\n",
       "      <td>43</td>\n",
       "      <td>17773</td>\n",
       "      <td>21987798</td>\n",
       "      <td>3203756</td>\n",
       "      <td>10.1073/pnas.1110969108</td>\n",
       "      <td></td>\n",
       "      <td>2019-02-06T05:18:57+0000</td>\n",
       "      <td>2729058227</td>\n",
       "      <td>97544</td>\n",
       "      <td>1_00000</td>\n",
       "    </tr>\n",
       "    <tr>\n",
       "      <th>4</th>\n",
       "      <td>5015994883</td>\n",
       "      <td>PMID15994883</td>\n",
       "      <td></td>\n",
       "      <td>download</td>\n",
       "      <td></td>\n",
       "      <td>Journal of medical genetics</td>\n",
       "      <td>0022-2593</td>\n",
       "      <td>1468-6244</td>\n",
       "      <td>2985087R</td>\n",
       "      <td>2005</td>\n",
       "      <td>...</td>\n",
       "      <td>7</td>\n",
       "      <td>602</td>\n",
       "      <td>15994883</td>\n",
       "      <td>1736090</td>\n",
       "      <td>10.1136/jmg.2004.024133</td>\n",
       "      <td></td>\n",
       "      <td>2019-02-06T05:19:27+0000</td>\n",
       "      <td>4205419366</td>\n",
       "      <td>28415</td>\n",
       "      <td>1_00000</td>\n",
       "    </tr>\n",
       "  </tbody>\n",
       "</table>\n",
       "<p>5 rows × 30 columns</p>\n",
       "</div>"
      ],
      "text/plain": [
       "    articleId    externalId source publisher origFile  \\\n",
       "0  5009042909   PMID9042909         download            \n",
       "1  5012473589  PMID12473589         download            \n",
       "2  5025192939  PMID25192939         download            \n",
       "3  5021987798  PMID21987798         download            \n",
       "4  5015994883  PMID15994883         download            \n",
       "\n",
       "                                             journal  printIssn      eIssn  \\\n",
       "0                 American journal of human genetics  0002-9297  0002-9297   \n",
       "1  Clinical cancer research : an official journal...  1078-0432  1078-0432   \n",
       "2  Proceedings of the National Academy of Science...  0027-8424  1091-6490   \n",
       "3  Proceedings of the National Academy of Science...  0027-8424  1091-6490   \n",
       "4                        Journal of medical genetics  0022-2593  1468-6244   \n",
       "\n",
       "  journalUniqueId  year   ...    issue   page      pmid    pmcId  \\\n",
       "0         0370475  1997   ...        3    505   9042909  1712523   \n",
       "1         9502500  2002   ...       12   3776  12473589            \n",
       "2         7505876  2014   ...       39  14205  25192939  4191771   \n",
       "3         7505876  2011   ...       43  17773  21987798  3203756   \n",
       "4        2985087R  2005   ...        7    602  15994883  1736090   \n",
       "\n",
       "                       doi                                        fulltextUrl  \\\n",
       "0           10.1086/302525  https://linkinghub.elsevier.com/retrieve/pii/S...   \n",
       "1                                                                               \n",
       "2  10.1073/pnas.1415979111                                                      \n",
       "3  10.1073/pnas.1110969108                                                      \n",
       "4  10.1136/jmg.2004.024133                                                      \n",
       "\n",
       "                       time      offset   size  chunkId  \n",
       "0  2019-02-05T17:39:41+0000          78  22155  0_00000  \n",
       "1  2019-02-06T05:18:11+0000          78  72965  1_00000  \n",
       "2  2019-02-06T05:18:36+0000  1329403691  68715  1_00000  \n",
       "3  2019-02-06T05:18:57+0000  2729058227  97544  1_00000  \n",
       "4  2019-02-06T05:19:27+0000  4205419366  28415  1_00000  \n",
       "\n",
       "[5 rows x 30 columns]"
      ]
     },
     "execution_count": 3,
     "metadata": {},
     "output_type": "execute_result"
    }
   ],
   "source": [
    "connection = sqlite3.connect(\"file:text/articles.db?mode=ro\", uri=True)\n",
    "articles = pd.read_sql_query(\"SELECT * FROM articles\", connection)\n",
    "articles.pmid = articles.pmid.astype(str)\n",
    "print(\"{} articles loaded from the articles sqlite database\".format(articles.shape[0]))\n",
    "articles.head()"
   ]
  },
  {
   "cell_type": "code",
   "execution_count": 10,
   "metadata": {},
   "outputs": [
    {
     "name": "stdout",
     "output_type": "stream",
     "text": [
      "Total matched mentions: 8019\n"
     ]
    },
    {
     "data": {
      "text/html": [
       "<div>\n",
       "<style scoped>\n",
       "    .dataframe tbody tr th:only-of-type {\n",
       "        vertical-align: middle;\n",
       "    }\n",
       "\n",
       "    .dataframe tbody tr th {\n",
       "        vertical-align: top;\n",
       "    }\n",
       "\n",
       "    .dataframe thead th {\n",
       "        text-align: right;\n",
       "    }\n",
       "</style>\n",
       "<table border=\"1\" class=\"dataframe\">\n",
       "  <thead>\n",
       "    <tr style=\"text-align: right;\">\n",
       "      <th></th>\n",
       "      <th>pyhgvs_Genomic_Coordinate_38</th>\n",
       "      <th>pmid</th>\n",
       "      <th>snippets</th>\n",
       "      <th>score</th>\n",
       "    </tr>\n",
       "  </thead>\n",
       "  <tbody>\n",
       "    <tr>\n",
       "      <th>0</th>\n",
       "      <td>chr17:g.43124027:ACT&gt;A</td>\n",
       "      <td>11352856</td>\n",
       "      <td>previous history of breast or ovarian cancer. ...</td>\n",
       "      <td>3</td>\n",
       "    </tr>\n",
       "    <tr>\n",
       "      <th>1</th>\n",
       "      <td>chr17:g.43124027:ACT&gt;A</td>\n",
       "      <td>11352856</td>\n",
       "      <td>All subjects were genotyped for the three muta...</td>\n",
       "      <td>3</td>\n",
       "    </tr>\n",
       "    <tr>\n",
       "      <th>2</th>\n",
       "      <td>chr17:g.43057062:T&gt;TG</td>\n",
       "      <td>11352856</td>\n",
       "      <td>miology, Biomarkers &amp; Prevention  Table 1 Age ...</td>\n",
       "      <td>3</td>\n",
       "    </tr>\n",
       "    <tr>\n",
       "      <th>3</th>\n",
       "      <td>chr17:g.43057059:T&gt;TG</td>\n",
       "      <td>11352856</td>\n",
       "      <td>miology, Biomarkers &amp; Prevention  Table 1 Age ...</td>\n",
       "      <td>3</td>\n",
       "    </tr>\n",
       "    <tr>\n",
       "      <th>4</th>\n",
       "      <td>chr13:g.32340526:AT&gt;A</td>\n",
       "      <td>11352856</td>\n",
       "      <td>n cancer. All subjects were genotyped for the ...</td>\n",
       "      <td>2</td>\n",
       "    </tr>\n",
       "  </tbody>\n",
       "</table>\n",
       "</div>"
      ],
      "text/plain": [
       "  pyhgvs_Genomic_Coordinate_38      pmid  \\\n",
       "0       chr17:g.43124027:ACT>A  11352856   \n",
       "1       chr17:g.43124027:ACT>A  11352856   \n",
       "2        chr17:g.43057062:T>TG  11352856   \n",
       "3        chr17:g.43057059:T>TG  11352856   \n",
       "4        chr13:g.32340526:AT>A  11352856   \n",
       "\n",
       "                                            snippets score  \n",
       "0  previous history of breast or ovarian cancer. ...     3  \n",
       "1  All subjects were genotyped for the three muta...     3  \n",
       "2  miology, Biomarkers & Prevention  Table 1 Age ...     3  \n",
       "3  miology, Biomarkers & Prevention  Table 1 Age ...     3  \n",
       "4  n cancer. All subjects were genotyped for the ...     2  "
      ]
     },
     "execution_count": 10,
     "metadata": {},
     "output_type": "execute_result"
    }
   ],
   "source": [
    "mentions = pd.read_csv(\"mentions-matched.tsv\", sep=\"\\t\", encoding=\"utf-8\", dtype=\"str\")\n",
    "print(\"Total matched mentions: {}\".format(mentions.shape[0]))\n",
    "mentions.head()"
   ]
  },
  {
   "cell_type": "code",
   "execution_count": 9,
   "metadata": {},
   "outputs": [
    {
     "name": "stdout",
     "output_type": "stream",
     "text": [
      "Initial # mentions 8019\n",
      "After dropping duplicates of pyhgvs_Genomic_Coordinate_38+pmid+snippets: 7919\n"
     ]
    }
   ],
   "source": [
    "print(\"Initial # mentions\", mentions.shape[0])\n",
    "pruned_mentions = mentions.drop_duplicates([\"pyhgvs_Genomic_Coordinate_38\", \"pmid\", \"snippets\"])\n",
    "print(\"After dropping duplicates of pyhgvs_Genomic_Coordinate_38+pmid+snippets: {}\".format(pruned_mentions.shape[0]))"
   ]
  },
  {
   "cell_type": "code",
   "execution_count": 15,
   "metadata": {},
   "outputs": [
    {
     "name": "stdout",
     "output_type": "stream",
     "text": [
      "Unpacking 3931 of 7919 snippets with multiple phrases seaparated by '|'\n",
      "13521 individual snippets after expanding and de-duplicating snippets\n"
     ]
    },
    {
     "data": {
      "text/html": [
       "<div>\n",
       "<style scoped>\n",
       "    .dataframe tbody tr th:only-of-type {\n",
       "        vertical-align: middle;\n",
       "    }\n",
       "\n",
       "    .dataframe tbody tr th {\n",
       "        vertical-align: top;\n",
       "    }\n",
       "\n",
       "    .dataframe thead th {\n",
       "        text-align: right;\n",
       "    }\n",
       "</style>\n",
       "<table border=\"1\" class=\"dataframe\">\n",
       "  <thead>\n",
       "    <tr style=\"text-align: right;\">\n",
       "      <th></th>\n",
       "      <th>index</th>\n",
       "      <th>pmid</th>\n",
       "      <th>score</th>\n",
       "      <th>snippets</th>\n",
       "    </tr>\n",
       "    <tr>\n",
       "      <th>pyhgvs_Genomic_Coordinate_38</th>\n",
       "      <th></th>\n",
       "      <th></th>\n",
       "      <th></th>\n",
       "      <th></th>\n",
       "    </tr>\n",
       "  </thead>\n",
       "  <tbody>\n",
       "    <tr>\n",
       "      <th>chr17:g.43124027:ACT&gt;A</th>\n",
       "      <td>0</td>\n",
       "      <td>11352856</td>\n",
       "      <td>3</td>\n",
       "      <td>previous history of breast or ovarian cancer. ...</td>\n",
       "    </tr>\n",
       "    <tr>\n",
       "      <th>chr17:g.43124027:ACT&gt;A</th>\n",
       "      <td>0</td>\n",
       "      <td>11352856</td>\n",
       "      <td>3</td>\n",
       "      <td>ecific relative risks of breast cancer attribu...</td>\n",
       "    </tr>\n",
       "    <tr>\n",
       "      <th>chr17:g.43124027:ACT&gt;A</th>\n",
       "      <td>0</td>\n",
       "      <td>11352856</td>\n",
       "      <td>3</td>\n",
       "      <td>series, and individuals referred for prenatal ...</td>\n",
       "    </tr>\n",
       "    <tr>\n",
       "      <th>chr17:g.43124027:ACT&gt;A</th>\n",
       "      <td>1</td>\n",
       "      <td>11352856</td>\n",
       "      <td>3</td>\n",
       "      <td>All subjects were genotyped for the three muta...</td>\n",
       "    </tr>\n",
       "    <tr>\n",
       "      <th>chr17:g.43057062:T&gt;TG</th>\n",
       "      <td>2</td>\n",
       "      <td>11352856</td>\n",
       "      <td>3</td>\n",
       "      <td>miology, Biomarkers &amp; Prevention  Table 1 Age ...</td>\n",
       "    </tr>\n",
       "  </tbody>\n",
       "</table>\n",
       "</div>"
      ],
      "text/plain": [
       "                              index      pmid score  \\\n",
       "pyhgvs_Genomic_Coordinate_38                          \n",
       "chr17:g.43124027:ACT>A            0  11352856     3   \n",
       "chr17:g.43124027:ACT>A            0  11352856     3   \n",
       "chr17:g.43124027:ACT>A            0  11352856     3   \n",
       "chr17:g.43124027:ACT>A            1  11352856     3   \n",
       "chr17:g.43057062:T>TG             2  11352856     3   \n",
       "\n",
       "                                                                       snippets  \n",
       "pyhgvs_Genomic_Coordinate_38                                                     \n",
       "chr17:g.43124027:ACT>A        previous history of breast or ovarian cancer. ...  \n",
       "chr17:g.43124027:ACT>A        ecific relative risks of breast cancer attribu...  \n",
       "chr17:g.43124027:ACT>A        series, and individuals referred for prenatal ...  \n",
       "chr17:g.43124027:ACT>A        All subjects were genotyped for the three muta...  \n",
       "chr17:g.43057062:T>TG         miology, Biomarkers & Prevention  Table 1 Age ...  "
      ]
     },
     "execution_count": 15,
     "metadata": {},
     "output_type": "execute_result"
    }
   ],
   "source": [
    "# Some of the snippets are multiple mentions separated by | so unpack these,\n",
    "# but limit to 3 as some have as many as 168!\n",
    "print(\"Unpacking {} of {} snippets with multiple phrases seaparated by '|'\".format(\n",
    "    pruned_mentions[pruned_mentions.snippets.str.contains(\"|\", regex=False)].shape[0], pruned_mentions.shape[0]))\n",
    "\n",
    "# https://stackoverflow.com/questions/17116814/pandas-how-do-i-split-text-in-a-column-into-multiple-rows/21032532\n",
    "\n",
    "# Reset index so each row id is unique vs. norm_g_hgvs\n",
    "df = pruned_mentions.reset_index()\n",
    "# df = variant_mentions[variant_mentions.snippet.str.contains(\"|\", regex=False)].iloc[0:100].reset_index()\n",
    "\n",
    "# Generate a new dataframe splitting each snippet segment into its own row\n",
    "# Limit to max of 3 as some of them have > 100\n",
    "snippets = df.apply(lambda x: pd.Series(x.snippets.split(\"|\")[:3]), axis=1).stack()\n",
    "\n",
    "# To line up with the original index\n",
    "snippets.index = snippets.index.droplevel(-1)\n",
    "\n",
    "# Join back to the original dataframe replaceing the old \"snippet\" columnd\n",
    "snippets.name = \"snippets\"\n",
    "del df[\"snippets\"]\n",
    "exploded = df.join(snippets).drop_duplicates(\n",
    "    [\"pyhgvs_Genomic_Coordinate_38\", \"snippets\"]).set_index(\n",
    "    \"pyhgvs_Genomic_Coordinate_38\", drop=True)\n",
    "print(\"{} individual snippets after expanding and de-duplicating snippets\".format(exploded.shape[0]))\n",
    "\n",
    "exploded.head()"
   ]
  },
  {
   "cell_type": "markdown",
   "metadata": {},
   "source": [
    "# Stats"
   ]
  },
  {
   "cell_type": "code",
   "execution_count": 33,
   "metadata": {},
   "outputs": [
    {
     "name": "stdout",
     "output_type": "stream",
     "text": [
      "Max mentions for a single variant: chr17:g.43124027:ACT>A 62\n",
      "Max mentions for a single paper from one variant: ('chr17:g.43057062:T>TG', '22430266') 11\n",
      "Paper referenced from the most variants: 16397213 8978\n"
     ]
    }
   ],
   "source": [
    "print(\"Max mentions for a single variant: {} {}\".format(\n",
    "    exploded.groupby([\"pyhgvs_Genomic_Coordinate_38\"]).size().idxmax(),\n",
    "    exploded.groupby([\"pyhgvs_Genomic_Coordinate_38\"]).size().max()))\n",
    "\n",
    "print(\"Max mentions for a single paper from one variant: {} {}\".format(\n",
    "    exploded.groupby([\"pyhgvs_Genomic_Coordinate_38\", \"pmid\"]).size().idxmax(),\n",
    "    exploded.groupby([\"pyhgvs_Genomic_Coordinate_38\", \"pmid\"]).size().max()))\n",
    "\n",
    "print(\"Paper referenced from the most variants: {} {}\".format(\n",
    "    exploded.groupby([\"pmid\"]).size().idxmax(),\n",
    "    exploded.groupby([\"pmid\"]).size().max()))"
   ]
  },
  {
   "cell_type": "code",
   "execution_count": 34,
   "metadata": {},
   "outputs": [
    {
     "name": "stdout",
     "output_type": "stream",
     "text": [
      "Variant mention stats:\n",
      "count    4587.000000\n",
      "mean        2.947678\n",
      "std         2.367346\n",
      "min         1.000000\n",
      "25%         1.000000\n",
      "50%         3.000000\n",
      "75%         4.000000\n",
      "max        62.000000\n",
      "Name: pyhgvs_Genomic_Coordinate_38, dtype: float64\n"
     ]
    }
   ],
   "source": [
    "print(\"Variant mention stats:\")\n",
    "print(exploded.reset_index().groupby([\"pyhgvs_Genomic_Coordinate_38\"])\n",
    "      [\"pyhgvs_Genomic_Coordinate_38\"].count().describe())"
   ]
  },
  {
   "cell_type": "code",
   "execution_count": 35,
   "metadata": {},
   "outputs": [
    {
     "name": "stdout",
     "output_type": "stream",
     "text": [
      "Paper mentions stats:\n",
      "count      14.000000\n",
      "mean      965.785714\n",
      "std      2578.209521\n",
      "min         2.000000\n",
      "25%        10.750000\n",
      "50%        17.500000\n",
      "75%        23.250000\n",
      "max      8978.000000\n",
      "Name: pmid, dtype: float64\n"
     ]
    }
   ],
   "source": [
    "print(\"Paper mentions stats:\")\n",
    "print(exploded.reset_index().groupby([\"pmid\"])\n",
    "      [\"pmid\"].count().describe())"
   ]
  },
  {
   "cell_type": "markdown",
   "metadata": {},
   "source": [
    "## Export"
   ]
  },
  {
   "cell_type": "code",
   "execution_count": 17,
   "metadata": {},
   "outputs": [
    {
     "name": "stdout",
     "output_type": "stream",
     "text": [
      "Combined 13521 separate snippets down to 4736 after grouping by pmid\n"
     ]
    }
   ],
   "source": [
    "# Variants by pyhgvs_Genomic_Coordinate_38 by pmid with all snippets in a list\n",
    "combined = exploded.groupby([\"pyhgvs_Genomic_Coordinate_38\", \"pmid\"])[\"snippets\"].apply(lambda s: s.tolist())\n",
    "print(\"Combined {} separate snippets down to {} after grouping by pmid\".format(exploded.shape[0], combined.shape[0]))"
   ]
  },
  {
   "cell_type": "code",
   "execution_count": 32,
   "metadata": {},
   "outputs": [
    {
     "name": "stdout",
     "output_type": "stream",
     "text": [
      "Exported 4587 variants in 14 papers\n"
     ]
    }
   ],
   "source": [
    "lit = {\n",
    "    \"date\": open(\"date.txt\").read().strip(),\n",
    "    \"papers\": articles[articles.pmid.isin(pruned_mentions.pmid)].set_index(\"pmid\", drop=False).to_dict(orient=\"index\"),\n",
    "    \"variants\": {\n",
    "        k: {kk: vv[0] for kk, vv in v.unstack().transpose().iterrows()}\n",
    "        for k, v in combined.groupby(\"pyhgvs_Genomic_Coordinate_38\")},\n",
    "}\n",
    "\n",
    "with open(\"literature.json\", \"w\") as output:\n",
    "    output.write(json.dumps(lit, sort_keys=True))\n",
    "    \n",
    "print(\"Exported {} variants in {} papers\".format(\n",
    "    len(lit[\"variants\"].keys()), len(lit[\"papers\"].keys())))"
   ]
  }
 ],
 "metadata": {
  "kernelspec": {
   "display_name": "Python 3",
   "language": "python",
   "name": "python3"
  },
  "language_info": {
   "codemirror_mode": {
    "name": "ipython",
    "version": 3
   },
   "file_extension": ".py",
   "mimetype": "text/x-python",
   "name": "python",
   "nbconvert_exporter": "python",
   "pygments_lexer": "ipython3",
   "version": "3.6.8"
  }
 },
 "nbformat": 4,
 "nbformat_minor": 2
}
