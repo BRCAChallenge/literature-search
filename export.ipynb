{
 "cells": [
  {
   "cell_type": "markdown",
   "metadata": {},
   "source": [
    "# BRCA Exchange Literature Search Export\n",
    "\n",
    "Ingest artifacts from the pipeline, wrangle, and generate literature.json"
   ]
  },
  {
   "cell_type": "code",
   "execution_count": 1,
   "metadata": {},
   "outputs": [],
   "source": [
    "import os\n",
    "import json\n",
    "import sqlite3\n",
    "import pandas as pd\n",
    "\n",
    "os.chdir(os.path.expanduser(\"/home/jovyan/data/pubmunch/crawl/\"))"
   ]
  },
  {
   "cell_type": "markdown",
   "metadata": {},
   "source": [
    "## Ingest\n",
    "Ingest artifacts from various pieces of the pipeline indexed by normalized genomic hgvs and integer pmid "
   ]
  },
  {
   "cell_type": "code",
   "execution_count": 2,
   "metadata": {},
   "outputs": [
    {
     "name": "stdout",
     "output_type": "stream",
     "text": [
      "159 articles loaded from the articles sqlite database\n"
     ]
    },
    {
     "data": {
      "text/html": [
       "<div>\n",
       "<style scoped>\n",
       "    .dataframe tbody tr th:only-of-type {\n",
       "        vertical-align: middle;\n",
       "    }\n",
       "\n",
       "    .dataframe tbody tr th {\n",
       "        vertical-align: top;\n",
       "    }\n",
       "\n",
       "    .dataframe thead th {\n",
       "        text-align: right;\n",
       "    }\n",
       "</style>\n",
       "<table border=\"1\" class=\"dataframe\">\n",
       "  <thead>\n",
       "    <tr style=\"text-align: right;\">\n",
       "      <th></th>\n",
       "      <th>articleId</th>\n",
       "      <th>externalId</th>\n",
       "      <th>source</th>\n",
       "      <th>publisher</th>\n",
       "      <th>origFile</th>\n",
       "      <th>journal</th>\n",
       "      <th>printIssn</th>\n",
       "      <th>eIssn</th>\n",
       "      <th>journalUniqueId</th>\n",
       "      <th>year</th>\n",
       "      <th>...</th>\n",
       "      <th>issue</th>\n",
       "      <th>page</th>\n",
       "      <th>pmid</th>\n",
       "      <th>pmcId</th>\n",
       "      <th>doi</th>\n",
       "      <th>fulltextUrl</th>\n",
       "      <th>time</th>\n",
       "      <th>offset</th>\n",
       "      <th>size</th>\n",
       "      <th>chunkId</th>\n",
       "    </tr>\n",
       "  </thead>\n",
       "  <tbody>\n",
       "    <tr>\n",
       "      <th>0</th>\n",
       "      <td>5019423647</td>\n",
       "      <td>PMID19423647</td>\n",
       "      <td></td>\n",
       "      <td>download</td>\n",
       "      <td></td>\n",
       "      <td>Annals of oncology : official journal of the E...</td>\n",
       "      <td>0923-7534</td>\n",
       "      <td>1569-8041</td>\n",
       "      <td>9007735</td>\n",
       "      <td>2009</td>\n",
       "      <td>...</td>\n",
       "      <td>6</td>\n",
       "      <td>1143</td>\n",
       "      <td>19423647</td>\n",
       "      <td></td>\n",
       "      <td>10.1093/annonc/mdp241</td>\n",
       "      <td></td>\n",
       "      <td>2019-02-21T00:07:31+0000</td>\n",
       "      <td>78</td>\n",
       "      <td>21596</td>\n",
       "      <td>0_00000</td>\n",
       "    </tr>\n",
       "    <tr>\n",
       "      <th>1</th>\n",
       "      <td>5009126734</td>\n",
       "      <td>PMID9126734</td>\n",
       "      <td></td>\n",
       "      <td>download</td>\n",
       "      <td></td>\n",
       "      <td>Nature</td>\n",
       "      <td>0028-0836</td>\n",
       "      <td>0028-0836</td>\n",
       "      <td>0410462</td>\n",
       "      <td>1997</td>\n",
       "      <td>...</td>\n",
       "      <td>6627</td>\n",
       "      <td>772</td>\n",
       "      <td>9126734</td>\n",
       "      <td></td>\n",
       "      <td>10.1038/386772a0</td>\n",
       "      <td></td>\n",
       "      <td>2019-02-21T00:07:58+0000</td>\n",
       "      <td>22305</td>\n",
       "      <td>19931</td>\n",
       "      <td>0_00000</td>\n",
       "    </tr>\n",
       "    <tr>\n",
       "      <th>2</th>\n",
       "      <td>5022889855</td>\n",
       "      <td>PMID22889855</td>\n",
       "      <td></td>\n",
       "      <td>download</td>\n",
       "      <td></td>\n",
       "      <td>Journal of medical genetics</td>\n",
       "      <td>0022-2593</td>\n",
       "      <td>1468-6244</td>\n",
       "      <td>2985087R</td>\n",
       "      <td>2012</td>\n",
       "      <td>...</td>\n",
       "      <td>8</td>\n",
       "      <td>525</td>\n",
       "      <td>22889855</td>\n",
       "      <td>3810416</td>\n",
       "      <td>10.1136/jmedgenet-2012-101037</td>\n",
       "      <td></td>\n",
       "      <td>2019-02-21T00:08:35+0000</td>\n",
       "      <td>42718</td>\n",
       "      <td>118856</td>\n",
       "      <td>0_00000</td>\n",
       "    </tr>\n",
       "    <tr>\n",
       "      <th>3</th>\n",
       "      <td>5012473589</td>\n",
       "      <td>PMID12473589</td>\n",
       "      <td></td>\n",
       "      <td>download</td>\n",
       "      <td></td>\n",
       "      <td>Clinical cancer research : an official journal...</td>\n",
       "      <td>1078-0432</td>\n",
       "      <td>1078-0432</td>\n",
       "      <td>9502500</td>\n",
       "      <td>2002</td>\n",
       "      <td>...</td>\n",
       "      <td>12</td>\n",
       "      <td>3776</td>\n",
       "      <td>12473589</td>\n",
       "      <td></td>\n",
       "      <td></td>\n",
       "      <td></td>\n",
       "      <td>2019-02-21T00:08:56+0000</td>\n",
       "      <td>2919658796</td>\n",
       "      <td>72920</td>\n",
       "      <td>0_00000</td>\n",
       "    </tr>\n",
       "    <tr>\n",
       "      <th>4</th>\n",
       "      <td>5018285836</td>\n",
       "      <td>PMID18285836</td>\n",
       "      <td></td>\n",
       "      <td>download</td>\n",
       "      <td></td>\n",
       "      <td>European journal of human genetics : EJHG</td>\n",
       "      <td>1018-4813</td>\n",
       "      <td>1018-4813</td>\n",
       "      <td>9302235</td>\n",
       "      <td>2008</td>\n",
       "      <td>...</td>\n",
       "      <td>7</td>\n",
       "      <td>820</td>\n",
       "      <td>18285836</td>\n",
       "      <td>3905962</td>\n",
       "      <td>10.1038/ejhg.2008.13</td>\n",
       "      <td></td>\n",
       "      <td>2019-02-21T00:09:18+0000</td>\n",
       "      <td>4427189208</td>\n",
       "      <td>113381</td>\n",
       "      <td>0_00000</td>\n",
       "    </tr>\n",
       "  </tbody>\n",
       "</table>\n",
       "<p>5 rows × 30 columns</p>\n",
       "</div>"
      ],
      "text/plain": [
       "    articleId    externalId source publisher origFile  \\\n",
       "0  5019423647  PMID19423647         download            \n",
       "1  5009126734   PMID9126734         download            \n",
       "2  5022889855  PMID22889855         download            \n",
       "3  5012473589  PMID12473589         download            \n",
       "4  5018285836  PMID18285836         download            \n",
       "\n",
       "                                             journal  printIssn      eIssn  \\\n",
       "0  Annals of oncology : official journal of the E...  0923-7534  1569-8041   \n",
       "1                                             Nature  0028-0836  0028-0836   \n",
       "2                        Journal of medical genetics  0022-2593  1468-6244   \n",
       "3  Clinical cancer research : an official journal...  1078-0432  1078-0432   \n",
       "4          European journal of human genetics : EJHG  1018-4813  1018-4813   \n",
       "\n",
       "  journalUniqueId  year   ...    issue  page      pmid    pmcId  \\\n",
       "0         9007735  2009   ...        6  1143  19423647            \n",
       "1         0410462  1997   ...     6627   772   9126734            \n",
       "2        2985087R  2012   ...        8   525  22889855  3810416   \n",
       "3         9502500  2002   ...       12  3776  12473589            \n",
       "4         9302235  2008   ...        7   820  18285836  3905962   \n",
       "\n",
       "                             doi fulltextUrl                      time  \\\n",
       "0          10.1093/annonc/mdp241              2019-02-21T00:07:31+0000   \n",
       "1               10.1038/386772a0              2019-02-21T00:07:58+0000   \n",
       "2  10.1136/jmedgenet-2012-101037              2019-02-21T00:08:35+0000   \n",
       "3                                             2019-02-21T00:08:56+0000   \n",
       "4           10.1038/ejhg.2008.13              2019-02-21T00:09:18+0000   \n",
       "\n",
       "       offset    size  chunkId  \n",
       "0          78   21596  0_00000  \n",
       "1       22305   19931  0_00000  \n",
       "2       42718  118856  0_00000  \n",
       "3  2919658796   72920  0_00000  \n",
       "4  4427189208  113381  0_00000  \n",
       "\n",
       "[5 rows x 30 columns]"
      ]
     },
     "execution_count": 2,
     "metadata": {},
     "output_type": "execute_result"
    }
   ],
   "source": [
    "connection = sqlite3.connect(\"file:text/articles.db?mode=ro\", uri=True)\n",
    "articles = pd.read_sql_query(\"SELECT * FROM articles\", connection)\n",
    "articles.pmid = articles.pmid.astype(str)\n",
    "print(\"{} articles loaded from the articles sqlite database\".format(articles.shape[0]))\n",
    "articles.head()"
   ]
  },
  {
   "cell_type": "code",
   "execution_count": 3,
   "metadata": {},
   "outputs": [
    {
     "name": "stdout",
     "output_type": "stream",
     "text": [
      "Total matched mentions: 16640\n"
     ]
    },
    {
     "data": {
      "text/html": [
       "<div>\n",
       "<style scoped>\n",
       "    .dataframe tbody tr th:only-of-type {\n",
       "        vertical-align: middle;\n",
       "    }\n",
       "\n",
       "    .dataframe tbody tr th {\n",
       "        vertical-align: top;\n",
       "    }\n",
       "\n",
       "    .dataframe thead th {\n",
       "        text-align: right;\n",
       "    }\n",
       "</style>\n",
       "<table border=\"1\" class=\"dataframe\">\n",
       "  <thead>\n",
       "    <tr style=\"text-align: right;\">\n",
       "      <th></th>\n",
       "      <th>pyhgvs_Genomic_Coordinate_38</th>\n",
       "      <th>pmid</th>\n",
       "      <th>snippets</th>\n",
       "      <th>score</th>\n",
       "    </tr>\n",
       "  </thead>\n",
       "  <tbody>\n",
       "    <tr>\n",
       "      <th>0</th>\n",
       "      <td>chr17:g.43092632:T&gt;A</td>\n",
       "      <td>10373534</td>\n",
       "      <td>1051-1863, using a Clontech transformer site-d...</td>\n",
       "      <td>3</td>\n",
       "    </tr>\n",
       "    <tr>\n",
       "      <th>1</th>\n",
       "      <td>chr17:g.43092632:T&gt;A</td>\n",
       "      <td>10373534</td>\n",
       "      <td>1051-1863, using a Clontech transformer site-...</td>\n",
       "      <td>3</td>\n",
       "    </tr>\n",
       "    <tr>\n",
       "      <th>2</th>\n",
       "      <td>chr17:g.43076488:C&gt;A</td>\n",
       "      <td>10373534</td>\n",
       "      <td>A mutation in close proximity has been compile...</td>\n",
       "      <td>2</td>\n",
       "    </tr>\n",
       "    <tr>\n",
       "      <th>3</th>\n",
       "      <td>chr17:g.43076488:C&gt;A</td>\n",
       "      <td>10373534</td>\n",
       "      <td>A mutation in close proximity has been compile...</td>\n",
       "      <td>2</td>\n",
       "    </tr>\n",
       "    <tr>\n",
       "      <th>4</th>\n",
       "      <td>chr17:g.43063903:G&gt;T</td>\n",
       "      <td>10426999</td>\n",
       "      <td>n of the BRCT domain, as indicated. Two of the...</td>\n",
       "      <td>2</td>\n",
       "    </tr>\n",
       "  </tbody>\n",
       "</table>\n",
       "</div>"
      ],
      "text/plain": [
       "  pyhgvs_Genomic_Coordinate_38      pmid  \\\n",
       "0         chr17:g.43092632:T>A  10373534   \n",
       "1         chr17:g.43092632:T>A  10373534   \n",
       "2         chr17:g.43076488:C>A  10373534   \n",
       "3         chr17:g.43076488:C>A  10373534   \n",
       "4         chr17:g.43063903:G>T  10426999   \n",
       "\n",
       "                                            snippets score  \n",
       "0  1051-1863, using a Clontech transformer site-d...     3  \n",
       "1   1051-1863, using a Clontech transformer site-...     3  \n",
       "2  A mutation in close proximity has been compile...     2  \n",
       "3  A mutation in close proximity has been compile...     2  \n",
       "4  n of the BRCT domain, as indicated. Two of the...     2  "
      ]
     },
     "execution_count": 3,
     "metadata": {},
     "output_type": "execute_result"
    }
   ],
   "source": [
    "mentions = pd.read_csv(\"mentions-matched.tsv\", sep=\"\\t\", encoding=\"utf-8\", dtype=\"str\")\n",
    "print(\"Total matched mentions: {}\".format(mentions.shape[0]))\n",
    "mentions.head()"
   ]
  },
  {
   "cell_type": "code",
   "execution_count": 4,
   "metadata": {},
   "outputs": [
    {
     "data": {
      "text/html": [
       "<div>\n",
       "<style scoped>\n",
       "    .dataframe tbody tr th:only-of-type {\n",
       "        vertical-align: middle;\n",
       "    }\n",
       "\n",
       "    .dataframe tbody tr th {\n",
       "        vertical-align: top;\n",
       "    }\n",
       "\n",
       "    .dataframe thead th {\n",
       "        text-align: right;\n",
       "    }\n",
       "</style>\n",
       "<table border=\"1\" class=\"dataframe\">\n",
       "  <thead>\n",
       "    <tr style=\"text-align: right;\">\n",
       "      <th></th>\n",
       "      <th>pyhgvs_Genomic_Coordinate_38</th>\n",
       "      <th>pmid</th>\n",
       "      <th>snippets</th>\n",
       "      <th>score</th>\n",
       "    </tr>\n",
       "  </thead>\n",
       "  <tbody>\n",
       "  </tbody>\n",
       "</table>\n",
       "</div>"
      ],
      "text/plain": [
       "Empty DataFrame\n",
       "Columns: [pyhgvs_Genomic_Coordinate_38, pmid, snippets, score]\n",
       "Index: []"
      ]
     },
     "execution_count": 4,
     "metadata": {},
     "output_type": "execute_result"
    }
   ],
   "source": [
    "mentions[mentions.pmid == \"20020529\"]"
   ]
  },
  {
   "cell_type": "code",
   "execution_count": 5,
   "metadata": {},
   "outputs": [
    {
     "name": "stdout",
     "output_type": "stream",
     "text": [
      "Initial # mentions 16640\n",
      "After dropping duplicates of pyhgvs_Genomic_Coordinate_38+pmid+snippets: 12455\n"
     ]
    }
   ],
   "source": [
    "print(\"Initial # mentions\", mentions.shape[0])\n",
    "pruned_mentions = mentions.drop_duplicates([\"pyhgvs_Genomic_Coordinate_38\", \"pmid\", \"snippets\"])\n",
    "print(\"After dropping duplicates of pyhgvs_Genomic_Coordinate_38+pmid+snippets: {}\".format(pruned_mentions.shape[0]))"
   ]
  },
  {
   "cell_type": "code",
   "execution_count": 6,
   "metadata": {},
   "outputs": [
    {
     "name": "stdout",
     "output_type": "stream",
     "text": [
      "Unpacking 5817 of 12455 snippets with multiple phrases seaparated by '|'\n",
      "21328 individual snippets after expanding and de-duplicating snippets\n"
     ]
    },
    {
     "data": {
      "text/html": [
       "<div>\n",
       "<style scoped>\n",
       "    .dataframe tbody tr th:only-of-type {\n",
       "        vertical-align: middle;\n",
       "    }\n",
       "\n",
       "    .dataframe tbody tr th {\n",
       "        vertical-align: top;\n",
       "    }\n",
       "\n",
       "    .dataframe thead th {\n",
       "        text-align: right;\n",
       "    }\n",
       "</style>\n",
       "<table border=\"1\" class=\"dataframe\">\n",
       "  <thead>\n",
       "    <tr style=\"text-align: right;\">\n",
       "      <th></th>\n",
       "      <th>index</th>\n",
       "      <th>pmid</th>\n",
       "      <th>score</th>\n",
       "      <th>snippets</th>\n",
       "    </tr>\n",
       "    <tr>\n",
       "      <th>pyhgvs_Genomic_Coordinate_38</th>\n",
       "      <th></th>\n",
       "      <th></th>\n",
       "      <th></th>\n",
       "      <th></th>\n",
       "    </tr>\n",
       "  </thead>\n",
       "  <tbody>\n",
       "    <tr>\n",
       "      <th>chr17:g.43092632:T&gt;A</th>\n",
       "      <td>0</td>\n",
       "      <td>10373534</td>\n",
       "      <td>3</td>\n",
       "      <td>1051-1863, using a Clontech transformer site-d...</td>\n",
       "    </tr>\n",
       "    <tr>\n",
       "      <th>chr17:g.43092632:T&gt;A</th>\n",
       "      <td>0</td>\n",
       "      <td>10373534</td>\n",
       "      <td>3</td>\n",
       "      <td>nd S1497T); mutants T967S and T967D were first...</td>\n",
       "    </tr>\n",
       "    <tr>\n",
       "      <th>chr17:g.43092632:T&gt;A</th>\n",
       "      <td>0</td>\n",
       "      <td>10373534</td>\n",
       "      <td>3</td>\n",
       "      <td>Mutagenic primers for S1497A, S1497T,&lt;&lt;&lt; T967S...</td>\n",
       "    </tr>\n",
       "    <tr>\n",
       "      <th>chr17:g.43092632:T&gt;A</th>\n",
       "      <td>1</td>\n",
       "      <td>10373534</td>\n",
       "      <td>3</td>\n",
       "      <td>1051-1863, using a Clontech transformer site-...</td>\n",
       "    </tr>\n",
       "    <tr>\n",
       "      <th>chr17:g.43092632:T&gt;A</th>\n",
       "      <td>1</td>\n",
       "      <td>10373534</td>\n",
       "      <td>3</td>\n",
       "      <td>and S1497T); mutants T967S and T967D were firs...</td>\n",
       "    </tr>\n",
       "  </tbody>\n",
       "</table>\n",
       "</div>"
      ],
      "text/plain": [
       "                              index      pmid score  \\\n",
       "pyhgvs_Genomic_Coordinate_38                          \n",
       "chr17:g.43092632:T>A              0  10373534     3   \n",
       "chr17:g.43092632:T>A              0  10373534     3   \n",
       "chr17:g.43092632:T>A              0  10373534     3   \n",
       "chr17:g.43092632:T>A              1  10373534     3   \n",
       "chr17:g.43092632:T>A              1  10373534     3   \n",
       "\n",
       "                                                                       snippets  \n",
       "pyhgvs_Genomic_Coordinate_38                                                     \n",
       "chr17:g.43092632:T>A          1051-1863, using a Clontech transformer site-d...  \n",
       "chr17:g.43092632:T>A          nd S1497T); mutants T967S and T967D were first...  \n",
       "chr17:g.43092632:T>A          Mutagenic primers for S1497A, S1497T,<<< T967S...  \n",
       "chr17:g.43092632:T>A           1051-1863, using a Clontech transformer site-...  \n",
       "chr17:g.43092632:T>A          and S1497T); mutants T967S and T967D were firs...  "
      ]
     },
     "execution_count": 6,
     "metadata": {},
     "output_type": "execute_result"
    }
   ],
   "source": [
    "# Some of the snippets are multiple mentions separated by | so unpack these,\n",
    "# but limit to 3 as some have as many as 168!\n",
    "print(\"Unpacking {} of {} snippets with multiple phrases seaparated by '|'\".format(\n",
    "    pruned_mentions[pruned_mentions.snippets.str.contains(\"|\", regex=False)].shape[0], pruned_mentions.shape[0]))\n",
    "\n",
    "# https://stackoverflow.com/questions/17116814/pandas-how-do-i-split-text-in-a-column-into-multiple-rows/21032532\n",
    "\n",
    "# Reset index so each row id is unique vs. norm_g_hgvs\n",
    "df = pruned_mentions.reset_index()\n",
    "# df = variant_mentions[variant_mentions.snippet.str.contains(\"|\", regex=False)].iloc[0:100].reset_index()\n",
    "\n",
    "# Generate a new dataframe splitting each snippet segment into its own row\n",
    "# Limit to max of 3 as some of them have > 100\n",
    "snippets = df.apply(lambda x: pd.Series(x.snippets.split(\"|\")[:3]), axis=1).stack()\n",
    "\n",
    "# To line up with the original index\n",
    "snippets.index = snippets.index.droplevel(-1)\n",
    "\n",
    "# Join back to the original dataframe replaceing the old \"snippet\" columnd\n",
    "snippets.name = \"snippets\"\n",
    "del df[\"snippets\"]\n",
    "exploded = df.join(snippets).drop_duplicates(\n",
    "    [\"pyhgvs_Genomic_Coordinate_38\", \"snippets\"]).set_index(\n",
    "    \"pyhgvs_Genomic_Coordinate_38\", drop=True)\n",
    "print(\"{} individual snippets after expanding and de-duplicating snippets\".format(exploded.shape[0]))\n",
    "\n",
    "exploded.head()"
   ]
  },
  {
   "cell_type": "markdown",
   "metadata": {},
   "source": [
    "# Stats"
   ]
  },
  {
   "cell_type": "code",
   "execution_count": 7,
   "metadata": {},
   "outputs": [
    {
     "name": "stdout",
     "output_type": "stream",
     "text": [
      "Max mentions for a single variant: chr17:g.43063903:G>T 125\n",
      "Max mentions for a single paper from one variant: ('chr13:g.32394673:T>C', '22144684') 13\n",
      "Paper referenced from the most variants: 16267036 6368\n"
     ]
    }
   ],
   "source": [
    "print(\"Max mentions for a single variant: {} {}\".format(\n",
    "    exploded.groupby([\"pyhgvs_Genomic_Coordinate_38\"]).size().idxmax(),\n",
    "    exploded.groupby([\"pyhgvs_Genomic_Coordinate_38\"]).size().max()))\n",
    "\n",
    "print(\"Max mentions for a single paper from one variant: {} {}\".format(\n",
    "    exploded.groupby([\"pyhgvs_Genomic_Coordinate_38\", \"pmid\"]).size().idxmax(),\n",
    "    exploded.groupby([\"pyhgvs_Genomic_Coordinate_38\", \"pmid\"]).size().max()))\n",
    "\n",
    "print(\"Paper referenced from the most variants: {} {}\".format(\n",
    "    exploded.groupby([\"pmid\"]).size().idxmax(),\n",
    "    exploded.groupby([\"pmid\"]).size().max()))"
   ]
  },
  {
   "cell_type": "code",
   "execution_count": 8,
   "metadata": {},
   "outputs": [
    {
     "name": "stdout",
     "output_type": "stream",
     "text": [
      "Variant mention stats:\n",
      "count    5174.000000\n",
      "mean        4.122149\n",
      "std         5.799585\n",
      "min         1.000000\n",
      "25%         1.000000\n",
      "50%         2.000000\n",
      "75%         5.000000\n",
      "max       125.000000\n",
      "Name: pyhgvs_Genomic_Coordinate_38, dtype: float64\n"
     ]
    }
   ],
   "source": [
    "print(\"Variant mention stats:\")\n",
    "print(exploded.reset_index().groupby([\"pyhgvs_Genomic_Coordinate_38\"])\n",
    "      [\"pyhgvs_Genomic_Coordinate_38\"].count().describe())"
   ]
  },
  {
   "cell_type": "code",
   "execution_count": 9,
   "metadata": {},
   "outputs": [
    {
     "name": "stdout",
     "output_type": "stream",
     "text": [
      "Paper mentions stats:\n",
      "count     149.000000\n",
      "mean      143.140940\n",
      "std       630.832976\n",
      "min         1.000000\n",
      "25%         7.000000\n",
      "50%        20.000000\n",
      "75%        61.000000\n",
      "max      6368.000000\n",
      "Name: pmid, dtype: float64\n"
     ]
    }
   ],
   "source": [
    "print(\"Paper mentions stats:\")\n",
    "print(exploded.reset_index().groupby([\"pmid\"])\n",
    "      [\"pmid\"].count().describe())"
   ]
  },
  {
   "cell_type": "markdown",
   "metadata": {},
   "source": [
    "## Export"
   ]
  },
  {
   "cell_type": "code",
   "execution_count": 10,
   "metadata": {},
   "outputs": [
    {
     "name": "stdout",
     "output_type": "stream",
     "text": [
      "Combined 21328 separate snippets down to 8802 after grouping by pmid\n"
     ]
    }
   ],
   "source": [
    "# Variants by pyhgvs_Genomic_Coordinate_38 by pmid with all snippets in a list\n",
    "combined = exploded.groupby([\"pyhgvs_Genomic_Coordinate_38\", \"pmid\"])[\"snippets\"].apply(lambda s: s.tolist())\n",
    "print(\"Combined {} separate snippets down to {} after grouping by pmid\".format(exploded.shape[0], combined.shape[0]))"
   ]
  },
  {
   "cell_type": "code",
   "execution_count": 11,
   "metadata": {
    "scrolled": true
   },
   "outputs": [],
   "source": [
    "#     \"variants\": {\n",
    "#         k: {kk: vv[0] for kk, vv in v.unstack().transpose().iterrows()}\n",
    "#         for k, v in combined.groupby(\"pyhgvs_Genomic_Coordinate_38\")},\n",
    "\n",
    "# import itertools\n",
    "# for k, v in exploded.groupby([\"pyhgvs_Genomic_Coordinate_38\", \"pmid\"])[[\"pmid\", \"snippets\", \"score\"]]:\n",
    "#     if \"1\" in v.score.values:\n",
    "#         print(k)\n",
    "#         print(v.score.values)\n"
   ]
  },
  {
   "cell_type": "code",
   "execution_count": 12,
   "metadata": {},
   "outputs": [
    {
     "name": "stdout",
     "output_type": "stream",
     "text": [
      "Exported 5174 variants in 149 papers\n"
     ]
    }
   ],
   "source": [
    "lit = {\n",
    "    \"date\": open(\"pubs-date.txt\").read().strip(),\n",
    "    \"papers\": articles[articles.pmid.isin(pruned_mentions.pmid)].set_index(\"pmid\", drop=False).to_dict(orient=\"index\"),\n",
    "    \"variants\": {\n",
    "        k: {kk: vv[0] for kk, vv in v.unstack().transpose().iterrows()}\n",
    "        for k, v in combined.groupby(\"pyhgvs_Genomic_Coordinate_38\")},\n",
    "}\n",
    "\n",
    "with open(\"literature.json\", \"w\") as output:\n",
    "    output.write(json.dumps(lit, sort_keys=True))\n",
    "    \n",
    "print(\"Exported {} variants in {} papers\".format(\n",
    "    len(lit[\"variants\"].keys()), len(lit[\"papers\"].keys())))"
   ]
  },
  {
   "cell_type": "code",
   "execution_count": 13,
   "metadata": {},
   "outputs": [
    {
     "name": "stdout",
     "output_type": "stream",
     "text": [
      "149 Papers and 5174 Variants exported\n"
     ]
    }
   ],
   "source": [
    "with open(\"literature.json\") as f:\n",
    "    lit = json.loads(f.read())\n",
    "print(\"{} Papers and {} Variants exported\".format(len(lit[\"papers\"]), len(lit[\"variants\"])))"
   ]
  }
 ],
 "metadata": {
  "kernelspec": {
   "display_name": "Python 3",
   "language": "python",
   "name": "python3"
  },
  "language_info": {
   "codemirror_mode": {
    "name": "ipython",
    "version": 3
   },
   "file_extension": ".py",
   "mimetype": "text/x-python",
   "name": "python",
   "nbconvert_exporter": "python",
   "pygments_lexer": "ipython3",
   "version": "3.6.8"
  }
 },
 "nbformat": 4,
 "nbformat_minor": 2
}
